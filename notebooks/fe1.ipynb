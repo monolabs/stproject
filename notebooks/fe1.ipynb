{
 "cells": [
  {
   "cell_type": "code",
   "execution_count": 2,
   "metadata": {},
   "outputs": [],
   "source": [
    "from pathlib import Path\n",
    "import math\n",
    "import numpy as np\n",
    "import pandas as pd\n",
    "from rdkit import Chem\n",
    "from rdkit.Chem import PandasTools\n",
    "\n",
    "import sys\n",
    "sys.path.insert(1, '../src/stproject')\n",
    "from utils import *\n",
    "\n",
    "import os\n",
    "os.environ[\"PATH\"] += os.pathsep + 'C:/Program Files/Graphviz 2.44.1/bin/'\n",
    "\n",
    "pd.set_option('display.width', 500, 'display.max_rows', None, 'display.max_columns', None)\n",
    "data_dir_raw = Path('../data')"
   ]
  },
  {
   "cell_type": "markdown",
   "metadata": {},
   "source": [
    "## Feature engineering 1\n",
    "features:<br>\n",
    "'C' (# of 4 coord C)<br>\n",
    "'CH' (# of 3 coord C)<br>\n",
    "'CH2' (# of 2 coord C)<br>\n",
    "'CH3' (# of 1 coord C)<br>\n",
    "'C=C' (# of C=C)<br>\n",
    "'C#C' (# of C#C)<br>\n",
    "'Ar' (# of aryl (C6))<br>\n",
    "'OH' (# of hydroxyl)<br>\n",
    "'C-O-C' (# of ether)<br>\n",
    "'CHO' (# of aldehyde)<br>\n",
    "'CO' (# of ketone)<br>\n",
    "'COOH' (# of carboxylic acid)<br>\n",
    "'COOR' (# of ester)<br>"
   ]
  },
  {
   "cell_type": "markdown",
   "metadata": {},
   "source": [
    "### fe1 - liquid surface tension dataset"
   ]
  },
  {
   "cell_type": "code",
   "execution_count": 3,
   "metadata": {},
   "outputs": [],
   "source": [
    "df_stliq_clean = pd.read_csv(data_dir_raw / 'df_stliq_clean.csv', index_col=0)\n",
    "\n",
    "# adding column hosting RDKit molecule object from smiles\n",
    "PandasTools.AddMoleculeColumnToFrame(df_stliq_clean, 'smiles', 'rdkmol', includeFingerprints=True)\n",
    "\n",
    "# feature engineering + exporting data\n",
    "df_fe1 = construct_features(df_stliq_clean['rdkmol'], count_frags_1)\n",
    "df_fe1.set_index(df_stliq_clean.index, inplace=True) # recovering original index\n",
    "\n",
    "# appending measured_st and molecule name from df_stliq_clean\n",
    "df_fe1['measured_st'] = df_stliq_clean['measured_st']\n",
    "df_fe1['molecule'] = df_stliq_clean['molecule']\n",
    "df_fe1['density'] = df_stliq_clean['density']\n",
    "\n",
    "df_fe1 = df_fe1[~df_fe1['molecule'].str.contains('anhydride|carbonate|Formic acid|Furan')]\n",
    "df_fe1.to_csv(data_dir_raw / 'df_fe1.csv')"
   ]
  },
  {
   "cell_type": "markdown",
   "metadata": {},
   "source": [
    "### fe1- diols and acids reference table"
   ]
  },
  {
   "cell_type": "code",
   "execution_count": 4,
   "metadata": {},
   "outputs": [],
   "source": [
    "# DIOLS\n",
    "df_diols = pd.read_csv(data_dir_raw / 'diols_ref.csv', index_col=0)\n",
    "\n",
    "# adding column hosting RDKit molecule object from smiles\n",
    "PandasTools.AddMoleculeColumnToFrame(df_diols, 'smiles', 'rdkmol', includeFingerprints=True)\n",
    "\n",
    "# adding features from feature engineering 0\n",
    "df_diols_fe1 = construct_features(df_diols['rdkmol'], count_frags_1)\n",
    "df_diols_fe1.set_index(df_diols.index, inplace=True) # recovering original index\n",
    "\n",
    "df_diols_fe1.to_csv(data_dir_raw / 'df_diols_fe1.csv')\n",
    "\n",
    "\n",
    "#ACIDS\n",
    "df_acids = pd.read_csv(data_dir_raw / 'acids_ref.csv', index_col=0)\n",
    "\n",
    "# adding column hosting RDKit molecule object from smiles\n",
    "PandasTools.AddMoleculeColumnToFrame(df_acids, 'smiles', 'rdkmol', includeFingerprints=True)\n",
    "\n",
    "# adding features from feature engineering 0\n",
    "df_acids_fe1 = construct_features(df_acids['rdkmol'], count_frags_1)\n",
    "df_acids_fe1.set_index(df_acids.index, inplace=True) # recovering original index\n",
    "\n",
    "df_acids_fe1.to_csv(data_dir_raw / 'df_acids_fe1.csv')"
   ]
  },
  {
   "cell_type": "markdown",
   "metadata": {},
   "source": [
    "### fe1 - polymer molar volumes dataset\n",
    "this section needs to be corrected. Particularly the C=C correction after polymerization"
   ]
  },
  {
   "cell_type": "code",
   "execution_count": 8,
   "metadata": {},
   "outputs": [],
   "source": [
    "df_mvpolym = pd.read_csv(data_dir_raw / 'df_mvpolym.csv')\n",
    "\n",
    "# combining repeating units, smiles and molar ratios into 1 column each, containing list of repeating units, smiles\n",
    "# and molar ratios respectively\n",
    "df_mvpolym['ru'] = df_mvpolym.filter(regex='ru').values.tolist()\n",
    "df_mvpolym['smiles'] = df_mvpolym.filter(regex='smiles').values.tolist()\n",
    "df_mvpolym['molfrac'] = df_mvpolym.filter(regex='molfrac').values.tolist()\n",
    "\n",
    "# constructing list of mols from list of smiles\n",
    "def construct_rdkmol_list(df):\n",
    "    smiles_list = [smiles for smiles in df['smiles'] if type(smiles) == str] \n",
    "    return [Chem.MolFromSmiles(smiles) for smiles in smiles_list]\n",
    "\n",
    "df_mvpolym['rdkmol'] = df_mvpolym.apply(construct_rdkmol_list, axis=1)\n",
    "\n",
    "# constructing average features\n",
    "# this preserves the indices\n",
    "df_mvpolym_fe1 = construct_avg_features(df_mvpolym['rdkmol'], df_mvpolym['molfrac'], count_frags_1)\n",
    "\n",
    "# appending polymer type, name and measured molar volume\n",
    "df_mvpolym_fe1['type'] = df_mvpolym['type']\n",
    "df_mvpolym_fe1['polymer'] = df_mvpolym['polymer']\n",
    "df_mvpolym_fe1['measured_mv'] = df_mvpolym['measured_mv']\n",
    "df_mvpolym_fe1['ru'] = df_mvpolym['ru']\n",
    "\n",
    "# correcting features based on the type of polymer\n",
    "# can be thought of as atoms/fragments lost from polymerization \n",
    "# i.e. acid and OH loss for condensation, CH2-ring ring for polyether and C=C for radical polymers\n",
    "df_mvpolym_fe1.loc[df_mvpolym_fe1['type'] == 'polyester', 'OH'] -= 1\n",
    "df_mvpolym_fe1.loc[df_mvpolym_fe1['type'] == 'polyester', 'COOH'] -= 1\n",
    "df_mvpolym_fe1.loc[df_mvpolym_fe1['type'] == 'polyester', 'COOR'] += 1\n",
    "df_mvpolym_fe1.loc[df_mvpolym_fe1['type'] == 'radical', 'C=C'] -= 1\n",
    "### C/CH/CH2 needs to be added for radical polymers\n",
    "### C-ring/CH-ring/CH2-ring needs to be subtracted and the respective C/CH/CH2 added\n",
    "### These two are done manually as of now on the csv file\n",
    "\n",
    "# manually correcting poly(methylene oxide)\n",
    "# df_mvpolym_fe1.loc[df_mvpolym_fe0['polymer'] == 'poly(methylene oxide)', ['O-eth', 'O-ester', 'R3']] = [1, 0, 0]\n",
    "\n",
    "# scaling mv by number of repeating units for polyesters\n",
    "df_mvpolym_fe1['measured_mv_scaled'] = df_mvpolym_fe1['measured_mv'] / df_mvpolym_fe1['ru'].apply(len)\n",
    "\n",
    "df_mvpolym_fe1.to_csv(data_dir_raw / 'df_mvpolym_fe1.csv')"
   ]
  },
  {
   "cell_type": "code",
   "execution_count": null,
   "metadata": {},
   "outputs": [],
   "source": []
  }
 ],
 "metadata": {
  "kernelspec": {
   "display_name": "Python 3",
   "language": "python",
   "name": "python3"
  },
  "language_info": {
   "codemirror_mode": {
    "name": "ipython",
    "version": 3
   },
   "file_extension": ".py",
   "mimetype": "text/x-python",
   "name": "python",
   "nbconvert_exporter": "python",
   "pygments_lexer": "ipython3",
   "version": "3.7.7"
  }
 },
 "nbformat": 4,
 "nbformat_minor": 4
}
