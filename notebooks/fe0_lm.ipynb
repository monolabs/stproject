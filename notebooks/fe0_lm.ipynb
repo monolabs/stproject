{
 "cells": [
  {
   "cell_type": "code",
   "execution_count": 2,
   "metadata": {},
   "outputs": [],
   "source": [
    "import numpy as np\n",
    "import pandas as pd\n",
    "import matplotlib.pyplot as plt\n",
    "import seaborn as sns\n",
    "%matplotlib inline\n",
    "\n",
    "from sklearn.linear_model import LinearRegression\n",
    "import sklearn.metrics as metrics\n",
    "\n",
    "import sys\n",
    "sys.path.insert(1, '../src/stproject')\n",
    "from utils import *\n",
    "\n",
    "import pickle"
   ]
  },
  {
   "cell_type": "code",
   "execution_count": 3,
   "metadata": {},
   "outputs": [
    {
     "name": "stdout",
     "output_type": "stream",
     "text": [
      "268\n"
     ]
    },
    {
     "data": {
      "text/html": [
       "<div>\n",
       "<style scoped>\n",
       "    .dataframe tbody tr th:only-of-type {\n",
       "        vertical-align: middle;\n",
       "    }\n",
       "\n",
       "    .dataframe tbody tr th {\n",
       "        vertical-align: top;\n",
       "    }\n",
       "\n",
       "    .dataframe thead th {\n",
       "        text-align: right;\n",
       "    }\n",
       "</style>\n",
       "<table border=\"1\" class=\"dataframe\">\n",
       "  <thead>\n",
       "    <tr style=\"text-align: right;\">\n",
       "      <th></th>\n",
       "      <th>C</th>\n",
       "      <th>H</th>\n",
       "      <th>C=C</th>\n",
       "      <th>C#C</th>\n",
       "      <th>Ar</th>\n",
       "      <th>O-alc</th>\n",
       "      <th>O-eth</th>\n",
       "      <th>O-ald</th>\n",
       "      <th>O-ket</th>\n",
       "      <th>O-acid</th>\n",
       "      <th>...</th>\n",
       "      <th>R4</th>\n",
       "      <th>R5</th>\n",
       "      <th>R6</th>\n",
       "      <th>R7</th>\n",
       "      <th>R8</th>\n",
       "      <th>M</th>\n",
       "      <th>measured_st</th>\n",
       "      <th>molecule</th>\n",
       "      <th>density</th>\n",
       "      <th>mv</th>\n",
       "    </tr>\n",
       "  </thead>\n",
       "  <tbody>\n",
       "    <tr>\n",
       "      <th>1</th>\n",
       "      <td>5.0</td>\n",
       "      <td>12.0</td>\n",
       "      <td>0.0</td>\n",
       "      <td>0.0</td>\n",
       "      <td>0.0</td>\n",
       "      <td>0.0</td>\n",
       "      <td>0.0</td>\n",
       "      <td>0.0</td>\n",
       "      <td>0.0</td>\n",
       "      <td>0.0</td>\n",
       "      <td>...</td>\n",
       "      <td>0.0</td>\n",
       "      <td>0.0</td>\n",
       "      <td>0.0</td>\n",
       "      <td>0.0</td>\n",
       "      <td>0.0</td>\n",
       "      <td>72.151</td>\n",
       "      <td>15.5</td>\n",
       "      <td>Pentane</td>\n",
       "      <td>0.62638</td>\n",
       "      <td>115.187267</td>\n",
       "    </tr>\n",
       "    <tr>\n",
       "      <th>2</th>\n",
       "      <td>6.0</td>\n",
       "      <td>14.0</td>\n",
       "      <td>0.0</td>\n",
       "      <td>0.0</td>\n",
       "      <td>0.0</td>\n",
       "      <td>0.0</td>\n",
       "      <td>0.0</td>\n",
       "      <td>0.0</td>\n",
       "      <td>0.0</td>\n",
       "      <td>0.0</td>\n",
       "      <td>...</td>\n",
       "      <td>0.0</td>\n",
       "      <td>0.0</td>\n",
       "      <td>0.0</td>\n",
       "      <td>0.0</td>\n",
       "      <td>0.0</td>\n",
       "      <td>86.178</td>\n",
       "      <td>18.0</td>\n",
       "      <td>Hexane</td>\n",
       "      <td>0.65940</td>\n",
       "      <td>130.691538</td>\n",
       "    </tr>\n",
       "    <tr>\n",
       "      <th>3</th>\n",
       "      <td>7.0</td>\n",
       "      <td>16.0</td>\n",
       "      <td>0.0</td>\n",
       "      <td>0.0</td>\n",
       "      <td>0.0</td>\n",
       "      <td>0.0</td>\n",
       "      <td>0.0</td>\n",
       "      <td>0.0</td>\n",
       "      <td>0.0</td>\n",
       "      <td>0.0</td>\n",
       "      <td>...</td>\n",
       "      <td>0.0</td>\n",
       "      <td>0.0</td>\n",
       "      <td>0.0</td>\n",
       "      <td>0.0</td>\n",
       "      <td>0.0</td>\n",
       "      <td>100.205</td>\n",
       "      <td>19.8</td>\n",
       "      <td>Heptane</td>\n",
       "      <td>0.68420</td>\n",
       "      <td>146.455715</td>\n",
       "    </tr>\n",
       "    <tr>\n",
       "      <th>4</th>\n",
       "      <td>8.0</td>\n",
       "      <td>18.0</td>\n",
       "      <td>0.0</td>\n",
       "      <td>0.0</td>\n",
       "      <td>0.0</td>\n",
       "      <td>0.0</td>\n",
       "      <td>0.0</td>\n",
       "      <td>0.0</td>\n",
       "      <td>0.0</td>\n",
       "      <td>0.0</td>\n",
       "      <td>...</td>\n",
       "      <td>0.0</td>\n",
       "      <td>0.0</td>\n",
       "      <td>0.0</td>\n",
       "      <td>0.0</td>\n",
       "      <td>0.0</td>\n",
       "      <td>114.232</td>\n",
       "      <td>21.1</td>\n",
       "      <td>Octane</td>\n",
       "      <td>0.70310</td>\n",
       "      <td>162.469066</td>\n",
       "    </tr>\n",
       "    <tr>\n",
       "      <th>5</th>\n",
       "      <td>9.0</td>\n",
       "      <td>20.0</td>\n",
       "      <td>0.0</td>\n",
       "      <td>0.0</td>\n",
       "      <td>0.0</td>\n",
       "      <td>0.0</td>\n",
       "      <td>0.0</td>\n",
       "      <td>0.0</td>\n",
       "      <td>0.0</td>\n",
       "      <td>0.0</td>\n",
       "      <td>...</td>\n",
       "      <td>0.0</td>\n",
       "      <td>0.0</td>\n",
       "      <td>0.0</td>\n",
       "      <td>0.0</td>\n",
       "      <td>0.0</td>\n",
       "      <td>128.259</td>\n",
       "      <td>22.4</td>\n",
       "      <td>Nonane</td>\n",
       "      <td>0.71760</td>\n",
       "      <td>178.733278</td>\n",
       "    </tr>\n",
       "  </tbody>\n",
       "</table>\n",
       "<p>5 rows × 22 columns</p>\n",
       "</div>"
      ],
      "text/plain": [
       "     C     H  C=C  C#C   Ar  O-alc  O-eth  O-ald  O-ket  O-acid  ...   R4  \\\n",
       "1  5.0  12.0  0.0  0.0  0.0    0.0    0.0    0.0    0.0     0.0  ...  0.0   \n",
       "2  6.0  14.0  0.0  0.0  0.0    0.0    0.0    0.0    0.0     0.0  ...  0.0   \n",
       "3  7.0  16.0  0.0  0.0  0.0    0.0    0.0    0.0    0.0     0.0  ...  0.0   \n",
       "4  8.0  18.0  0.0  0.0  0.0    0.0    0.0    0.0    0.0     0.0  ...  0.0   \n",
       "5  9.0  20.0  0.0  0.0  0.0    0.0    0.0    0.0    0.0     0.0  ...  0.0   \n",
       "\n",
       "    R5   R6   R7   R8        M  measured_st  molecule  density          mv  \n",
       "1  0.0  0.0  0.0  0.0   72.151         15.5   Pentane  0.62638  115.187267  \n",
       "2  0.0  0.0  0.0  0.0   86.178         18.0    Hexane  0.65940  130.691538  \n",
       "3  0.0  0.0  0.0  0.0  100.205         19.8   Heptane  0.68420  146.455715  \n",
       "4  0.0  0.0  0.0  0.0  114.232         21.1    Octane  0.70310  162.469066  \n",
       "5  0.0  0.0  0.0  0.0  128.259         22.4    Nonane  0.71760  178.733278  \n",
       "\n",
       "[5 rows x 22 columns]"
      ]
     },
     "execution_count": 3,
     "metadata": {},
     "output_type": "execute_result"
    }
   ],
   "source": [
    "# importing feature-engineered dataset v1 (df_fe1.csv)\n",
    "\n",
    "df_fe0 = pd.read_csv('../data/df_fe0.csv', index_col=0)\n",
    "\n",
    "# computing new feature: molar volume (mv = M/density)\n",
    "df_fe0['mv'] = df_fe0['M']/df_fe0['density']\n",
    "print(len(df_fe0))\n",
    "df_fe0.head()"
   ]
  },
  {
   "cell_type": "markdown",
   "metadata": {},
   "source": [
    "## Linear model for mv"
   ]
  },
  {
   "cell_type": "code",
   "execution_count": 47,
   "metadata": {},
   "outputs": [
    {
     "data": {
      "text/plain": [
       "185"
      ]
     },
     "execution_count": 47,
     "metadata": {},
     "output_type": "execute_result"
    }
   ],
   "source": [
    "# exclusion of samples with certain motifs due to lack of datapoints and/or irrelevance to polyester\n",
    "features_exclude = ['C#C', 'R3', 'R4', 'R7', 'R8', 'O-alc', 'O-ald', 'O-acid', 'O-ket']\n",
    "df_fe0 = df_fe0[df_fe0[features_exclude].sum(axis=1) == 0]\n",
    "len(df_fe0)"
   ]
  },
  {
   "cell_type": "code",
   "execution_count": 48,
   "metadata": {},
   "outputs": [],
   "source": [
    "st = df_fe0['measured_st']\n",
    "mv = df_fe0['mv']"
   ]
  },
  {
   "cell_type": "code",
   "execution_count": 49,
   "metadata": {},
   "outputs": [
    {
     "name": "stdout",
     "output_type": "stream",
     "text": [
      "explained_variance:  0.9991\n",
      "mean_squared_log_error:  0.0003\n",
      "r2:  0.9991\n",
      "MAE:  1.7604\n",
      "MSE:  6.4838\n",
      "RMSE:  2.5463\n",
      "         var       coef\n",
      "0  intercept  18.266681\n",
      "1          C   6.034034\n",
      "2          H   5.271587\n",
      "3        C=C   2.980169\n",
      "4         Ar   2.786611\n",
      "5      O-eth   6.045582\n",
      "6    O-ester   7.245555\n",
      "7         R5  -5.687757\n",
      "8         R6  -8.663393\n"
     ]
    }
   ],
   "source": [
    "X_mv = df_fe0.drop(['M', 'measured_st', 'molecule', 'density', 'mv']+features_exclude, axis=1)\n",
    "\n",
    "lm_mv = LinearRegression()\n",
    "lm_mv.fit(X_mv, mv)\n",
    "\n",
    "mv_hat = lm_mv.predict(X_mv)\n",
    "regression_results(mv, mv_hat)\n",
    "coef_mv = (pd.DataFrame({'var': ['intercept']+X_mv.columns.tolist(), 'coef': [lm_mv.intercept_]+list(lm_mv.coef_)}))\n",
    "\n",
    "mv_hat = lm_mv.predict(X_mv)\n",
    "print(coef_mv)"
   ]
  },
  {
   "cell_type": "code",
   "execution_count": 100,
   "metadata": {},
   "outputs": [
    {
     "data": {
      "text/plain": [
       "Text(0.5, 1.0, 'Linear Model - mv')"
      ]
     },
     "execution_count": 100,
     "metadata": {},
     "output_type": "execute_result"
    },
    {
     "data": {
      "image/png": "[encoded data removed]",
      "text/plain": [
       "<Figure size 432x288 with 1 Axes>"
      ]
     },
     "metadata": {
      "needs_background": "light"
     },
     "output_type": "display_data"
    }
   ],
   "source": [
    "sns.scatterplot(mv_hat, mv)\n",
    "sns.lineplot(x=[0, 550], y=[0, 550], alpha=0.2)\n",
    "plt.xlabel('predicted molar volume')\n",
    "plt.ylabel('molar volume\\n(calculated from M/density)')\n",
    "plt.title('Linear Model - mv', {'fontsize': 15, 'weight': 'bold'})"
   ]
  },
  {
   "cell_type": "markdown",
   "metadata": {},
   "source": [
    "### Linear model 0 - parachor model\n",
    "\n",
    "In this model, surface tension (gamma) is expressed as gamma = (P/mv)^n, with <br> \n",
    "mv = M/density <br>\n",
    "n = power (value of 4 is suggested by literatures)"
   ]
  },
  {
   "cell_type": "code",
   "execution_count": 137,
   "metadata": {},
   "outputs": [],
   "source": [
    "n = 4\n",
    "X0 = df_fe0.drop(['M', 'measured_st', 'molecule', 'density', 'mv']+features_exclude, axis=1)\n",
    "y0 = (st**(1/n)) * mv"
   ]
  },
  {
   "cell_type": "code",
   "execution_count": 146,
   "metadata": {},
   "outputs": [
    {
     "name": "stdout",
     "output_type": "stream",
     "text": [
      "explained_variance:  0.8712\n",
      "mean_squared_log_error:  0.0028\n",
      "r2:  0.8712\n",
      "MAE:  0.8753\n",
      "MSE:  2.325\n",
      "RMSE:  1.5248\n",
      "         var       coef\n",
      "0  intercept  18.099149\n",
      "1          C  21.415582\n",
      "2          H   8.765918\n",
      "3        C=C   6.990393\n",
      "4         Ar   5.348100\n",
      "5      O-eth  20.095641\n",
      "6    O-ester  20.193352\n",
      "7         R5  -8.798219\n",
      "8         R6 -12.648627\n"
     ]
    }
   ],
   "source": [
    "lm0 = LinearRegression()\n",
    "lm0.fit(X0, y0)\n",
    "y_hat0 = lm0.predict(X0)\n",
    "st_hat0 = (y_hat0/mv)**n\n",
    "\n",
    "regression_results(st, st_hat0)\n",
    "coef0 = (pd.DataFrame({'var': ['intercept']+X0.columns.tolist(), 'coef': [lm0.intercept_]+list(lm0.coef_)}))\n",
    "print(coef0)\n",
    "\n",
    "with open('../models/lm0.pickle','wb') as modelFile:\n",
    "    pickle.dump(lm0,modelFile)"
   ]
  },
  {
   "cell_type": "code",
   "execution_count": 152,
   "metadata": {},
   "outputs": [
    {
     "data": {
      "text/html": [
       "<div>\n",
       "<style scoped>\n",
       "    .dataframe tbody tr th:only-of-type {\n",
       "        vertical-align: middle;\n",
       "    }\n",
       "\n",
       "    .dataframe tbody tr th {\n",
       "        vertical-align: top;\n",
       "    }\n",
       "\n",
       "    .dataframe thead th {\n",
       "        text-align: right;\n",
       "    }\n",
       "</style>\n",
       "<table border=\"1\" class=\"dataframe\">\n",
       "  <thead>\n",
       "    <tr style=\"text-align: right;\">\n",
       "      <th></th>\n",
       "      <th>molecule</th>\n",
       "      <th>measured_st</th>\n",
       "      <th>density</th>\n",
       "      <th>mv</th>\n",
       "    </tr>\n",
       "  </thead>\n",
       "  <tbody>\n",
       "    <tr>\n",
       "      <th>186</th>\n",
       "      <td>Hexyl formate</td>\n",
       "      <td>26.4</td>\n",
       "      <td>0.9900</td>\n",
       "      <td>131.502020</td>\n",
       "    </tr>\n",
       "    <tr>\n",
       "      <th>192</th>\n",
       "      <td>Propyl acetate</td>\n",
       "      <td>23.8</td>\n",
       "      <td>0.8360</td>\n",
       "      <td>122.168660</td>\n",
       "    </tr>\n",
       "    <tr>\n",
       "      <th>53</th>\n",
       "      <td>1,2,3-Trimethylbenzene</td>\n",
       "      <td>28.3</td>\n",
       "      <td>0.8944</td>\n",
       "      <td>134.386181</td>\n",
       "    </tr>\n",
       "    <tr>\n",
       "      <th>283</th>\n",
       "      <td>2,2,4,4,6,8,8-Heptamethylnonane</td>\n",
       "      <td>24.2</td>\n",
       "      <td>0.7930</td>\n",
       "      <td>285.558638</td>\n",
       "    </tr>\n",
       "    <tr>\n",
       "      <th>235</th>\n",
       "      <td>Methyl palmitate</td>\n",
       "      <td>29.6</td>\n",
       "      <td>0.8520</td>\n",
       "      <td>317.437793</td>\n",
       "    </tr>\n",
       "  </tbody>\n",
       "</table>\n",
       "</div>"
      ],
      "text/plain": [
       "                            molecule  measured_st  density          mv\n",
       "186                    Hexyl formate         26.4   0.9900  131.502020\n",
       "192                   Propyl acetate         23.8   0.8360  122.168660\n",
       "53            1,2,3-Trimethylbenzene         28.3   0.8944  134.386181\n",
       "283  2,2,4,4,6,8,8-Heptamethylnonane         24.2   0.7930  285.558638\n",
       "235                 Methyl palmitate         29.6   0.8520  317.437793"
      ]
     },
     "execution_count": 152,
     "metadata": {},
     "output_type": "execute_result"
    }
   ],
   "source": [
    "# points with highest error (in descending order)\n",
    "i_out0 = abs(st-st_hat0).sort_values(ascending=False).index[:5]\n",
    "st_out0 = st[i_out0]\n",
    "st_hat_out0 = st_hat0[i_out0]\n",
    "df_fe0.loc[i_out0, ['molecule', 'measured_st', 'density', 'mv']]"
   ]
  },
  {
   "cell_type": "code",
   "execution_count": 154,
   "metadata": {},
   "outputs": [
    {
     "data": {
      "text/plain": [
       "Text(0.5, 1.0, 'Linear Model 0\\nParachor')"
      ]
     },
     "execution_count": 154,
     "metadata": {},
     "output_type": "execute_result"
    },
    {
     "data": {
      "image/png": "[encoded data removed]",
      "text/plain": [
       "<Figure size 432x288 with 1 Axes>"
      ]
     },
     "metadata": {
      "needs_background": "light"
     },
     "output_type": "display_data"
    }
   ],
   "source": [
    "sns.scatterplot(st_hat0, st)\n",
    "sns.scatterplot(st_hat_out0, st_out0)\n",
    "sns.lineplot(x=[15, 40], y=[15, 40], alpha=0.2)\n",
    "plt.xlabel('predicted surface tension')\n",
    "plt.ylabel('measured surface tension')\n",
    "plt.title('Linear Model 0\\nParachor', {'fontsize': 12, 'weight': 'bold'})"
   ]
  },
  {
   "cell_type": "markdown",
   "metadata": {},
   "source": [
    "### Linear model 1 - with features (molecular fragments) normalized by M\n",
    "\n",
    "In this model, only molecular fragments normalized (divided) by M are used as regressors."
   ]
  },
  {
   "cell_type": "code",
   "execution_count": 54,
   "metadata": {},
   "outputs": [
    {
     "data": {
      "text/html": [
       "<div>\n",
       "<style scoped>\n",
       "    .dataframe tbody tr th:only-of-type {\n",
       "        vertical-align: middle;\n",
       "    }\n",
       "\n",
       "    .dataframe tbody tr th {\n",
       "        vertical-align: top;\n",
       "    }\n",
       "\n",
       "    .dataframe thead th {\n",
       "        text-align: right;\n",
       "    }\n",
       "</style>\n",
       "<table border=\"1\" class=\"dataframe\">\n",
       "  <thead>\n",
       "    <tr style=\"text-align: right;\">\n",
       "      <th></th>\n",
       "      <th>C</th>\n",
       "      <th>H</th>\n",
       "      <th>C=C</th>\n",
       "      <th>Ar</th>\n",
       "      <th>O-eth</th>\n",
       "      <th>O-ester</th>\n",
       "      <th>R5</th>\n",
       "      <th>R6</th>\n",
       "    </tr>\n",
       "  </thead>\n",
       "  <tbody>\n",
       "    <tr>\n",
       "      <th>1</th>\n",
       "      <td>0.069299</td>\n",
       "      <td>0.166318</td>\n",
       "      <td>0.0</td>\n",
       "      <td>0.0</td>\n",
       "      <td>0.0</td>\n",
       "      <td>0.0</td>\n",
       "      <td>0.0</td>\n",
       "      <td>0.0</td>\n",
       "    </tr>\n",
       "    <tr>\n",
       "      <th>2</th>\n",
       "      <td>0.069623</td>\n",
       "      <td>0.162454</td>\n",
       "      <td>0.0</td>\n",
       "      <td>0.0</td>\n",
       "      <td>0.0</td>\n",
       "      <td>0.0</td>\n",
       "      <td>0.0</td>\n",
       "      <td>0.0</td>\n",
       "    </tr>\n",
       "    <tr>\n",
       "      <th>3</th>\n",
       "      <td>0.069857</td>\n",
       "      <td>0.159673</td>\n",
       "      <td>0.0</td>\n",
       "      <td>0.0</td>\n",
       "      <td>0.0</td>\n",
       "      <td>0.0</td>\n",
       "      <td>0.0</td>\n",
       "      <td>0.0</td>\n",
       "    </tr>\n",
       "    <tr>\n",
       "      <th>4</th>\n",
       "      <td>0.070033</td>\n",
       "      <td>0.157574</td>\n",
       "      <td>0.0</td>\n",
       "      <td>0.0</td>\n",
       "      <td>0.0</td>\n",
       "      <td>0.0</td>\n",
       "      <td>0.0</td>\n",
       "      <td>0.0</td>\n",
       "    </tr>\n",
       "    <tr>\n",
       "      <th>5</th>\n",
       "      <td>0.070171</td>\n",
       "      <td>0.155934</td>\n",
       "      <td>0.0</td>\n",
       "      <td>0.0</td>\n",
       "      <td>0.0</td>\n",
       "      <td>0.0</td>\n",
       "      <td>0.0</td>\n",
       "      <td>0.0</td>\n",
       "    </tr>\n",
       "  </tbody>\n",
       "</table>\n",
       "</div>"
      ],
      "text/plain": [
       "          C         H  C=C   Ar  O-eth  O-ester   R5   R6\n",
       "1  0.069299  0.166318  0.0  0.0    0.0      0.0  0.0  0.0\n",
       "2  0.069623  0.162454  0.0  0.0    0.0      0.0  0.0  0.0\n",
       "3  0.069857  0.159673  0.0  0.0    0.0      0.0  0.0  0.0\n",
       "4  0.070033  0.157574  0.0  0.0    0.0      0.0  0.0  0.0\n",
       "5  0.070171  0.155934  0.0  0.0    0.0      0.0  0.0  0.0"
      ]
     },
     "execution_count": 54,
     "metadata": {},
     "output_type": "execute_result"
    }
   ],
   "source": [
    "X1 = (df_fe0.drop(['M', 'measured_st', 'molecule', 'density', 'mv']+features_exclude, axis=1)\n",
    "                   .divide(df_fe0['M'], axis=0))\n",
    "X1.head()"
   ]
  },
  {
   "cell_type": "code",
   "execution_count": 55,
   "metadata": {},
   "outputs": [
    {
     "name": "stdout",
     "output_type": "stream",
     "text": [
      "explained_variance:  0.8611\n",
      "mean_squared_log_error:  0.0036\n",
      "r2:  0.8582\n",
      "MAE:  1.2032\n",
      "MSE:  2.5606\n",
      "RMSE:  1.6002\n",
      "         var          coef\n",
      "0  intercept -1.442167e+15\n",
      "1          C  1.732186e+16\n",
      "2          H  1.453704e+15\n",
      "3        C=C -1.018702e+03\n",
      "4         Ar -3.691845e+03\n",
      "5      O-eth  2.307322e+16\n",
      "6    O-ester  2.307322e+16\n",
      "7         R5 -6.617434e+02\n",
      "8         R6 -5.714224e+02\n"
     ]
    }
   ],
   "source": [
    "lm1 = LinearRegression()\n",
    "lm1.fit(X1, st)\n",
    "y1_hat = lm1.predict(X1)\n",
    "\n",
    "regression_results(st, y1_hat)\n",
    "coef1 = (pd.DataFrame({'var': ['intercept']+X1.columns.tolist(), 'coef': [lm1.intercept_]+list(lm1.coef_)}))\n",
    "print(coef1)\n",
    "\n",
    "with open('../models/lm1.pickle','wb') as modelFile:\n",
    "    pickle.dump(lm1,modelFile)"
   ]
  },
  {
   "cell_type": "code",
   "execution_count": 109,
   "metadata": {},
   "outputs": [
    {
     "data": {
      "text/plain": [
       "Text(0.5, 1.0, 'Linear Model 2\\nM-normalized fragments')"
      ]
     },
     "execution_count": 109,
     "metadata": {},
     "output_type": "execute_result"
    },
    {
     "data": {
      "image/png": "[encoded data removed]",
      "text/plain": [
       "<Figure size 432x288 with 1 Axes>"
      ]
     },
     "metadata": {
      "needs_background": "light"
     },
     "output_type": "display_data"
    }
   ],
   "source": [
    "sns.scatterplot(y1_hat, st)\n",
    "sns.lineplot(x=[10, 45], y=[10, 45], alpha=0.2)\n",
    "plt.xlabel('predicted surface tension')\n",
    "plt.ylabel('measured surface tension')\n",
    "plt.title('Linear Model 2\\nM-normalized fragments', {'fontsize': 12, 'weight': 'bold'})"
   ]
  },
  {
   "cell_type": "markdown",
   "metadata": {},
   "source": [
    "# Preparation of test set"
   ]
  },
  {
   "cell_type": "code",
   "execution_count": 64,
   "metadata": {},
   "outputs": [
    {
     "data": {
      "text/html": [
       "<div>\n",
       "<style scoped>\n",
       "    .dataframe tbody tr th:only-of-type {\n",
       "        vertical-align: middle;\n",
       "    }\n",
       "\n",
       "    .dataframe tbody tr th {\n",
       "        vertical-align: top;\n",
       "    }\n",
       "\n",
       "    .dataframe thead th {\n",
       "        text-align: right;\n",
       "    }\n",
       "</style>\n",
       "<table border=\"1\" class=\"dataframe\">\n",
       "  <thead>\n",
       "    <tr style=\"text-align: right;\">\n",
       "      <th></th>\n",
       "      <th>C</th>\n",
       "      <th>H</th>\n",
       "      <th>C=C</th>\n",
       "      <th>C#C</th>\n",
       "      <th>Ar</th>\n",
       "      <th>O-alc</th>\n",
       "      <th>O-eth</th>\n",
       "      <th>O-ald</th>\n",
       "      <th>O-ket</th>\n",
       "      <th>O-acid</th>\n",
       "      <th>O-ester</th>\n",
       "      <th>R3</th>\n",
       "      <th>R4</th>\n",
       "      <th>R5</th>\n",
       "      <th>R6</th>\n",
       "      <th>R7</th>\n",
       "      <th>R8</th>\n",
       "      <th>M</th>\n",
       "    </tr>\n",
       "  </thead>\n",
       "  <tbody>\n",
       "    <tr>\n",
       "      <th>diol_1</th>\n",
       "      <td>12.0</td>\n",
       "      <td>18.0</td>\n",
       "      <td>0.0</td>\n",
       "      <td>0.0</td>\n",
       "      <td>0.0</td>\n",
       "      <td>0.0</td>\n",
       "      <td>0.0</td>\n",
       "      <td>0.0</td>\n",
       "      <td>0.0</td>\n",
       "      <td>0.0</td>\n",
       "      <td>0.0</td>\n",
       "      <td>0.0</td>\n",
       "      <td>0.0</td>\n",
       "      <td>3.0</td>\n",
       "      <td>0.0</td>\n",
       "      <td>0.0</td>\n",
       "      <td>0.0</td>\n",
       "      <td>196.290</td>\n",
       "    </tr>\n",
       "    <tr>\n",
       "      <th>diol_2</th>\n",
       "      <td>8.0</td>\n",
       "      <td>14.0</td>\n",
       "      <td>0.0</td>\n",
       "      <td>0.0</td>\n",
       "      <td>0.0</td>\n",
       "      <td>0.0</td>\n",
       "      <td>0.0</td>\n",
       "      <td>0.0</td>\n",
       "      <td>0.0</td>\n",
       "      <td>0.0</td>\n",
       "      <td>0.0</td>\n",
       "      <td>0.0</td>\n",
       "      <td>0.0</td>\n",
       "      <td>0.0</td>\n",
       "      <td>1.0</td>\n",
       "      <td>0.0</td>\n",
       "      <td>0.0</td>\n",
       "      <td>144.214</td>\n",
       "    </tr>\n",
       "    <tr>\n",
       "      <th>diol_3</th>\n",
       "      <td>15.0</td>\n",
       "      <td>26.0</td>\n",
       "      <td>0.0</td>\n",
       "      <td>0.0</td>\n",
       "      <td>0.0</td>\n",
       "      <td>0.0</td>\n",
       "      <td>0.0</td>\n",
       "      <td>0.0</td>\n",
       "      <td>0.0</td>\n",
       "      <td>0.0</td>\n",
       "      <td>0.0</td>\n",
       "      <td>0.0</td>\n",
       "      <td>0.0</td>\n",
       "      <td>0.0</td>\n",
       "      <td>2.0</td>\n",
       "      <td>0.0</td>\n",
       "      <td>0.0</td>\n",
       "      <td>240.387</td>\n",
       "    </tr>\n",
       "    <tr>\n",
       "      <th>diol_4</th>\n",
       "      <td>9.0</td>\n",
       "      <td>18.0</td>\n",
       "      <td>0.0</td>\n",
       "      <td>0.0</td>\n",
       "      <td>0.0</td>\n",
       "      <td>0.0</td>\n",
       "      <td>0.0</td>\n",
       "      <td>0.0</td>\n",
       "      <td>0.0</td>\n",
       "      <td>0.0</td>\n",
       "      <td>0.0</td>\n",
       "      <td>0.0</td>\n",
       "      <td>0.0</td>\n",
       "      <td>0.0</td>\n",
       "      <td>0.0</td>\n",
       "      <td>0.0</td>\n",
       "      <td>0.0</td>\n",
       "      <td>160.257</td>\n",
       "    </tr>\n",
       "    <tr>\n",
       "      <th>diol_5</th>\n",
       "      <td>8.0</td>\n",
       "      <td>16.0</td>\n",
       "      <td>0.0</td>\n",
       "      <td>0.0</td>\n",
       "      <td>0.0</td>\n",
       "      <td>0.0</td>\n",
       "      <td>0.0</td>\n",
       "      <td>0.0</td>\n",
       "      <td>0.0</td>\n",
       "      <td>0.0</td>\n",
       "      <td>0.0</td>\n",
       "      <td>0.0</td>\n",
       "      <td>0.0</td>\n",
       "      <td>0.0</td>\n",
       "      <td>0.0</td>\n",
       "      <td>0.0</td>\n",
       "      <td>0.0</td>\n",
       "      <td>146.230</td>\n",
       "    </tr>\n",
       "    <tr>\n",
       "      <th>diol_7</th>\n",
       "      <td>5.0</td>\n",
       "      <td>10.0</td>\n",
       "      <td>0.0</td>\n",
       "      <td>0.0</td>\n",
       "      <td>0.0</td>\n",
       "      <td>0.0</td>\n",
       "      <td>0.0</td>\n",
       "      <td>0.0</td>\n",
       "      <td>0.0</td>\n",
       "      <td>0.0</td>\n",
       "      <td>0.0</td>\n",
       "      <td>0.0</td>\n",
       "      <td>0.0</td>\n",
       "      <td>0.0</td>\n",
       "      <td>0.0</td>\n",
       "      <td>0.0</td>\n",
       "      <td>0.0</td>\n",
       "      <td>104.149</td>\n",
       "    </tr>\n",
       "    <tr>\n",
       "      <th>diol_8</th>\n",
       "      <td>14.0</td>\n",
       "      <td>24.0</td>\n",
       "      <td>0.0</td>\n",
       "      <td>1.0</td>\n",
       "      <td>0.0</td>\n",
       "      <td>0.0</td>\n",
       "      <td>0.0</td>\n",
       "      <td>0.0</td>\n",
       "      <td>0.0</td>\n",
       "      <td>0.0</td>\n",
       "      <td>0.0</td>\n",
       "      <td>0.0</td>\n",
       "      <td>0.0</td>\n",
       "      <td>0.0</td>\n",
       "      <td>0.0</td>\n",
       "      <td>0.0</td>\n",
       "      <td>0.0</td>\n",
       "      <td>226.360</td>\n",
       "    </tr>\n",
       "    <tr>\n",
       "      <th>diol_9</th>\n",
       "      <td>14.0</td>\n",
       "      <td>24.0</td>\n",
       "      <td>0.0</td>\n",
       "      <td>1.0</td>\n",
       "      <td>0.0</td>\n",
       "      <td>0.0</td>\n",
       "      <td>0.0</td>\n",
       "      <td>0.0</td>\n",
       "      <td>0.0</td>\n",
       "      <td>0.0</td>\n",
       "      <td>0.0</td>\n",
       "      <td>0.0</td>\n",
       "      <td>0.0</td>\n",
       "      <td>0.0</td>\n",
       "      <td>0.0</td>\n",
       "      <td>0.0</td>\n",
       "      <td>0.0</td>\n",
       "      <td>226.360</td>\n",
       "    </tr>\n",
       "    <tr>\n",
       "      <th>diol_10</th>\n",
       "      <td>5.0</td>\n",
       "      <td>10.0</td>\n",
       "      <td>0.0</td>\n",
       "      <td>0.0</td>\n",
       "      <td>0.0</td>\n",
       "      <td>3.0</td>\n",
       "      <td>0.0</td>\n",
       "      <td>0.0</td>\n",
       "      <td>0.0</td>\n",
       "      <td>0.0</td>\n",
       "      <td>0.0</td>\n",
       "      <td>0.0</td>\n",
       "      <td>0.0</td>\n",
       "      <td>0.0</td>\n",
       "      <td>0.0</td>\n",
       "      <td>0.0</td>\n",
       "      <td>0.0</td>\n",
       "      <td>152.146</td>\n",
       "    </tr>\n",
       "    <tr>\n",
       "      <th>diol_11</th>\n",
       "      <td>6.0</td>\n",
       "      <td>10.0</td>\n",
       "      <td>0.0</td>\n",
       "      <td>0.0</td>\n",
       "      <td>0.0</td>\n",
       "      <td>0.0</td>\n",
       "      <td>0.0</td>\n",
       "      <td>0.0</td>\n",
       "      <td>0.0</td>\n",
       "      <td>0.0</td>\n",
       "      <td>0.0</td>\n",
       "      <td>0.0</td>\n",
       "      <td>0.0</td>\n",
       "      <td>0.0</td>\n",
       "      <td>1.0</td>\n",
       "      <td>0.0</td>\n",
       "      <td>0.0</td>\n",
       "      <td>116.160</td>\n",
       "    </tr>\n",
       "    <tr>\n",
       "      <th>diol_12</th>\n",
       "      <td>9.0</td>\n",
       "      <td>18.0</td>\n",
       "      <td>0.0</td>\n",
       "      <td>0.0</td>\n",
       "      <td>0.0</td>\n",
       "      <td>0.0</td>\n",
       "      <td>0.0</td>\n",
       "      <td>0.0</td>\n",
       "      <td>0.0</td>\n",
       "      <td>0.0</td>\n",
       "      <td>0.0</td>\n",
       "      <td>0.0</td>\n",
       "      <td>0.0</td>\n",
       "      <td>0.0</td>\n",
       "      <td>0.0</td>\n",
       "      <td>0.0</td>\n",
       "      <td>0.0</td>\n",
       "      <td>160.257</td>\n",
       "    </tr>\n",
       "    <tr>\n",
       "      <th>diol_14</th>\n",
       "      <td>3.0</td>\n",
       "      <td>6.0</td>\n",
       "      <td>0.0</td>\n",
       "      <td>0.0</td>\n",
       "      <td>0.0</td>\n",
       "      <td>0.0</td>\n",
       "      <td>0.0</td>\n",
       "      <td>0.0</td>\n",
       "      <td>0.0</td>\n",
       "      <td>0.0</td>\n",
       "      <td>0.0</td>\n",
       "      <td>0.0</td>\n",
       "      <td>0.0</td>\n",
       "      <td>0.0</td>\n",
       "      <td>0.0</td>\n",
       "      <td>0.0</td>\n",
       "      <td>0.0</td>\n",
       "      <td>76.095</td>\n",
       "    </tr>\n",
       "    <tr>\n",
       "      <th>acid_1</th>\n",
       "      <td>4.0</td>\n",
       "      <td>2.0</td>\n",
       "      <td>1.0</td>\n",
       "      <td>0.0</td>\n",
       "      <td>0.0</td>\n",
       "      <td>0.0</td>\n",
       "      <td>0.0</td>\n",
       "      <td>0.0</td>\n",
       "      <td>0.0</td>\n",
       "      <td>0.0</td>\n",
       "      <td>4.0</td>\n",
       "      <td>0.0</td>\n",
       "      <td>0.0</td>\n",
       "      <td>0.0</td>\n",
       "      <td>0.0</td>\n",
       "      <td>0.0</td>\n",
       "      <td>0.0</td>\n",
       "      <td>116.072</td>\n",
       "    </tr>\n",
       "    <tr>\n",
       "      <th>acid_2</th>\n",
       "      <td>6.0</td>\n",
       "      <td>8.0</td>\n",
       "      <td>0.0</td>\n",
       "      <td>0.0</td>\n",
       "      <td>0.0</td>\n",
       "      <td>0.0</td>\n",
       "      <td>0.0</td>\n",
       "      <td>0.0</td>\n",
       "      <td>0.0</td>\n",
       "      <td>0.0</td>\n",
       "      <td>4.0</td>\n",
       "      <td>0.0</td>\n",
       "      <td>0.0</td>\n",
       "      <td>0.0</td>\n",
       "      <td>0.0</td>\n",
       "      <td>0.0</td>\n",
       "      <td>0.0</td>\n",
       "      <td>146.142</td>\n",
       "    </tr>\n",
       "    <tr>\n",
       "      <th>acid_3</th>\n",
       "      <td>8.0</td>\n",
       "      <td>4.0</td>\n",
       "      <td>0.0</td>\n",
       "      <td>0.0</td>\n",
       "      <td>1.0</td>\n",
       "      <td>0.0</td>\n",
       "      <td>0.0</td>\n",
       "      <td>0.0</td>\n",
       "      <td>0.0</td>\n",
       "      <td>0.0</td>\n",
       "      <td>4.0</td>\n",
       "      <td>0.0</td>\n",
       "      <td>0.0</td>\n",
       "      <td>0.0</td>\n",
       "      <td>0.0</td>\n",
       "      <td>0.0</td>\n",
       "      <td>0.0</td>\n",
       "      <td>166.132</td>\n",
       "    </tr>\n",
       "    <tr>\n",
       "      <th>acid_4</th>\n",
       "      <td>9.0</td>\n",
       "      <td>12.0</td>\n",
       "      <td>0.0</td>\n",
       "      <td>0.0</td>\n",
       "      <td>0.0</td>\n",
       "      <td>0.0</td>\n",
       "      <td>0.0</td>\n",
       "      <td>0.0</td>\n",
       "      <td>0.0</td>\n",
       "      <td>0.0</td>\n",
       "      <td>4.0</td>\n",
       "      <td>0.0</td>\n",
       "      <td>0.0</td>\n",
       "      <td>0.0</td>\n",
       "      <td>1.0</td>\n",
       "      <td>0.0</td>\n",
       "      <td>0.0</td>\n",
       "      <td>186.207</td>\n",
       "    </tr>\n",
       "    <tr>\n",
       "      <th>acid_5</th>\n",
       "      <td>8.0</td>\n",
       "      <td>10.0</td>\n",
       "      <td>0.0</td>\n",
       "      <td>0.0</td>\n",
       "      <td>0.0</td>\n",
       "      <td>0.0</td>\n",
       "      <td>0.0</td>\n",
       "      <td>0.0</td>\n",
       "      <td>0.0</td>\n",
       "      <td>0.0</td>\n",
       "      <td>4.0</td>\n",
       "      <td>0.0</td>\n",
       "      <td>0.0</td>\n",
       "      <td>0.0</td>\n",
       "      <td>1.0</td>\n",
       "      <td>0.0</td>\n",
       "      <td>0.0</td>\n",
       "      <td>172.180</td>\n",
       "    </tr>\n",
       "    <tr>\n",
       "      <th>acid_6</th>\n",
       "      <td>5.0</td>\n",
       "      <td>4.0</td>\n",
       "      <td>1.0</td>\n",
       "      <td>0.0</td>\n",
       "      <td>0.0</td>\n",
       "      <td>0.0</td>\n",
       "      <td>0.0</td>\n",
       "      <td>0.0</td>\n",
       "      <td>0.0</td>\n",
       "      <td>0.0</td>\n",
       "      <td>4.0</td>\n",
       "      <td>0.0</td>\n",
       "      <td>0.0</td>\n",
       "      <td>0.0</td>\n",
       "      <td>0.0</td>\n",
       "      <td>0.0</td>\n",
       "      <td>0.0</td>\n",
       "      <td>130.099</td>\n",
       "    </tr>\n",
       "    <tr>\n",
       "      <th>acid_7</th>\n",
       "      <td>6.0</td>\n",
       "      <td>6.0</td>\n",
       "      <td>0.0</td>\n",
       "      <td>0.0</td>\n",
       "      <td>0.0</td>\n",
       "      <td>1.0</td>\n",
       "      <td>0.0</td>\n",
       "      <td>0.0</td>\n",
       "      <td>0.0</td>\n",
       "      <td>2.0</td>\n",
       "      <td>4.0</td>\n",
       "      <td>0.0</td>\n",
       "      <td>0.0</td>\n",
       "      <td>0.0</td>\n",
       "      <td>0.0</td>\n",
       "      <td>0.0</td>\n",
       "      <td>0.0</td>\n",
       "      <td>192.123</td>\n",
       "    </tr>\n",
       "    <tr>\n",
       "      <th>acid_8</th>\n",
       "      <td>9.0</td>\n",
       "      <td>4.0</td>\n",
       "      <td>0.0</td>\n",
       "      <td>0.0</td>\n",
       "      <td>1.0</td>\n",
       "      <td>0.0</td>\n",
       "      <td>0.0</td>\n",
       "      <td>0.0</td>\n",
       "      <td>0.0</td>\n",
       "      <td>2.0</td>\n",
       "      <td>4.0</td>\n",
       "      <td>0.0</td>\n",
       "      <td>0.0</td>\n",
       "      <td>0.0</td>\n",
       "      <td>0.0</td>\n",
       "      <td>0.0</td>\n",
       "      <td>0.0</td>\n",
       "      <td>210.141</td>\n",
       "    </tr>\n",
       "    <tr>\n",
       "      <th>acid_9</th>\n",
       "      <td>8.0</td>\n",
       "      <td>4.0</td>\n",
       "      <td>0.0</td>\n",
       "      <td>0.0</td>\n",
       "      <td>1.0</td>\n",
       "      <td>0.0</td>\n",
       "      <td>0.0</td>\n",
       "      <td>0.0</td>\n",
       "      <td>0.0</td>\n",
       "      <td>0.0</td>\n",
       "      <td>4.0</td>\n",
       "      <td>0.0</td>\n",
       "      <td>0.0</td>\n",
       "      <td>0.0</td>\n",
       "      <td>0.0</td>\n",
       "      <td>0.0</td>\n",
       "      <td>0.0</td>\n",
       "      <td>166.132</td>\n",
       "    </tr>\n",
       "  </tbody>\n",
       "</table>\n",
       "</div>"
      ],
      "text/plain": [
       "            C     H  C=C  C#C   Ar  O-alc  O-eth  O-ald  O-ket  O-acid  \\\n",
       "diol_1   12.0  18.0  0.0  0.0  0.0    0.0    0.0    0.0    0.0     0.0   \n",
       "diol_2    8.0  14.0  0.0  0.0  0.0    0.0    0.0    0.0    0.0     0.0   \n",
       "diol_3   15.0  26.0  0.0  0.0  0.0    0.0    0.0    0.0    0.0     0.0   \n",
       "diol_4    9.0  18.0  0.0  0.0  0.0    0.0    0.0    0.0    0.0     0.0   \n",
       "diol_5    8.0  16.0  0.0  0.0  0.0    0.0    0.0    0.0    0.0     0.0   \n",
       "diol_7    5.0  10.0  0.0  0.0  0.0    0.0    0.0    0.0    0.0     0.0   \n",
       "diol_8   14.0  24.0  0.0  1.0  0.0    0.0    0.0    0.0    0.0     0.0   \n",
       "diol_9   14.0  24.0  0.0  1.0  0.0    0.0    0.0    0.0    0.0     0.0   \n",
       "diol_10   5.0  10.0  0.0  0.0  0.0    3.0    0.0    0.0    0.0     0.0   \n",
       "diol_11   6.0  10.0  0.0  0.0  0.0    0.0    0.0    0.0    0.0     0.0   \n",
       "diol_12   9.0  18.0  0.0  0.0  0.0    0.0    0.0    0.0    0.0     0.0   \n",
       "diol_14   3.0   6.0  0.0  0.0  0.0    0.0    0.0    0.0    0.0     0.0   \n",
       "acid_1    4.0   2.0  1.0  0.0  0.0    0.0    0.0    0.0    0.0     0.0   \n",
       "acid_2    6.0   8.0  0.0  0.0  0.0    0.0    0.0    0.0    0.0     0.0   \n",
       "acid_3    8.0   4.0  0.0  0.0  1.0    0.0    0.0    0.0    0.0     0.0   \n",
       "acid_4    9.0  12.0  0.0  0.0  0.0    0.0    0.0    0.0    0.0     0.0   \n",
       "acid_5    8.0  10.0  0.0  0.0  0.0    0.0    0.0    0.0    0.0     0.0   \n",
       "acid_6    5.0   4.0  1.0  0.0  0.0    0.0    0.0    0.0    0.0     0.0   \n",
       "acid_7    6.0   6.0  0.0  0.0  0.0    1.0    0.0    0.0    0.0     2.0   \n",
       "acid_8    9.0   4.0  0.0  0.0  1.0    0.0    0.0    0.0    0.0     2.0   \n",
       "acid_9    8.0   4.0  0.0  0.0  1.0    0.0    0.0    0.0    0.0     0.0   \n",
       "\n",
       "         O-ester   R3   R4   R5   R6   R7   R8        M  \n",
       "diol_1       0.0  0.0  0.0  3.0  0.0  0.0  0.0  196.290  \n",
       "diol_2       0.0  0.0  0.0  0.0  1.0  0.0  0.0  144.214  \n",
       "diol_3       0.0  0.0  0.0  0.0  2.0  0.0  0.0  240.387  \n",
       "diol_4       0.0  0.0  0.0  0.0  0.0  0.0  0.0  160.257  \n",
       "diol_5       0.0  0.0  0.0  0.0  0.0  0.0  0.0  146.230  \n",
       "diol_7       0.0  0.0  0.0  0.0  0.0  0.0  0.0  104.149  \n",
       "diol_8       0.0  0.0  0.0  0.0  0.0  0.0  0.0  226.360  \n",
       "diol_9       0.0  0.0  0.0  0.0  0.0  0.0  0.0  226.360  \n",
       "diol_10      0.0  0.0  0.0  0.0  0.0  0.0  0.0  152.146  \n",
       "diol_11      0.0  0.0  0.0  0.0  1.0  0.0  0.0  116.160  \n",
       "diol_12      0.0  0.0  0.0  0.0  0.0  0.0  0.0  160.257  \n",
       "diol_14      0.0  0.0  0.0  0.0  0.0  0.0  0.0   76.095  \n",
       "acid_1       4.0  0.0  0.0  0.0  0.0  0.0  0.0  116.072  \n",
       "acid_2       4.0  0.0  0.0  0.0  0.0  0.0  0.0  146.142  \n",
       "acid_3       4.0  0.0  0.0  0.0  0.0  0.0  0.0  166.132  \n",
       "acid_4       4.0  0.0  0.0  0.0  1.0  0.0  0.0  186.207  \n",
       "acid_5       4.0  0.0  0.0  0.0  1.0  0.0  0.0  172.180  \n",
       "acid_6       4.0  0.0  0.0  0.0  0.0  0.0  0.0  130.099  \n",
       "acid_7       4.0  0.0  0.0  0.0  0.0  0.0  0.0  192.123  \n",
       "acid_8       4.0  0.0  0.0  0.0  0.0  0.0  0.0  210.141  \n",
       "acid_9       4.0  0.0  0.0  0.0  0.0  0.0  0.0  166.132  "
      ]
     },
     "execution_count": 64,
     "metadata": {},
     "output_type": "execute_result"
    }
   ],
   "source": [
    "df_test = pd.read_csv('../data/polyesters.csv')\n",
    "df_diols_fe0 = pd.read_csv('../data/df_diols_fe0.csv', index_col=0)\n",
    "df_acids_fe0 = pd.read_csv('../data/df_acids_fe0.csv', index_col=0)\n",
    "\n",
    "# correcting 'H', O-alc', 'O-acid' and 'O-ester' by subtracting atom/functional group loss from condensation\n",
    "# TODO: make a function for this procedure\n",
    "df_diols_fe0['H'] -= 2\n",
    "df_acids_fe0['H'] -= 2\n",
    "df_diols_fe0['O-alc'] -= 2\n",
    "df_acids_fe0['O-acid'] -= 4\n",
    "df_acids_fe0['O-ester'] += 4\n",
    "\n",
    "df_monomers_fe0 = pd.concat([df_diols_fe0, df_acids_fe0])\n",
    "df_monomers_fe0"
   ]
  },
  {
   "cell_type": "code",
   "execution_count": 65,
   "metadata": {},
   "outputs": [],
   "source": [
    "monomers = df_test.columns[df_test.columns.str.contains('diol|acid')]\n",
    "features = df_monomers_fe0.columns"
   ]
  },
  {
   "cell_type": "code",
   "execution_count": 66,
   "metadata": {},
   "outputs": [
    {
     "name": "stdout",
     "output_type": "stream",
     "text": [
      "         C       H    C=C  C#C     Ar  O-alc  O-eth  O-ald  O-ket  O-acid  \\\n",
      "0    7.206   9.128  0.149  0.0  0.249    0.0    0.0    0.0    0.0   0.000   \n",
      "1   10.749  15.212  0.149  0.0  0.248    0.0    0.0    0.0    0.0   0.000   \n",
      "2   10.238  16.178  0.149  0.0  0.000    0.0    0.0    0.0    0.0   0.000   \n",
      "3   10.131  15.776  0.243  0.0  0.000    0.0    0.0    0.0    0.0   0.000   \n",
      "4    7.037  11.620  0.245  0.0  0.000    0.0    0.0    0.0    0.0   0.000   \n",
      "5    6.528  10.602  0.245  0.0  0.000    0.0    0.0    0.0    0.0   0.000   \n",
      "6    5.001   7.538  0.246  0.0  0.000    0.0    0.0    0.0    0.0   0.000   \n",
      "7    6.540   9.630  0.242  0.0  0.000    0.0    0.0    0.0    0.0   0.000   \n",
      "8    6.520   9.560  0.247  0.0  0.000    0.0    0.0    0.0    0.0   0.000   \n",
      "9    6.118   8.364  0.444  0.0  0.000    0.0    0.0    0.0    0.0   0.000   \n",
      "10   4.603   6.334  0.446  0.0  0.000    0.0    0.0    0.0    0.0   0.000   \n",
      "11   8.544  11.586  0.246  0.0  0.000    0.0    0.0    0.0    0.0   0.000   \n",
      "12   8.544  11.586  0.246  0.0  0.000    0.0    0.0    0.0    0.0   0.000   \n",
      "13   9.396  10.842  0.163  0.0  0.325    0.0    0.0    0.0    0.0   0.000   \n",
      "14   8.864  12.176  0.224  0.0  0.000    0.0    0.0    0.0    0.0   0.000   \n",
      "15   6.375   9.500  0.200  0.0  0.000    0.0    0.0    0.0    0.0   0.000   \n",
      "16   4.440   4.560  0.240  0.0  0.240    0.0    0.0    0.0    0.0   0.000   \n",
      "17   8.504  10.962  0.226  0.0  0.083    0.0    0.0    0.0    0.0   0.000   \n",
      "18   9.011  11.936  0.200  0.0  0.061    0.0    0.0    0.0    0.0   0.122   \n",
      "\n",
      "    O-ester   R3   R4     R5     R6   R7   R8           M  \n",
      "0     1.988  0.0  0.0  0.000  0.503  0.0  0.0  145.669296  \n",
      "1     1.984  0.0  0.0  0.000  1.010  0.0  0.0  194.358957  \n",
      "2     1.984  0.0  0.0  0.000  1.008  0.0  0.0  189.161050  \n",
      "3     1.948  0.0  0.0  0.000  1.026  0.0  0.0  187.182675  \n",
      "4     1.964  0.0  0.0  0.000  0.000  0.0  0.0  145.959385  \n",
      "5     1.964  0.0  0.0  0.000  0.000  0.0  0.0  138.819642  \n",
      "6     1.972  0.0  0.0  0.000  0.000  0.0  0.0  117.454329  \n",
      "7     1.936  0.0  0.0  0.000  0.515  0.0  0.0  137.725998  \n",
      "8     1.972  0.0  0.0  0.000  0.507  0.0  0.0  137.737214  \n",
      "9     1.972  0.0  0.0  0.000  0.506  0.0  0.0  131.669210  \n",
      "10    1.980  0.0  0.0  0.000  0.000  0.0  0.0  111.524315  \n",
      "11    1.968  0.0  0.0  1.521  0.000  0.0  0.0  164.023674  \n",
      "12    1.968  0.0  0.0  1.521  0.000  0.0  0.0  164.023674  \n",
      "13    1.952  0.0  0.0  1.536  0.000  0.0  0.0  173.413116  \n",
      "14    1.792  0.0  0.0  1.656  0.000  0.0  0.0  167.088016  \n",
      "15    2.000  0.0  0.0  0.000  0.425  0.0  0.0  136.159125  \n",
      "16    1.920  0.0  0.0  0.000  0.000  0.0  0.0  107.298360  \n",
      "17    2.140  0.0  0.0  1.395  0.000  0.0  0.0  164.324170  \n",
      "18    1.848  0.0  0.0  1.614  0.000  0.0  0.0  171.011563  \n"
     ]
    }
   ],
   "source": [
    "df_test_fe0 = avg_monomer_features(df_test, df_monomers_fe0, monomers, features)\n",
    "print(df_test_fe0)\n",
    "st_test = df_test['measured_st']"
   ]
  },
  {
   "cell_type": "markdown",
   "metadata": {},
   "source": [
    "### TEST 0 - Prediction with parachor method"
   ]
  },
  {
   "cell_type": "code",
   "execution_count": 67,
   "metadata": {},
   "outputs": [
    {
     "data": {
      "text/plain": [
       "array([12.03455145, 11.81531693, 11.42981776, 11.40622805, 11.08753739,\n",
       "       11.13028412, 11.31829605, 11.44421772, 11.53186445, 11.65907188,\n",
       "       11.47059154, 11.37010718, 11.37010718, 11.89648433, 10.99468402,\n",
       "       11.54136187, 11.98715467, 11.88977426, 11.19826287])"
      ]
     },
     "execution_count": 67,
     "metadata": {},
     "output_type": "execute_result"
    }
   ],
   "source": [
    "X_test0 = df_test_fe0[df_test_fe0.columns.difference(['M']+features_exclude)]\n",
    "mv_hat_test0 = lm_mv.predict(X_test0)\n",
    "mv_hat_test0\n",
    "y_hat_test0 = lm0.predict(X_test0)\n",
    "(y_hat_test0/mv_hat_test0)**n"
   ]
  },
  {
   "cell_type": "code",
   "execution_count": 68,
   "metadata": {},
   "outputs": [
    {
     "data": {
      "text/plain": [
       "Text(0.5, 1.0, 'Linear Model 0\\nTest')"
      ]
     },
     "execution_count": 68,
     "metadata": {},
     "output_type": "execute_result"
    },
    {
     "data": {
      "image/png": "[encoded data removed]",
      "text/plain": [
       "<Figure size 432x288 with 1 Axes>"
      ]
     },
     "metadata": {
      "needs_background": "light"
     },
     "output_type": "display_data"
    }
   ],
   "source": [
    "sns.scatterplot((y_hat_test0/mv_hat_test0)**n, st_test)\n",
    "plt.xlabel('predicted surface tension')\n",
    "plt.ylabel('measured surface tension')\n",
    "plt.title('Linear Model 0\\nTest', {'fontsize': 12, 'weight': 'bold'})"
   ]
  },
  {
   "cell_type": "markdown",
   "metadata": {},
   "source": [
    "### TEST 1 - Prediction with M-normalization method"
   ]
  },
  {
   "cell_type": "code",
   "execution_count": 69,
   "metadata": {},
   "outputs": [
    {
     "data": {
      "text/plain": [
       "array([-9.67047684e+14, -1.06963688e+15, -1.08776185e+15, -1.08944664e+15,\n",
       "       -1.00807949e+15, -9.88551738e+14, -9.11567613e+14, -9.89658537e+14,\n",
       "       -9.83006581e+14, -9.63636374e+14, -8.82137070e+14, -1.04614490e+15,\n",
       "       -1.04614490e+15, -1.02825344e+15, -1.07840268e+15, -9.73190508e+14,\n",
       "       -8.27236174e+14, -1.01040809e+15, -1.07098374e+15])"
      ]
     },
     "execution_count": 69,
     "metadata": {},
     "output_type": "execute_result"
    }
   ],
   "source": [
    "X_test1 = (df_test_fe0[df_test_fe0.columns.difference(['M']+features_exclude)]\n",
    "           .divide(df_test_fe0['M']-18, axis=0))\n",
    "y_hat_test1 = lm1.predict(X_test1)\n",
    "y_hat_test1"
   ]
  },
  {
   "cell_type": "code",
   "execution_count": 70,
   "metadata": {},
   "outputs": [
    {
     "data": {
      "text/plain": [
       "Text(0.5, 1.0, 'Linear Model 1\\nTest')"
      ]
     },
     "execution_count": 70,
     "metadata": {},
     "output_type": "execute_result"
    },
    {
     "data": {
      "image/png": "[encoded data removed]",
      "text/plain": [
       "<Figure size 432x288 with 1 Axes>"
      ]
     },
     "metadata": {
      "needs_background": "light"
     },
     "output_type": "display_data"
    }
   ],
   "source": [
    "sns.scatterplot(y_hat_test1, st_test)\n",
    "plt.xlabel('predicted surface tension')\n",
    "plt.ylabel('measured surface tension')\n",
    "plt.title('Linear Model 1\\nTest', {'fontsize': 12, 'weight': 'bold'})"
   ]
  },
  {
   "cell_type": "markdown",
   "metadata": {},
   "source": [
    "### Linear model - mv2\n",
    "\n",
    "Approximation of molar volume with **polymer** data from literature"
   ]
  },
  {
   "cell_type": "code",
   "execution_count": 83,
   "metadata": {},
   "outputs": [
    {
     "data": {
      "text/plain": [
       "23"
      ]
     },
     "execution_count": 83,
     "metadata": {},
     "output_type": "execute_result"
    }
   ],
   "source": [
    "df_mvpolym_fe0 = pd.read_csv('../data/df_mvpolym_fe0.csv', index_col=0)\n",
    "len(df_mvpolym_fe0)"
   ]
  },
  {
   "cell_type": "code",
   "execution_count": 158,
   "metadata": {},
   "outputs": [
    {
     "name": "stdout",
     "output_type": "stream",
     "text": [
      "explained_variance:  0.9426\n",
      "mean_squared_log_error:  0.1764\n",
      "r2:  0.9426\n",
      "MAE:  8.2232\n",
      "MSE:  135.2354\n",
      "RMSE:  11.6291\n"
     ]
    }
   ],
   "source": [
    "features_exclude_from_mv = features_exclude + ['R5', 'R6']\n",
    "df_mvpolym_fe0 = df_mvpolym_fe0[df_mvpolym_fe0[features_exclude_from_mv].sum(axis=1) == 0]\n",
    "\n",
    "X_mvpolym = df_mvpolym_fe0.drop(['M', 'type', 'polymer', 'measured_mv', 'measured_mv_scaled', 'ru']+features_exclude_from_mv, axis=1)\n",
    "y_mvpolym = df_mvpolym_fe0['measured_mv_scaled']\n",
    "lm_mvpolym = LinearRegression()\n",
    "lm_mvpolym.fit(X_mvpolym, y_mvpolym)\n",
    "\n",
    "y_hat_mvpolym = pd.Series(lm_mvpolym.predict(X_mvpolym), index=y_mvpolym.index)\n",
    "regression_results(y_mvpolym, y_hat_mvpolym)"
   ]
  },
  {
   "cell_type": "code",
   "execution_count": 160,
   "metadata": {},
   "outputs": [
    {
     "data": {
      "text/html": [
       "<div>\n",
       "<style scoped>\n",
       "    .dataframe tbody tr th:only-of-type {\n",
       "        vertical-align: middle;\n",
       "    }\n",
       "\n",
       "    .dataframe tbody tr th {\n",
       "        vertical-align: top;\n",
       "    }\n",
       "\n",
       "    .dataframe thead th {\n",
       "        text-align: right;\n",
       "    }\n",
       "</style>\n",
       "<table border=\"1\" class=\"dataframe\">\n",
       "  <thead>\n",
       "    <tr style=\"text-align: right;\">\n",
       "      <th></th>\n",
       "      <th>polymer</th>\n",
       "      <th>measured_mv</th>\n",
       "    </tr>\n",
       "  </thead>\n",
       "  <tbody>\n",
       "    <tr>\n",
       "      <th>14</th>\n",
       "      <td>poly(methyl methacrylate)</td>\n",
       "      <td>84.1</td>\n",
       "    </tr>\n",
       "    <tr>\n",
       "      <th>5</th>\n",
       "      <td>polystyrene</td>\n",
       "      <td>100.0</td>\n",
       "    </tr>\n",
       "    <tr>\n",
       "      <th>6</th>\n",
       "      <td>poly(4-methylstyrene)</td>\n",
       "      <td>125.2</td>\n",
       "    </tr>\n",
       "    <tr>\n",
       "      <th>22</th>\n",
       "      <td>poly(5-tridecylresorcinol isophthalate)</td>\n",
       "      <td>380.2</td>\n",
       "    </tr>\n",
       "    <tr>\n",
       "      <th>0</th>\n",
       "      <td>polyethylene</td>\n",
       "      <td>34.6</td>\n",
       "    </tr>\n",
       "  </tbody>\n",
       "</table>\n",
       "</div>"
      ],
      "text/plain": [
       "                                    polymer  measured_mv\n",
       "14                poly(methyl methacrylate)         84.1\n",
       "5                               polystyrene        100.0\n",
       "6                     poly(4-methylstyrene)        125.2\n",
       "22  poly(5-tridecylresorcinol isophthalate)        380.2\n",
       "0                              polyethylene         34.6"
      ]
     },
     "execution_count": 160,
     "metadata": {},
     "output_type": "execute_result"
    }
   ],
   "source": [
    "# points with highest error (in descending order)\n",
    "i_out_mvpolym = abs(y_mvpolym-y_hat_mvpolym).sort_values(ascending=False).index[:5]\n",
    "y_out_mvpolym = y_mvpolym[i_out_mvpolym]\n",
    "y_hat_out_mvpolym = y_hat_mvpolym[i_out_mvpolym]\n",
    "df_mvpolym_fe0.loc[i_out_mvpolym, ['polymer', 'measured_mv']]"
   ]
  },
  {
   "cell_type": "code",
   "execution_count": 161,
   "metadata": {},
   "outputs": [
    {
     "data": {
      "text/plain": [
       "Text(0.5, 1.0, 'Linear Model MV\\nPolymers')"
      ]
     },
     "execution_count": 161,
     "metadata": {},
     "output_type": "execute_result"
    },
    {
     "data": {
      "image/png": "[encoded data removed]",
      "text/plain": [
       "<Figure size 432x288 with 1 Axes>"
      ]
     },
     "metadata": {
      "needs_background": "light"
     },
     "output_type": "display_data"
    }
   ],
   "source": [
    "sns.scatterplot(y_hat_mvpolym, y_mvpolym)\n",
    "sns.scatterplot(y_hat_out_mvpolym, y_out_mvpolym)\n",
    "sns.lineplot(x=[0, 175], y=[0, 175], alpha=0.2)\n",
    "plt.xlabel('predicted molar volume')\n",
    "plt.ylabel('measured molar volume')\n",
    "plt.title('Linear Model MV\\nPolymers', {'fontsize': 12, 'weight': 'bold'})"
   ]
  },
  {
   "cell_type": "code",
   "execution_count": 92,
   "metadata": {},
   "outputs": [
    {
     "name": "stdout",
     "output_type": "stream",
     "text": [
      "explained_variance:  0.6631\n",
      "mean_squared_log_error:  0.5667\n",
      "r2:  -0.2825\n",
      "MAE:  36.7524\n",
      "MSE:  1821.474\n",
      "RMSE:  42.6787\n"
     ]
    }
   ],
   "source": [
    "X_mvpolym2 = df_mvpolym_fe0.drop(['M', 'type', 'polymer', 'measured_mv', 'measured_mv_scaled', 'ru']+features_exclude, axis=1)\n",
    "y_hat_mvpolym2 = lm_mv.predict(X_mvpolym2)\n",
    "regression_results(y_hat_mvpolym2, df_mvpolym_fe0['measured_mv_scaled'])"
   ]
  },
  {
   "cell_type": "code",
   "execution_count": 93,
   "metadata": {},
   "outputs": [
    {
     "name": "stdout",
     "output_type": "stream",
     "text": [
      "explained_variance:  0.9794\n",
      "mean_squared_log_error:  0.0109\n",
      "r2:  0.8923\n",
      "MAE:  11.1846\n",
      "MSE:  146.7864\n",
      "RMSE:  12.1155\n"
     ]
    }
   ],
   "source": [
    "X_mvpolym3 = (df_mvpolym_fe0[df_mvpolym_fe0['type'] == 'polyester']\n",
    "              .drop(['M', 'type', 'polymer', 'measured_mv', 'measured_mv_scaled', 'ru']+features_exclude, axis=1))\n",
    "y_hat_mvpolym3 = lm_mv.predict(X_mvpolym3)\n",
    "regression_results(y_hat_mvpolym3, df_mvpolym_fe0.loc[df_mvpolym_fe0['type'] == 'polyester', 'measured_mv_scaled'])"
   ]
  },
  {
   "cell_type": "code",
   "execution_count": 112,
   "metadata": {},
   "outputs": [
    {
     "data": {
      "text/plain": [
       "Text(0.5, 1.0, 'Linear Model MV\\nPolyesters only')"
      ]
     },
     "execution_count": 112,
     "metadata": {},
     "output_type": "execute_result"
    },
    {
     "data": {
      "image/png": "[encoded data removed]",
      "text/plain": [
       "<Figure size 432x288 with 1 Axes>"
      ]
     },
     "metadata": {
      "needs_background": "light"
     },
     "output_type": "display_data"
    }
   ],
   "source": [
    "sns.scatterplot(y_hat_mvpolym3, df_mvpolym_fe0.loc[df_mvpolym_fe0['type'] == 'polyester', 'measured_mv_scaled'])\n",
    "sns.lineplot(x=[75, 200], y=[75, 200], alpha=0.2)\n",
    "plt.xlabel('predicted molar volume')\n",
    "plt.ylabel('measured molar volume')\n",
    "plt.title('Linear Model MV\\nPolyesters only', {'fontsize': 12, 'weight': 'bold'})"
   ]
  },
  {
   "cell_type": "code",
   "execution_count": null,
   "metadata": {},
   "outputs": [],
   "source": []
  }
 ],
 "metadata": {
  "kernelspec": {
   "display_name": "Python 3",
   "language": "python",
   "name": "python3"
  },
  "language_info": {
   "codemirror_mode": {
    "name": "ipython",
    "version": 3
   },
   "file_extension": ".py",
   "mimetype": "text/x-python",
   "name": "python",
   "nbconvert_exporter": "python",
   "pygments_lexer": "ipython3",
   "version": "3.7.7"
  }
 },
 "nbformat": 4,
 "nbformat_minor": 4
}
