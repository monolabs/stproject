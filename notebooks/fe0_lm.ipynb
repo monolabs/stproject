{
 "cells": [
  {
   "cell_type": "code",
   "execution_count": 1,
   "metadata": {},
   "outputs": [],
   "source": [
    "import numpy as np\n",
    "import pandas as pd\n",
    "import matplotlib.pyplot as plt\n",
    "import seaborn as sns\n",
    "%matplotlib inline\n",
    "\n",
    "from sklearn.linear_model import LinearRegression\n",
    "import sklearn.metrics as metrics\n",
    "\n",
    "import sys\n",
    "sys.path.insert(1, '../src/stproject')\n",
    "from utils import *\n",
    "\n",
    "import pickle"
   ]
  },
  {
   "cell_type": "code",
   "execution_count": 2,
   "metadata": {},
   "outputs": [
    {
     "name": "stdout",
     "output_type": "stream",
     "text": [
      "268\n"
     ]
    },
    {
     "data": {
      "text/html": [
       "<div>\n",
       "<style scoped>\n",
       "    .dataframe tbody tr th:only-of-type {\n",
       "        vertical-align: middle;\n",
       "    }\n",
       "\n",
       "    .dataframe tbody tr th {\n",
       "        vertical-align: top;\n",
       "    }\n",
       "\n",
       "    .dataframe thead th {\n",
       "        text-align: right;\n",
       "    }\n",
       "</style>\n",
       "<table border=\"1\" class=\"dataframe\">\n",
       "  <thead>\n",
       "    <tr style=\"text-align: right;\">\n",
       "      <th></th>\n",
       "      <th>C</th>\n",
       "      <th>H</th>\n",
       "      <th>C=C</th>\n",
       "      <th>C#C</th>\n",
       "      <th>Ar</th>\n",
       "      <th>O-alc</th>\n",
       "      <th>O-eth</th>\n",
       "      <th>O-ald</th>\n",
       "      <th>O-ket</th>\n",
       "      <th>O-acid</th>\n",
       "      <th>...</th>\n",
       "      <th>R4</th>\n",
       "      <th>R5</th>\n",
       "      <th>R6</th>\n",
       "      <th>R7</th>\n",
       "      <th>R8</th>\n",
       "      <th>M</th>\n",
       "      <th>measured_st</th>\n",
       "      <th>molecule</th>\n",
       "      <th>density</th>\n",
       "      <th>mv</th>\n",
       "    </tr>\n",
       "  </thead>\n",
       "  <tbody>\n",
       "    <tr>\n",
       "      <th>1</th>\n",
       "      <td>5.0</td>\n",
       "      <td>12.0</td>\n",
       "      <td>0.0</td>\n",
       "      <td>0.0</td>\n",
       "      <td>0.0</td>\n",
       "      <td>0.0</td>\n",
       "      <td>0.0</td>\n",
       "      <td>0.0</td>\n",
       "      <td>0.0</td>\n",
       "      <td>0.0</td>\n",
       "      <td>...</td>\n",
       "      <td>0.0</td>\n",
       "      <td>0.0</td>\n",
       "      <td>0.0</td>\n",
       "      <td>0.0</td>\n",
       "      <td>0.0</td>\n",
       "      <td>72.151</td>\n",
       "      <td>15.5</td>\n",
       "      <td>Pentane</td>\n",
       "      <td>0.62638</td>\n",
       "      <td>115.187267</td>\n",
       "    </tr>\n",
       "    <tr>\n",
       "      <th>2</th>\n",
       "      <td>6.0</td>\n",
       "      <td>14.0</td>\n",
       "      <td>0.0</td>\n",
       "      <td>0.0</td>\n",
       "      <td>0.0</td>\n",
       "      <td>0.0</td>\n",
       "      <td>0.0</td>\n",
       "      <td>0.0</td>\n",
       "      <td>0.0</td>\n",
       "      <td>0.0</td>\n",
       "      <td>...</td>\n",
       "      <td>0.0</td>\n",
       "      <td>0.0</td>\n",
       "      <td>0.0</td>\n",
       "      <td>0.0</td>\n",
       "      <td>0.0</td>\n",
       "      <td>86.178</td>\n",
       "      <td>18.0</td>\n",
       "      <td>Hexane</td>\n",
       "      <td>0.65940</td>\n",
       "      <td>130.691538</td>\n",
       "    </tr>\n",
       "    <tr>\n",
       "      <th>3</th>\n",
       "      <td>7.0</td>\n",
       "      <td>16.0</td>\n",
       "      <td>0.0</td>\n",
       "      <td>0.0</td>\n",
       "      <td>0.0</td>\n",
       "      <td>0.0</td>\n",
       "      <td>0.0</td>\n",
       "      <td>0.0</td>\n",
       "      <td>0.0</td>\n",
       "      <td>0.0</td>\n",
       "      <td>...</td>\n",
       "      <td>0.0</td>\n",
       "      <td>0.0</td>\n",
       "      <td>0.0</td>\n",
       "      <td>0.0</td>\n",
       "      <td>0.0</td>\n",
       "      <td>100.205</td>\n",
       "      <td>19.8</td>\n",
       "      <td>Heptane</td>\n",
       "      <td>0.68420</td>\n",
       "      <td>146.455715</td>\n",
       "    </tr>\n",
       "    <tr>\n",
       "      <th>4</th>\n",
       "      <td>8.0</td>\n",
       "      <td>18.0</td>\n",
       "      <td>0.0</td>\n",
       "      <td>0.0</td>\n",
       "      <td>0.0</td>\n",
       "      <td>0.0</td>\n",
       "      <td>0.0</td>\n",
       "      <td>0.0</td>\n",
       "      <td>0.0</td>\n",
       "      <td>0.0</td>\n",
       "      <td>...</td>\n",
       "      <td>0.0</td>\n",
       "      <td>0.0</td>\n",
       "      <td>0.0</td>\n",
       "      <td>0.0</td>\n",
       "      <td>0.0</td>\n",
       "      <td>114.232</td>\n",
       "      <td>21.1</td>\n",
       "      <td>Octane</td>\n",
       "      <td>0.70310</td>\n",
       "      <td>162.469066</td>\n",
       "    </tr>\n",
       "    <tr>\n",
       "      <th>5</th>\n",
       "      <td>9.0</td>\n",
       "      <td>20.0</td>\n",
       "      <td>0.0</td>\n",
       "      <td>0.0</td>\n",
       "      <td>0.0</td>\n",
       "      <td>0.0</td>\n",
       "      <td>0.0</td>\n",
       "      <td>0.0</td>\n",
       "      <td>0.0</td>\n",
       "      <td>0.0</td>\n",
       "      <td>...</td>\n",
       "      <td>0.0</td>\n",
       "      <td>0.0</td>\n",
       "      <td>0.0</td>\n",
       "      <td>0.0</td>\n",
       "      <td>0.0</td>\n",
       "      <td>128.259</td>\n",
       "      <td>22.4</td>\n",
       "      <td>Nonane</td>\n",
       "      <td>0.71760</td>\n",
       "      <td>178.733278</td>\n",
       "    </tr>\n",
       "  </tbody>\n",
       "</table>\n",
       "<p>5 rows × 22 columns</p>\n",
       "</div>"
      ],
      "text/plain": [
       "     C     H  C=C  C#C   Ar  O-alc  O-eth  O-ald  O-ket  O-acid  ...   R4  \\\n",
       "1  5.0  12.0  0.0  0.0  0.0    0.0    0.0    0.0    0.0     0.0  ...  0.0   \n",
       "2  6.0  14.0  0.0  0.0  0.0    0.0    0.0    0.0    0.0     0.0  ...  0.0   \n",
       "3  7.0  16.0  0.0  0.0  0.0    0.0    0.0    0.0    0.0     0.0  ...  0.0   \n",
       "4  8.0  18.0  0.0  0.0  0.0    0.0    0.0    0.0    0.0     0.0  ...  0.0   \n",
       "5  9.0  20.0  0.0  0.0  0.0    0.0    0.0    0.0    0.0     0.0  ...  0.0   \n",
       "\n",
       "    R5   R6   R7   R8        M  measured_st  molecule  density          mv  \n",
       "1  0.0  0.0  0.0  0.0   72.151         15.5   Pentane  0.62638  115.187267  \n",
       "2  0.0  0.0  0.0  0.0   86.178         18.0    Hexane  0.65940  130.691538  \n",
       "3  0.0  0.0  0.0  0.0  100.205         19.8   Heptane  0.68420  146.455715  \n",
       "4  0.0  0.0  0.0  0.0  114.232         21.1    Octane  0.70310  162.469066  \n",
       "5  0.0  0.0  0.0  0.0  128.259         22.4    Nonane  0.71760  178.733278  \n",
       "\n",
       "[5 rows x 22 columns]"
      ]
     },
     "execution_count": 2,
     "metadata": {},
     "output_type": "execute_result"
    }
   ],
   "source": [
    "# importing feature-engineered dataset v1 (df_fe1.csv)\n",
    "\n",
    "df_fe0 = pd.read_csv('../data/df_fe0.csv', index_col=0)\n",
    "\n",
    "# computing new feature: molar volume (mv = M/density)\n",
    "df_fe0['mv'] = df_fe0['M']/df_fe0['density']\n",
    "print(len(df_fe0))\n",
    "df_fe0.head()"
   ]
  },
  {
   "cell_type": "markdown",
   "metadata": {},
   "source": [
    "## Linear model for mv"
   ]
  },
  {
   "cell_type": "code",
   "execution_count": 49,
   "metadata": {},
   "outputs": [
    {
     "data": {
      "text/plain": [
       "185"
      ]
     },
     "execution_count": 49,
     "metadata": {},
     "output_type": "execute_result"
    }
   ],
   "source": [
    "# exclusion of samples with certain motifs due to lack of datapoints and/or irrelevance to polyester\n",
    "features_exclude = ['C#C', 'R3', 'R4', 'R7', 'R8', 'O-alc', 'O-ald', 'O-acid', 'O-ket']\n",
    "df_fe0 = df_fe0[df_fe0[features_exclude].sum(axis=1) == 0]\n",
    "len(df_fe0)"
   ]
  },
  {
   "cell_type": "code",
   "execution_count": 50,
   "metadata": {},
   "outputs": [],
   "source": [
    "st = df_fe0['measured_st']\n",
    "mv = df_fe0['mv']"
   ]
  },
  {
   "cell_type": "code",
   "execution_count": 55,
   "metadata": {},
   "outputs": [
    {
     "name": "stdout",
     "output_type": "stream",
     "text": [
      "explained_variance:  0.9991\n",
      "mean_squared_log_error:  0.0003\n",
      "r2:  0.9991\n",
      "MAE:  1.7604\n",
      "MSE:  6.4838\n",
      "RMSE:  2.5463\n",
      "         var       coef\n",
      "0  intercept  18.266681\n",
      "1          C   6.034034\n",
      "2          H   5.271587\n",
      "3        C=C   2.980169\n",
      "4         Ar   2.786611\n",
      "5      O-eth   6.045582\n",
      "6    O-ester   7.245555\n",
      "7         R5  -5.687757\n",
      "8         R6  -8.663393\n"
     ]
    }
   ],
   "source": [
    "X_mv = df_fe0.drop(['M', 'measured_st', 'molecule', 'density', 'mv']+features_exclude, axis=1)\n",
    "\n",
    "lm_mv = LinearRegression()\n",
    "lm_mv.fit(X_mv, mv)\n",
    "\n",
    "mv_hat = pd.Series(lm_mv.predict(X_mv), index=X_mv.index)\n",
    "regression_results(mv, mv_hat)\n",
    "coef_mv = (pd.DataFrame({'var': ['intercept']+X_mv.columns.tolist(), 'coef': [lm_mv.intercept_]+list(lm_mv.coef_)}))\n",
    "print(coef_mv)"
   ]
  },
  {
   "cell_type": "code",
   "execution_count": 64,
   "metadata": {},
   "outputs": [
    {
     "name": "stdout",
     "output_type": "stream",
     "text": [
      "Empty DataFrame\n",
      "Columns: [name, y, y_hat]\n",
      "Index: []\n"
     ]
    },
    {
     "data": {
      "image/png": "[encoded data removed]",
      "text/plain": [
       "<Figure size 432x288 with 1 Axes>"
      ]
     },
     "metadata": {
      "needs_background": "light"
     },
     "output_type": "display_data"
    }
   ],
   "source": [
    "# plotting results with custom function\n",
    "plot_results(mv, mv_hat, df_fe0['molecule'], 0,\n",
    "             'fe0 linear model mv\\ntested on liquids', 'predicted molar volume', 'measured molar volume')"
   ]
  },
  {
   "cell_type": "markdown",
   "metadata": {},
   "source": [
    "### Linear model 0 - parachor model\n",
    "\n",
    "In this model, surface tension (gamma) is expressed as gamma = (P/mv)^n, with <br> \n",
    "mv = M/density <br>\n",
    "n = power (value of 4 is suggested by literatures)"
   ]
  },
  {
   "cell_type": "code",
   "execution_count": 7,
   "metadata": {},
   "outputs": [],
   "source": [
    "n = 4\n",
    "X0 = df_fe0.drop(['M', 'measured_st', 'molecule', 'density', 'mv']+features_exclude, axis=1)\n",
    "y0 = (st**(1/n)) * mv"
   ]
  },
  {
   "cell_type": "code",
   "execution_count": 8,
   "metadata": {},
   "outputs": [
    {
     "name": "stdout",
     "output_type": "stream",
     "text": [
      "explained_variance:  0.8712\n",
      "mean_squared_log_error:  0.0028\n",
      "r2:  0.8712\n",
      "MAE:  0.8753\n",
      "MSE:  2.325\n",
      "RMSE:  1.5248\n",
      "         var       coef\n",
      "0  intercept  18.099149\n",
      "1          C  21.415582\n",
      "2          H   8.765918\n",
      "3        C=C   6.990393\n",
      "4         Ar   5.348100\n",
      "5      O-eth  20.095641\n",
      "6    O-ester  20.193352\n",
      "7         R5  -8.798219\n",
      "8         R6 -12.648627\n"
     ]
    }
   ],
   "source": [
    "lm0 = LinearRegression()\n",
    "lm0.fit(X0, y0)\n",
    "y_hat0 = pd.Series(lm0.predict(X0), index=X0.index)\n",
    "st_hat0 = (y_hat0/mv)**n\n",
    "\n",
    "regression_results(st, st_hat0)\n",
    "coef0 = (pd.DataFrame({'var': ['intercept']+X0.columns.tolist(), 'coef': [lm0.intercept_]+list(lm0.coef_)}))\n",
    "print(coef0)\n",
    "\n",
    "with open('../models/fe0_lm0.pickle','wb') as modelFile:\n",
    "    pickle.dump(lm0,modelFile)"
   ]
  },
  {
   "cell_type": "code",
   "execution_count": 65,
   "metadata": {},
   "outputs": [
    {
     "name": "stdout",
     "output_type": "stream",
     "text": [
      "                                name     y      y_hat\n",
      "186                    Hexyl formate  26.4  40.197617\n",
      "192                   Propyl acetate  23.8  18.457504\n",
      "53            1,2,3-Trimethylbenzene  28.3  32.707613\n",
      "283  2,2,4,4,6,8,8-Heptamethylnonane  24.2  28.327349\n",
      "235                 Methyl palmitate  29.6  26.553583\n"
     ]
    },
    {
     "data": {
      "image/png": "[encoded data removed]",
      "text/plain": [
       "<Figure size 432x288 with 1 Axes>"
      ]
     },
     "metadata": {
      "needs_background": "light"
     },
     "output_type": "display_data"
    }
   ],
   "source": [
    "# plotting results with custom function\n",
    "plot_results(st, st_hat0, df_fe0['molecule'], 5,\n",
    "             'fe0 linear model 0\\ntested on liquids', 'predicted surface tension', 'measured surface tension')"
   ]
  },
  {
   "cell_type": "markdown",
   "metadata": {},
   "source": [
    "### Linear model 1 - with features (molecular fragments) normalized by M\n",
    "\n",
    "In this model, only molecular fragments normalized (divided) by M are used as regressors."
   ]
  },
  {
   "cell_type": "code",
   "execution_count": 10,
   "metadata": {},
   "outputs": [
    {
     "data": {
      "text/html": [
       "<div>\n",
       "<style scoped>\n",
       "    .dataframe tbody tr th:only-of-type {\n",
       "        vertical-align: middle;\n",
       "    }\n",
       "\n",
       "    .dataframe tbody tr th {\n",
       "        vertical-align: top;\n",
       "    }\n",
       "\n",
       "    .dataframe thead th {\n",
       "        text-align: right;\n",
       "    }\n",
       "</style>\n",
       "<table border=\"1\" class=\"dataframe\">\n",
       "  <thead>\n",
       "    <tr style=\"text-align: right;\">\n",
       "      <th></th>\n",
       "      <th>C</th>\n",
       "      <th>H</th>\n",
       "      <th>C=C</th>\n",
       "      <th>Ar</th>\n",
       "      <th>O-eth</th>\n",
       "      <th>O-ester</th>\n",
       "      <th>R5</th>\n",
       "      <th>R6</th>\n",
       "    </tr>\n",
       "  </thead>\n",
       "  <tbody>\n",
       "    <tr>\n",
       "      <th>1</th>\n",
       "      <td>0.069299</td>\n",
       "      <td>0.166318</td>\n",
       "      <td>0.0</td>\n",
       "      <td>0.0</td>\n",
       "      <td>0.0</td>\n",
       "      <td>0.0</td>\n",
       "      <td>0.0</td>\n",
       "      <td>0.0</td>\n",
       "    </tr>\n",
       "    <tr>\n",
       "      <th>2</th>\n",
       "      <td>0.069623</td>\n",
       "      <td>0.162454</td>\n",
       "      <td>0.0</td>\n",
       "      <td>0.0</td>\n",
       "      <td>0.0</td>\n",
       "      <td>0.0</td>\n",
       "      <td>0.0</td>\n",
       "      <td>0.0</td>\n",
       "    </tr>\n",
       "    <tr>\n",
       "      <th>3</th>\n",
       "      <td>0.069857</td>\n",
       "      <td>0.159673</td>\n",
       "      <td>0.0</td>\n",
       "      <td>0.0</td>\n",
       "      <td>0.0</td>\n",
       "      <td>0.0</td>\n",
       "      <td>0.0</td>\n",
       "      <td>0.0</td>\n",
       "    </tr>\n",
       "    <tr>\n",
       "      <th>4</th>\n",
       "      <td>0.070033</td>\n",
       "      <td>0.157574</td>\n",
       "      <td>0.0</td>\n",
       "      <td>0.0</td>\n",
       "      <td>0.0</td>\n",
       "      <td>0.0</td>\n",
       "      <td>0.0</td>\n",
       "      <td>0.0</td>\n",
       "    </tr>\n",
       "    <tr>\n",
       "      <th>5</th>\n",
       "      <td>0.070171</td>\n",
       "      <td>0.155934</td>\n",
       "      <td>0.0</td>\n",
       "      <td>0.0</td>\n",
       "      <td>0.0</td>\n",
       "      <td>0.0</td>\n",
       "      <td>0.0</td>\n",
       "      <td>0.0</td>\n",
       "    </tr>\n",
       "  </tbody>\n",
       "</table>\n",
       "</div>"
      ],
      "text/plain": [
       "          C         H  C=C   Ar  O-eth  O-ester   R5   R6\n",
       "1  0.069299  0.166318  0.0  0.0    0.0      0.0  0.0  0.0\n",
       "2  0.069623  0.162454  0.0  0.0    0.0      0.0  0.0  0.0\n",
       "3  0.069857  0.159673  0.0  0.0    0.0      0.0  0.0  0.0\n",
       "4  0.070033  0.157574  0.0  0.0    0.0      0.0  0.0  0.0\n",
       "5  0.070171  0.155934  0.0  0.0    0.0      0.0  0.0  0.0"
      ]
     },
     "execution_count": 10,
     "metadata": {},
     "output_type": "execute_result"
    }
   ],
   "source": [
    "X1 = (df_fe0.drop(['M', 'measured_st', 'molecule', 'density', 'mv']+features_exclude, axis=1)\n",
    "                   .divide(df_fe0['M'], axis=0))\n",
    "X1.head()"
   ]
  },
  {
   "cell_type": "code",
   "execution_count": 11,
   "metadata": {},
   "outputs": [
    {
     "name": "stdout",
     "output_type": "stream",
     "text": [
      "explained_variance:  0.8611\n",
      "mean_squared_log_error:  0.0036\n",
      "r2:  0.8582\n",
      "MAE:  1.2032\n",
      "MSE:  2.5606\n",
      "RMSE:  1.6002\n",
      "         var          coef\n",
      "0  intercept -1.442167e+15\n",
      "1          C  1.732186e+16\n",
      "2          H  1.453704e+15\n",
      "3        C=C -1.018702e+03\n",
      "4         Ar -3.691845e+03\n",
      "5      O-eth  2.307322e+16\n",
      "6    O-ester  2.307322e+16\n",
      "7         R5 -6.617434e+02\n",
      "8         R6 -5.714224e+02\n"
     ]
    }
   ],
   "source": [
    "lm1 = LinearRegression()\n",
    "lm1.fit(X1, st)\n",
    "y_hat1 = pd.Series(lm1.predict(X1), index=X1.index)\n",
    "\n",
    "regression_results(st, y_hat1)\n",
    "coef1 = (pd.DataFrame({'var': ['intercept']+X1.columns.tolist(), 'coef': [lm1.intercept_]+list(lm1.coef_)}))\n",
    "print(coef1)\n",
    "\n",
    "with open('../models/fe0_lm1.pickle','wb') as modelFile:\n",
    "    pickle.dump(lm1,modelFile)"
   ]
  },
  {
   "cell_type": "code",
   "execution_count": 66,
   "metadata": {},
   "outputs": [
    {
     "name": "stdout",
     "output_type": "stream",
     "text": [
      "                 name     y  y_hat\n",
      "239  Dimethyl maleate  37.7  31.25\n",
      "139       Paraldehyde  25.6  31.00\n",
      "179    Methyl formate  24.3  20.00\n",
      "131       1,4-Dioxane  32.8  28.75\n",
      "246   Methyl benzoate  37.3  33.50\n"
     ]
    },
    {
     "data": {
      "image/png": "[encoded data removed]",
      "text/plain": [
       "<Figure size 432x288 with 1 Axes>"
      ]
     },
     "metadata": {
      "needs_background": "light"
     },
     "output_type": "display_data"
    }
   ],
   "source": [
    "# plotting results with custom function\n",
    "plot_results(st, y_hat1, df_fe0['molecule'], 5,\n",
    "             'fe0 linear model 1\\ntested on liquids', 'predicted surface tension', 'measured surface tension')"
   ]
  },
  {
   "cell_type": "markdown",
   "metadata": {},
   "source": [
    "# Preparation of test set"
   ]
  },
  {
   "cell_type": "code",
   "execution_count": 13,
   "metadata": {},
   "outputs": [
    {
     "data": {
      "text/html": [
       "<div>\n",
       "<style scoped>\n",
       "    .dataframe tbody tr th:only-of-type {\n",
       "        vertical-align: middle;\n",
       "    }\n",
       "\n",
       "    .dataframe tbody tr th {\n",
       "        vertical-align: top;\n",
       "    }\n",
       "\n",
       "    .dataframe thead th {\n",
       "        text-align: right;\n",
       "    }\n",
       "</style>\n",
       "<table border=\"1\" class=\"dataframe\">\n",
       "  <thead>\n",
       "    <tr style=\"text-align: right;\">\n",
       "      <th></th>\n",
       "      <th>product_no</th>\n",
       "      <th>diol_1</th>\n",
       "      <th>diol_2</th>\n",
       "      <th>diol_3</th>\n",
       "      <th>diol_4</th>\n",
       "      <th>diol_5</th>\n",
       "      <th>diol_7</th>\n",
       "      <th>diol_8</th>\n",
       "      <th>diol_9</th>\n",
       "      <th>diol_10</th>\n",
       "      <th>...</th>\n",
       "      <th>acid_9</th>\n",
       "      <th>av</th>\n",
       "      <th>ohv</th>\n",
       "      <th>tg</th>\n",
       "      <th>mn</th>\n",
       "      <th>mw</th>\n",
       "      <th>measured_st</th>\n",
       "      <th>st_polar</th>\n",
       "      <th>st_disperse</th>\n",
       "      <th>commercial</th>\n",
       "    </tr>\n",
       "  </thead>\n",
       "  <tbody>\n",
       "    <tr>\n",
       "      <th>0</th>\n",
       "      <td>JG0137</td>\n",
       "      <td>0.0</td>\n",
       "      <td>0.503</td>\n",
       "      <td>0.000</td>\n",
       "      <td>0.000</td>\n",
       "      <td>0.0</td>\n",
       "      <td>0.0</td>\n",
       "      <td>0</td>\n",
       "      <td>0</td>\n",
       "      <td>0</td>\n",
       "      <td>...</td>\n",
       "      <td>0.0</td>\n",
       "      <td>30</td>\n",
       "      <td>34</td>\n",
       "      <td>17</td>\n",
       "      <td>2500</td>\n",
       "      <td>5500</td>\n",
       "      <td>29.77</td>\n",
       "      <td>8.39</td>\n",
       "      <td>21.38</td>\n",
       "      <td>0</td>\n",
       "    </tr>\n",
       "    <tr>\n",
       "      <th>1</th>\n",
       "      <td>JG0143</td>\n",
       "      <td>0.0</td>\n",
       "      <td>0.000</td>\n",
       "      <td>0.505</td>\n",
       "      <td>0.000</td>\n",
       "      <td>0.0</td>\n",
       "      <td>0.0</td>\n",
       "      <td>0</td>\n",
       "      <td>0</td>\n",
       "      <td>0</td>\n",
       "      <td>...</td>\n",
       "      <td>0.0</td>\n",
       "      <td>30</td>\n",
       "      <td>25</td>\n",
       "      <td>94</td>\n",
       "      <td>2700</td>\n",
       "      <td>6400</td>\n",
       "      <td>33.18</td>\n",
       "      <td>13.85</td>\n",
       "      <td>19.33</td>\n",
       "      <td>0</td>\n",
       "    </tr>\n",
       "    <tr>\n",
       "      <th>2</th>\n",
       "      <td>JG0166</td>\n",
       "      <td>0.0</td>\n",
       "      <td>0.000</td>\n",
       "      <td>0.504</td>\n",
       "      <td>0.000</td>\n",
       "      <td>0.0</td>\n",
       "      <td>0.0</td>\n",
       "      <td>0</td>\n",
       "      <td>0</td>\n",
       "      <td>0</td>\n",
       "      <td>...</td>\n",
       "      <td>0.0</td>\n",
       "      <td>34</td>\n",
       "      <td>29</td>\n",
       "      <td>55</td>\n",
       "      <td>2800</td>\n",
       "      <td>7700</td>\n",
       "      <td>34.52</td>\n",
       "      <td>16.67</td>\n",
       "      <td>17.85</td>\n",
       "      <td>0</td>\n",
       "    </tr>\n",
       "    <tr>\n",
       "      <th>3</th>\n",
       "      <td>JG0325</td>\n",
       "      <td>0.0</td>\n",
       "      <td>0.000</td>\n",
       "      <td>0.513</td>\n",
       "      <td>0.000</td>\n",
       "      <td>0.0</td>\n",
       "      <td>0.0</td>\n",
       "      <td>0</td>\n",
       "      <td>0</td>\n",
       "      <td>0</td>\n",
       "      <td>...</td>\n",
       "      <td>0.0</td>\n",
       "      <td>31</td>\n",
       "      <td>37</td>\n",
       "      <td>70</td>\n",
       "      <td>2500</td>\n",
       "      <td>5800</td>\n",
       "      <td>46.10</td>\n",
       "      <td>29.91</td>\n",
       "      <td>16.19</td>\n",
       "      <td>0</td>\n",
       "    </tr>\n",
       "    <tr>\n",
       "      <th>4</th>\n",
       "      <td>JG0327</td>\n",
       "      <td>0.0</td>\n",
       "      <td>0.000</td>\n",
       "      <td>0.000</td>\n",
       "      <td>0.509</td>\n",
       "      <td>0.0</td>\n",
       "      <td>0.0</td>\n",
       "      <td>0</td>\n",
       "      <td>0</td>\n",
       "      <td>0</td>\n",
       "      <td>...</td>\n",
       "      <td>0.0</td>\n",
       "      <td>29</td>\n",
       "      <td>42</td>\n",
       "      <td>-26</td>\n",
       "      <td>2300</td>\n",
       "      <td>4600</td>\n",
       "      <td>29.11</td>\n",
       "      <td>4.47</td>\n",
       "      <td>24.64</td>\n",
       "      <td>0</td>\n",
       "    </tr>\n",
       "  </tbody>\n",
       "</table>\n",
       "<p>5 rows × 31 columns</p>\n",
       "</div>"
      ],
      "text/plain": [
       "  product_no  diol_1  diol_2  diol_3  diol_4  diol_5  diol_7  diol_8  diol_9  \\\n",
       "0     JG0137     0.0   0.503   0.000   0.000     0.0     0.0       0       0   \n",
       "1     JG0143     0.0   0.000   0.505   0.000     0.0     0.0       0       0   \n",
       "2     JG0166     0.0   0.000   0.504   0.000     0.0     0.0       0       0   \n",
       "3     JG0325     0.0   0.000   0.513   0.000     0.0     0.0       0       0   \n",
       "4     JG0327     0.0   0.000   0.000   0.509     0.0     0.0       0       0   \n",
       "\n",
       "   diol_10  ...  acid_9  av  ohv  tg    mn    mw  measured_st  st_polar  \\\n",
       "0        0  ...     0.0  30   34  17  2500  5500        29.77      8.39   \n",
       "1        0  ...     0.0  30   25  94  2700  6400        33.18     13.85   \n",
       "2        0  ...     0.0  34   29  55  2800  7700        34.52     16.67   \n",
       "3        0  ...     0.0  31   37  70  2500  5800        46.10     29.91   \n",
       "4        0  ...     0.0  29   42 -26  2300  4600        29.11      4.47   \n",
       "\n",
       "   st_disperse  commercial  \n",
       "0        21.38           0  \n",
       "1        19.33           0  \n",
       "2        17.85           0  \n",
       "3        16.19           0  \n",
       "4        24.64           0  \n",
       "\n",
       "[5 rows x 31 columns]"
      ]
     },
     "execution_count": 13,
     "metadata": {},
     "output_type": "execute_result"
    }
   ],
   "source": [
    "df_test = pd.read_csv('../data/polyesters.csv')\n",
    "df_diols_fe0 = pd.read_csv('../data/df_diols_fe0.csv', index_col=0)\n",
    "df_acids_fe0 = pd.read_csv('../data/df_acids_fe0.csv', index_col=0)\n",
    "\n",
    "# correcting 'H', O-alc', 'O-acid' and 'O-ester' by subtracting atom/functional group loss from condensation\n",
    "# TODO: make a function for this procedure\n",
    "df_diols_fe0['H'] -= 2\n",
    "df_acids_fe0['H'] -= 2\n",
    "df_diols_fe0['O-alc'] -= 2\n",
    "df_acids_fe0['O-acid'] -= 4\n",
    "df_acids_fe0['O-ester'] += 4\n",
    "\n",
    "df_monomers_fe0 = pd.concat([df_diols_fe0, df_acids_fe0])\n",
    "df_test.head()"
   ]
  },
  {
   "cell_type": "code",
   "execution_count": 14,
   "metadata": {},
   "outputs": [],
   "source": [
    "monomers = df_test.columns[df_test.columns.str.contains('diol|acid')]\n",
    "features = df_monomers_fe0.columns"
   ]
  },
  {
   "cell_type": "code",
   "execution_count": 15,
   "metadata": {},
   "outputs": [
    {
     "data": {
      "text/html": [
       "<div>\n",
       "<style scoped>\n",
       "    .dataframe tbody tr th:only-of-type {\n",
       "        vertical-align: middle;\n",
       "    }\n",
       "\n",
       "    .dataframe tbody tr th {\n",
       "        vertical-align: top;\n",
       "    }\n",
       "\n",
       "    .dataframe thead th {\n",
       "        text-align: right;\n",
       "    }\n",
       "</style>\n",
       "<table border=\"1\" class=\"dataframe\">\n",
       "  <thead>\n",
       "    <tr style=\"text-align: right;\">\n",
       "      <th></th>\n",
       "      <th>C</th>\n",
       "      <th>H</th>\n",
       "      <th>C=C</th>\n",
       "      <th>C#C</th>\n",
       "      <th>Ar</th>\n",
       "      <th>O-alc</th>\n",
       "      <th>O-eth</th>\n",
       "      <th>O-ald</th>\n",
       "      <th>O-ket</th>\n",
       "      <th>O-acid</th>\n",
       "      <th>O-ester</th>\n",
       "      <th>R3</th>\n",
       "      <th>R4</th>\n",
       "      <th>R5</th>\n",
       "      <th>R6</th>\n",
       "      <th>R7</th>\n",
       "      <th>R8</th>\n",
       "      <th>M</th>\n",
       "    </tr>\n",
       "  </thead>\n",
       "  <tbody>\n",
       "    <tr>\n",
       "      <th>0</th>\n",
       "      <td>7.206</td>\n",
       "      <td>9.128</td>\n",
       "      <td>0.149</td>\n",
       "      <td>0.0</td>\n",
       "      <td>0.249</td>\n",
       "      <td>0.0</td>\n",
       "      <td>0.0</td>\n",
       "      <td>0.0</td>\n",
       "      <td>0.0</td>\n",
       "      <td>0.0</td>\n",
       "      <td>1.988</td>\n",
       "      <td>0.0</td>\n",
       "      <td>0.0</td>\n",
       "      <td>0.0</td>\n",
       "      <td>0.503</td>\n",
       "      <td>0.0</td>\n",
       "      <td>0.0</td>\n",
       "      <td>145.669296</td>\n",
       "    </tr>\n",
       "    <tr>\n",
       "      <th>1</th>\n",
       "      <td>10.749</td>\n",
       "      <td>15.212</td>\n",
       "      <td>0.149</td>\n",
       "      <td>0.0</td>\n",
       "      <td>0.248</td>\n",
       "      <td>0.0</td>\n",
       "      <td>0.0</td>\n",
       "      <td>0.0</td>\n",
       "      <td>0.0</td>\n",
       "      <td>0.0</td>\n",
       "      <td>1.984</td>\n",
       "      <td>0.0</td>\n",
       "      <td>0.0</td>\n",
       "      <td>0.0</td>\n",
       "      <td>1.010</td>\n",
       "      <td>0.0</td>\n",
       "      <td>0.0</td>\n",
       "      <td>194.358957</td>\n",
       "    </tr>\n",
       "    <tr>\n",
       "      <th>2</th>\n",
       "      <td>10.238</td>\n",
       "      <td>16.178</td>\n",
       "      <td>0.149</td>\n",
       "      <td>0.0</td>\n",
       "      <td>0.000</td>\n",
       "      <td>0.0</td>\n",
       "      <td>0.0</td>\n",
       "      <td>0.0</td>\n",
       "      <td>0.0</td>\n",
       "      <td>0.0</td>\n",
       "      <td>1.984</td>\n",
       "      <td>0.0</td>\n",
       "      <td>0.0</td>\n",
       "      <td>0.0</td>\n",
       "      <td>1.008</td>\n",
       "      <td>0.0</td>\n",
       "      <td>0.0</td>\n",
       "      <td>189.161050</td>\n",
       "    </tr>\n",
       "    <tr>\n",
       "      <th>3</th>\n",
       "      <td>10.131</td>\n",
       "      <td>15.776</td>\n",
       "      <td>0.243</td>\n",
       "      <td>0.0</td>\n",
       "      <td>0.000</td>\n",
       "      <td>0.0</td>\n",
       "      <td>0.0</td>\n",
       "      <td>0.0</td>\n",
       "      <td>0.0</td>\n",
       "      <td>0.0</td>\n",
       "      <td>1.948</td>\n",
       "      <td>0.0</td>\n",
       "      <td>0.0</td>\n",
       "      <td>0.0</td>\n",
       "      <td>1.026</td>\n",
       "      <td>0.0</td>\n",
       "      <td>0.0</td>\n",
       "      <td>187.182675</td>\n",
       "    </tr>\n",
       "    <tr>\n",
       "      <th>4</th>\n",
       "      <td>7.037</td>\n",
       "      <td>11.620</td>\n",
       "      <td>0.245</td>\n",
       "      <td>0.0</td>\n",
       "      <td>0.000</td>\n",
       "      <td>0.0</td>\n",
       "      <td>0.0</td>\n",
       "      <td>0.0</td>\n",
       "      <td>0.0</td>\n",
       "      <td>0.0</td>\n",
       "      <td>1.964</td>\n",
       "      <td>0.0</td>\n",
       "      <td>0.0</td>\n",
       "      <td>0.0</td>\n",
       "      <td>0.000</td>\n",
       "      <td>0.0</td>\n",
       "      <td>0.0</td>\n",
       "      <td>145.959385</td>\n",
       "    </tr>\n",
       "  </tbody>\n",
       "</table>\n",
       "</div>"
      ],
      "text/plain": [
       "        C       H    C=C  C#C     Ar  O-alc  O-eth  O-ald  O-ket  O-acid  \\\n",
       "0   7.206   9.128  0.149  0.0  0.249    0.0    0.0    0.0    0.0     0.0   \n",
       "1  10.749  15.212  0.149  0.0  0.248    0.0    0.0    0.0    0.0     0.0   \n",
       "2  10.238  16.178  0.149  0.0  0.000    0.0    0.0    0.0    0.0     0.0   \n",
       "3  10.131  15.776  0.243  0.0  0.000    0.0    0.0    0.0    0.0     0.0   \n",
       "4   7.037  11.620  0.245  0.0  0.000    0.0    0.0    0.0    0.0     0.0   \n",
       "\n",
       "   O-ester   R3   R4   R5     R6   R7   R8           M  \n",
       "0    1.988  0.0  0.0  0.0  0.503  0.0  0.0  145.669296  \n",
       "1    1.984  0.0  0.0  0.0  1.010  0.0  0.0  194.358957  \n",
       "2    1.984  0.0  0.0  0.0  1.008  0.0  0.0  189.161050  \n",
       "3    1.948  0.0  0.0  0.0  1.026  0.0  0.0  187.182675  \n",
       "4    1.964  0.0  0.0  0.0  0.000  0.0  0.0  145.959385  "
      ]
     },
     "execution_count": 15,
     "metadata": {},
     "output_type": "execute_result"
    }
   ],
   "source": [
    "df_test_fe0 = avg_monomer_features(df_test, df_monomers_fe0, monomers, features)\n",
    "st_test = df_test['measured_st']\n",
    "df_test_fe0.head()"
   ]
  },
  {
   "cell_type": "markdown",
   "metadata": {},
   "source": [
    "### TEST 0 - Prediction with parachor method"
   ]
  },
  {
   "cell_type": "code",
   "execution_count": 16,
   "metadata": {},
   "outputs": [],
   "source": [
    "X_test0 = df_test_fe0[df_test_fe0.columns.difference(['M']+features_exclude)]\n",
    "mv_hat_test0 = lm_mv.predict(X_test0)\n",
    "mv_hat_test0\n",
    "y_hat_test0 = pd.Series(lm0.predict(X_test0), index=X_test0.index)\n",
    "st_hat_test0 = (y_hat_test0/mv_hat_test0)**n"
   ]
  },
  {
   "cell_type": "code",
   "execution_count": 27,
   "metadata": {},
   "outputs": [
    {
     "name": "stdout",
     "output_type": "stream",
     "text": [
      "Empty DataFrame\n",
      "Columns: [name, y, y_hat]\n",
      "Index: []\n"
     ]
    },
    {
     "data": {
      "image/png": "[encoded data removed]",
      "text/plain": [
       "<Figure size 432x288 with 1 Axes>"
      ]
     },
     "metadata": {
      "needs_background": "light"
     },
     "output_type": "display_data"
    }
   ],
   "source": [
    "# plotting results with custom function\n",
    "plot_results(st_test, st_hat_test0, df_test['product_no'], 0,\n",
    "             'fe0 Linear Model 0\\nParachor', 'predicted surface tension', 'measured surface tension',\n",
    "            with_line=False)"
   ]
  },
  {
   "cell_type": "markdown",
   "metadata": {},
   "source": [
    "### TEST 1 - Prediction with M-normalization method"
   ]
  },
  {
   "cell_type": "code",
   "execution_count": 28,
   "metadata": {},
   "outputs": [
    {
     "data": {
      "text/plain": [
       "array([-9.67047684e+14, -1.06963688e+15, -1.08776185e+15, -1.08944664e+15,\n",
       "       -1.00807949e+15, -9.88551738e+14, -9.11567613e+14, -9.89658537e+14,\n",
       "       -9.83006581e+14, -9.63636374e+14, -8.82137070e+14, -1.04614490e+15,\n",
       "       -1.04614490e+15, -1.02825344e+15, -1.07840268e+15, -9.73190508e+14,\n",
       "       -8.27236174e+14, -1.01040809e+15, -1.07098374e+15])"
      ]
     },
     "execution_count": 28,
     "metadata": {},
     "output_type": "execute_result"
    }
   ],
   "source": [
    "X_test1 = (df_test_fe0[df_test_fe0.columns.difference(['M']+features_exclude)]\n",
    "           .divide(df_test_fe0['M']-18, axis=0))\n",
    "y_hat_test1 = lm1.predict(X_test1)\n",
    "y_hat_test1"
   ]
  },
  {
   "cell_type": "code",
   "execution_count": 19,
   "metadata": {},
   "outputs": [
    {
     "data": {
      "text/plain": [
       "Text(0.5, 1.0, 'Linear Model 1\\nTest')"
      ]
     },
     "execution_count": 19,
     "metadata": {},
     "output_type": "execute_result"
    },
    {
     "data": {
      "image/png": "[encoded data removed]",
      "text/plain": [
       "<Figure size 432x288 with 1 Axes>"
      ]
     },
     "metadata": {
      "needs_background": "light"
     },
     "output_type": "display_data"
    }
   ],
   "source": []
  },
  {
   "cell_type": "markdown",
   "metadata": {},
   "source": [
    "### Linear model - mvpolym\n",
    "\n",
    "Approximation of molar volume with **polymer** data from literature"
   ]
  },
  {
   "cell_type": "code",
   "execution_count": 29,
   "metadata": {},
   "outputs": [
    {
     "data": {
      "text/plain": [
       "23"
      ]
     },
     "execution_count": 29,
     "metadata": {},
     "output_type": "execute_result"
    }
   ],
   "source": [
    "df_mvpolym_fe0 = pd.read_csv('../data/df_mvpolym_fe0.csv', index_col=0)\n",
    "len(df_mvpolym_fe0)"
   ]
  },
  {
   "cell_type": "code",
   "execution_count": 86,
   "metadata": {},
   "outputs": [
    {
     "name": "stdout",
     "output_type": "stream",
     "text": [
      "explained_variance:  0.9426\n",
      "mean_squared_log_error:  0.1764\n",
      "r2:  0.9426\n",
      "MAE:  8.2232\n",
      "MSE:  135.2354\n",
      "RMSE:  11.6291\n"
     ]
    }
   ],
   "source": [
    "features_exclude_from_mv = features_exclude + ['R5', 'R6']\n",
    "df_mvpolym_fe0 = df_mvpolym_fe0[df_mvpolym_fe0[features_exclude_from_mv].sum(axis=1) == 0]\n",
    "\n",
    "X_mvpolym = df_mvpolym_fe0.drop(['M', 'type', 'polymer', 'measured_mv', 'measured_mv_scaled', 'ru']+features_exclude_from_mv, axis=1)\n",
    "y_mvpolym = df_mvpolym_fe0['measured_mv_scaled']\n",
    "lm_mvpolym = LinearRegression()\n",
    "lm_mvpolym.fit(X_mvpolym, y_mvpolym)\n",
    "\n",
    "y_hat_mvpolym = pd.Series(lm_mvpolym.predict(X_mvpolym), index=X_mvpolym.index)\n",
    "regression_results(y_mvpolym, y_hat_mvpolym)"
   ]
  },
  {
   "cell_type": "code",
   "execution_count": 87,
   "metadata": {},
   "outputs": [
    {
     "name": "stdout",
     "output_type": "stream",
     "text": [
      "                                       name       y       y_hat\n",
      "14                poly(methyl methacrylate)   42.05   77.559554\n",
      "5                               polystyrene   50.00   68.816801\n",
      "6                     poly(4-methylstyrene)   62.60   80.665749\n",
      "22  poly(5-tridecylresorcinol isophthalate)  190.10  173.103554\n",
      "0                              polyethylene   17.30    2.895172\n"
     ]
    },
    {
     "data": {
      "image/png": "[encoded data removed]",
      "text/plain": [
       "<Figure size 432x288 with 1 Axes>"
      ]
     },
     "metadata": {
      "needs_background": "light"
     },
     "output_type": "display_data"
    }
   ],
   "source": [
    "# plotting results with custom function\n",
    "plot_results(y_mvpolym, y_hat_mvpolym, df_mvpolym_fe0['polymer'], 5,\n",
    "             'fe0 linear model mvpolym\\ntested on polymers', 'predicted molar volume', 'measured molar volume')"
   ]
  },
  {
   "cell_type": "markdown",
   "metadata": {},
   "source": [
    "### Linear model mv trained on organic liquids to predict polymer molar volume"
   ]
  },
  {
   "cell_type": "code",
   "execution_count": 84,
   "metadata": {},
   "outputs": [
    {
     "name": "stdout",
     "output_type": "stream",
     "text": [
      "explained_variance:  0.6631\n",
      "mean_squared_log_error:  0.5667\n",
      "r2:  -0.2825\n",
      "MAE:  36.7524\n",
      "MSE:  1821.474\n",
      "RMSE:  42.6787\n"
     ]
    }
   ],
   "source": [
    "X_mvpolym2 = df_mvpolym_fe0.drop(['M', 'type', 'polymer', 'measured_mv', 'measured_mv_scaled', 'ru']+features_exclude, axis=1)\n",
    "y_hat_mvpolym2 = pd.Series(lm_mv.predict(X_mvpolym2), index=X_mvpolym2.index)\n",
    "regression_results(y_hat_mvpolym2, df_mvpolym_fe0['measured_mv_scaled'])"
   ]
  },
  {
   "cell_type": "code",
   "execution_count": 93,
   "metadata": {},
   "outputs": [
    {
     "name": "stdout",
     "output_type": "stream",
     "text": [
      "                         name      y       y_hat\n",
      "10    poly(butyl vinyl ether)  54.40  123.775506\n",
      "6       poly(4-methylstyrene)  62.60  128.075464\n",
      "14  poly(methyl methacrylate)  42.05  105.100653\n",
      "5                 polystyrene  50.00  111.498257\n",
      "8             poly(1-pentene)  41.25  101.152717\n"
     ]
    },
    {
     "data": {
      "image/png": "[encoded data removed]",
      "text/plain": [
       "<Figure size 432x288 with 1 Axes>"
      ]
     },
     "metadata": {
      "needs_background": "light"
     },
     "output_type": "display_data"
    }
   ],
   "source": [
    "# plotting results with custom function\n",
    "plot_results(y_mvpolym, y_hat_mvpolym2, df_mvpolym_fe0['polymer'], 5,\n",
    "             'fe0 linear model mv\\non polymers dataset', 'predicted molar volume', 'measured molar volume')"
   ]
  },
  {
   "cell_type": "markdown",
   "metadata": {},
   "source": [
    "### Linear model mv trained on organic liquids to predict polymer molar volume (polyester only)"
   ]
  },
  {
   "cell_type": "code",
   "execution_count": 46,
   "metadata": {},
   "outputs": [
    {
     "name": "stdout",
     "output_type": "stream",
     "text": [
      "explained_variance:  0.9794\n",
      "mean_squared_log_error:  0.0109\n",
      "r2:  0.8923\n",
      "MAE:  11.1846\n",
      "MSE:  146.7864\n",
      "RMSE:  12.1155\n"
     ]
    }
   ],
   "source": [
    "df_mvpolym_polyester_fe0 = df_mvpolym_fe0[df_mvpolym_fe0['type'] == 'polyester']\n",
    "X_mvpolym3 = (df_mvpolym_polyester_fe0\n",
    "              .drop(['M', 'type', 'polymer', 'measured_mv', 'measured_mv_scaled', 'ru']+features_exclude, axis=1))\n",
    "y_hat_mvpolym3 = pd.Series(lm_mv.predict(X_mvpolym3), index=X_mvpolym3.index)\n",
    "regression_results(y_hat_mvpolym3, df_mvpolym_polyester_fe0['measured_mv_scaled'])"
   ]
  },
  {
   "cell_type": "code",
   "execution_count": 73,
   "metadata": {},
   "outputs": [
    {
     "name": "stdout",
     "output_type": "stream",
     "text": [
      "Empty DataFrame\n",
      "Columns: [name, y, y_hat]\n",
      "Index: []\n"
     ]
    },
    {
     "data": {
      "image/png": "[encoded data removed]",
      "text/plain": [
       "<Figure size 432x288 with 1 Axes>"
      ]
     },
     "metadata": {
      "needs_background": "light"
     },
     "output_type": "display_data"
    }
   ],
   "source": [
    "# plotting results with custom function\n",
    "plot_results(df_mvpolym_polyester_fe0['measured_mv_scaled'], y_hat_mvpolym3, df_mvpolym_polyester_fe0['polymer'], 0,\n",
    "             'fe0 linear model mv\\non polymers dataset (polyesters only)', 'predicted molar volume', 'measured molar volume')"
   ]
  },
  {
   "cell_type": "code",
   "execution_count": null,
   "metadata": {},
   "outputs": [],
   "source": []
  },
  {
   "cell_type": "code",
   "execution_count": null,
   "metadata": {},
   "outputs": [],
   "source": []
  }
 ],
 "metadata": {
  "kernelspec": {
   "display_name": "Python 3",
   "language": "python",
   "name": "python3"
  },
  "language_info": {
   "codemirror_mode": {
    "name": "ipython",
    "version": 3
   },
   "file_extension": ".py",
   "mimetype": "text/x-python",
   "name": "python",
   "nbconvert_exporter": "python",
   "pygments_lexer": "ipython3",
   "version": "3.7.7"
  }
 },
 "nbformat": 4,
 "nbformat_minor": 4
}
