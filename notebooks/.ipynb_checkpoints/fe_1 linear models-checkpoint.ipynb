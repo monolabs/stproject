{
 "cells": [
  {
   "cell_type": "code",
   "execution_count": 1,
   "metadata": {},
   "outputs": [],
   "source": [
    "import numpy as np\n",
    "import pandas as pd\n",
    "import matplotlib.pyplot as plt\n",
    "%matplotlib inline\n",
    "\n",
    "from sklearn.linear_model import LinearRegression\n",
    "import sklearn.metrics as metrics"
   ]
  },
  {
   "cell_type": "code",
   "execution_count": 2,
   "metadata": {},
   "outputs": [
    {
     "name": "stdout",
     "output_type": "stream",
     "text": [
      "269\n"
     ]
    },
    {
     "data": {
      "text/html": [
       "<div>\n",
       "<style scoped>\n",
       "    .dataframe tbody tr th:only-of-type {\n",
       "        vertical-align: middle;\n",
       "    }\n",
       "\n",
       "    .dataframe tbody tr th {\n",
       "        vertical-align: top;\n",
       "    }\n",
       "\n",
       "    .dataframe thead th {\n",
       "        text-align: right;\n",
       "    }\n",
       "</style>\n",
       "<table border=\"1\" class=\"dataframe\">\n",
       "  <thead>\n",
       "    <tr style=\"text-align: right;\">\n",
       "      <th></th>\n",
       "      <th>C</th>\n",
       "      <th>CH</th>\n",
       "      <th>CH2</th>\n",
       "      <th>CH3</th>\n",
       "      <th>C-ring</th>\n",
       "      <th>CH-ring</th>\n",
       "      <th>CH2-ring</th>\n",
       "      <th>C=C</th>\n",
       "      <th>C#C</th>\n",
       "      <th>Ar</th>\n",
       "      <th>...</th>\n",
       "      <th>C-O-C</th>\n",
       "      <th>CHO</th>\n",
       "      <th>CO</th>\n",
       "      <th>COOR</th>\n",
       "      <th>M</th>\n",
       "      <th>COOH</th>\n",
       "      <th>measured_st</th>\n",
       "      <th>molecule</th>\n",
       "      <th>density</th>\n",
       "      <th>mv</th>\n",
       "    </tr>\n",
       "  </thead>\n",
       "  <tbody>\n",
       "    <tr>\n",
       "      <th>1</th>\n",
       "      <td>0</td>\n",
       "      <td>0</td>\n",
       "      <td>3</td>\n",
       "      <td>2</td>\n",
       "      <td>0</td>\n",
       "      <td>0</td>\n",
       "      <td>0</td>\n",
       "      <td>0</td>\n",
       "      <td>0</td>\n",
       "      <td>0</td>\n",
       "      <td>...</td>\n",
       "      <td>0</td>\n",
       "      <td>0</td>\n",
       "      <td>0</td>\n",
       "      <td>0</td>\n",
       "      <td>72.151</td>\n",
       "      <td>0</td>\n",
       "      <td>15.5</td>\n",
       "      <td>Pentane</td>\n",
       "      <td>0.62638</td>\n",
       "      <td>115.187267</td>\n",
       "    </tr>\n",
       "    <tr>\n",
       "      <th>2</th>\n",
       "      <td>0</td>\n",
       "      <td>0</td>\n",
       "      <td>4</td>\n",
       "      <td>2</td>\n",
       "      <td>0</td>\n",
       "      <td>0</td>\n",
       "      <td>0</td>\n",
       "      <td>0</td>\n",
       "      <td>0</td>\n",
       "      <td>0</td>\n",
       "      <td>...</td>\n",
       "      <td>0</td>\n",
       "      <td>0</td>\n",
       "      <td>0</td>\n",
       "      <td>0</td>\n",
       "      <td>86.178</td>\n",
       "      <td>0</td>\n",
       "      <td>18.0</td>\n",
       "      <td>Hexane</td>\n",
       "      <td>0.65940</td>\n",
       "      <td>130.691538</td>\n",
       "    </tr>\n",
       "    <tr>\n",
       "      <th>3</th>\n",
       "      <td>0</td>\n",
       "      <td>0</td>\n",
       "      <td>5</td>\n",
       "      <td>2</td>\n",
       "      <td>0</td>\n",
       "      <td>0</td>\n",
       "      <td>0</td>\n",
       "      <td>0</td>\n",
       "      <td>0</td>\n",
       "      <td>0</td>\n",
       "      <td>...</td>\n",
       "      <td>0</td>\n",
       "      <td>0</td>\n",
       "      <td>0</td>\n",
       "      <td>0</td>\n",
       "      <td>100.205</td>\n",
       "      <td>0</td>\n",
       "      <td>19.8</td>\n",
       "      <td>Heptane</td>\n",
       "      <td>0.68420</td>\n",
       "      <td>146.455715</td>\n",
       "    </tr>\n",
       "    <tr>\n",
       "      <th>4</th>\n",
       "      <td>0</td>\n",
       "      <td>0</td>\n",
       "      <td>6</td>\n",
       "      <td>2</td>\n",
       "      <td>0</td>\n",
       "      <td>0</td>\n",
       "      <td>0</td>\n",
       "      <td>0</td>\n",
       "      <td>0</td>\n",
       "      <td>0</td>\n",
       "      <td>...</td>\n",
       "      <td>0</td>\n",
       "      <td>0</td>\n",
       "      <td>0</td>\n",
       "      <td>0</td>\n",
       "      <td>114.232</td>\n",
       "      <td>0</td>\n",
       "      <td>21.1</td>\n",
       "      <td>Octane</td>\n",
       "      <td>0.70310</td>\n",
       "      <td>162.469066</td>\n",
       "    </tr>\n",
       "    <tr>\n",
       "      <th>5</th>\n",
       "      <td>0</td>\n",
       "      <td>0</td>\n",
       "      <td>7</td>\n",
       "      <td>2</td>\n",
       "      <td>0</td>\n",
       "      <td>0</td>\n",
       "      <td>0</td>\n",
       "      <td>0</td>\n",
       "      <td>0</td>\n",
       "      <td>0</td>\n",
       "      <td>...</td>\n",
       "      <td>0</td>\n",
       "      <td>0</td>\n",
       "      <td>0</td>\n",
       "      <td>0</td>\n",
       "      <td>128.259</td>\n",
       "      <td>0</td>\n",
       "      <td>22.4</td>\n",
       "      <td>Nonane</td>\n",
       "      <td>0.71760</td>\n",
       "      <td>178.733278</td>\n",
       "    </tr>\n",
       "  </tbody>\n",
       "</table>\n",
       "<p>5 rows × 21 columns</p>\n",
       "</div>"
      ],
      "text/plain": [
       "   C  CH  CH2  CH3  C-ring  CH-ring  CH2-ring  C=C  C#C  Ar  ...  C-O-C  CHO  \\\n",
       "1  0   0    3    2       0        0         0    0    0   0  ...      0    0   \n",
       "2  0   0    4    2       0        0         0    0    0   0  ...      0    0   \n",
       "3  0   0    5    2       0        0         0    0    0   0  ...      0    0   \n",
       "4  0   0    6    2       0        0         0    0    0   0  ...      0    0   \n",
       "5  0   0    7    2       0        0         0    0    0   0  ...      0    0   \n",
       "\n",
       "   CO  COOR        M  COOH  measured_st  molecule  density          mv  \n",
       "1   0     0   72.151     0         15.5   Pentane  0.62638  115.187267  \n",
       "2   0     0   86.178     0         18.0    Hexane  0.65940  130.691538  \n",
       "3   0     0  100.205     0         19.8   Heptane  0.68420  146.455715  \n",
       "4   0     0  114.232     0         21.1    Octane  0.70310  162.469066  \n",
       "5   0     0  128.259     0         22.4    Nonane  0.71760  178.733278  \n",
       "\n",
       "[5 rows x 21 columns]"
      ]
     },
     "execution_count": 2,
     "metadata": {},
     "output_type": "execute_result"
    }
   ],
   "source": [
    "# importing feature-engineered dataset v1 (df_fe1) and appending density data from 'main' dataset (df_stliq_clean)\n",
    "\n",
    "df_fe1 = pd.read_csv('../data/df_fe1.csv', index_col=0)\n",
    "df_stliq_clean = pd.read_csv('../data/df_stliq_clean.csv', index_col=0)\n",
    "df_fe1['density'] = df_stliq_clean['density']\n",
    "\n",
    "# computing new feature: molar volume (mv = M/density)\n",
    "df_fe1['mv'] = df_fe1['M']/df_fe1['density']\n",
    "print(len(df_fe1))\n",
    "df_fe1.head()"
   ]
  },
  {
   "cell_type": "code",
   "execution_count": 3,
   "metadata": {},
   "outputs": [
    {
     "data": {
      "text/plain": [
       "199"
      ]
     },
     "execution_count": 3,
     "metadata": {},
     "output_type": "execute_result"
    }
   ],
   "source": [
    "# exclusion of samples with certain motifs due to lack of datapoints and/or irrelevance to polyester\n",
    "\n",
    "feature_exclude = ['C#C', 'C-ring', 'OH', 'CHO', 'COOH']\n",
    "df_fe1 = df_fe1[df_fe1[feature_exclude].sum(axis=1) == 0]\n",
    "len(df_fe1)"
   ]
  },
  {
   "cell_type": "code",
   "execution_count": 4,
   "metadata": {},
   "outputs": [],
   "source": [
    "def regression_results(y_true, y_pred):\n",
    "\n",
    "    # Regression metrics\n",
    "    explained_variance=metrics.explained_variance_score(y_true, y_pred)\n",
    "    mean_absolute_error=metrics.mean_absolute_error(y_true, y_pred) \n",
    "    mse=metrics.mean_squared_error(y_true, y_pred) \n",
    "    mean_squared_log_error=metrics.mean_squared_log_error(y_true, y_pred)\n",
    "    median_absolute_error=metrics.median_absolute_error(y_true, y_pred)\n",
    "    r2=metrics.r2_score(y_true, y_pred)\n",
    "\n",
    "    print('explained_variance: ', round(explained_variance,4))    \n",
    "    print('mean_squared_log_error: ', round(mean_squared_log_error,4))\n",
    "    print('r2: ', round(r2,4))\n",
    "    print('MAE: ', round(mean_absolute_error,4))\n",
    "    print('MSE: ', round(mse,4))\n",
    "    print('RMSE: ', round(np.sqrt(mse),4))"
   ]
  },
  {
   "cell_type": "code",
   "execution_count": 5,
   "metadata": {},
   "outputs": [],
   "source": [
    "# # X and y for linear model\n",
    "\n",
    "# X = df_fe1.drop(['M', 'measured_st', 'molecule', 'density', 'mv', 'C-ring', 'C#C'], axis=1)\n",
    "# y = df_fe1['measured_st']"
   ]
  },
  {
   "cell_type": "code",
   "execution_count": 6,
   "metadata": {},
   "outputs": [],
   "source": [
    "# # Linear model 1\n",
    "# lm1 =  LinearRegression()\n",
    "# lm1.fit(X, y)"
   ]
  },
  {
   "cell_type": "code",
   "execution_count": 7,
   "metadata": {},
   "outputs": [],
   "source": [
    "# # evaluation of linear model 1\n",
    "# y_hat1 = lm1.predict(X)\n",
    "# regression_results(y, y_hat1)"
   ]
  },
  {
   "cell_type": "code",
   "execution_count": 8,
   "metadata": {},
   "outputs": [],
   "source": [
    "# # linear model 2\n",
    "# # using parachor concept, scaling y dow to the power of 1/4 and multiplying by mv\n",
    "# y_para = df_fe1['measured_st'] * df_fe1['mv']\n",
    "# lm2 = LinearRegression()\n",
    "# lm2.fit(X, y_para)"
   ]
  },
  {
   "cell_type": "code",
   "execution_count": 9,
   "metadata": {},
   "outputs": [],
   "source": [
    "# # evaluation of linear model 2\n",
    "# y_hat2 = lm2.predict(X)/df_fe1['mv']\n",
    "# regression_results(y, y_hat2)"
   ]
  },
  {
   "cell_type": "code",
   "execution_count": 10,
   "metadata": {},
   "outputs": [],
   "source": [
    "# i_neg = y_hat2.index[y_hat2<0]\n",
    "# i_neg"
   ]
  },
  {
   "cell_type": "markdown",
   "metadata": {},
   "source": [
    "Features of 'furan' (index=128) was not constructed successfully, values are 0 for all features.\n",
    "Regression predicts negative value"
   ]
  },
  {
   "cell_type": "code",
   "execution_count": 11,
   "metadata": {},
   "outputs": [],
   "source": [
    "# exclusion of furan from next models\n",
    "df_fe1 = df_fe1[~df_fe1['molecule'].str.contains('Furan')]\n",
    "st = df_fe1['measured_st']\n",
    "mv = df_fe1['mv']"
   ]
  },
  {
   "cell_type": "markdown",
   "metadata": {},
   "source": [
    "### LINEAR MODEL MV - for molar volume"
   ]
  },
  {
   "cell_type": "code",
   "execution_count": 12,
   "metadata": {},
   "outputs": [
    {
     "name": "stdout",
     "output_type": "stream",
     "text": [
      "explained_variance:  0.9989\n",
      "mean_squared_log_error:  0.0004\n",
      "r2:  0.9989\n",
      "MAE:  1.9497\n",
      "MSE:  7.3507\n",
      "RMSE:  2.7112\n",
      "          var       coef\n",
      "0   intercept  26.890752\n",
      "1           C  13.268068\n",
      "2          CH  15.800499\n",
      "3         CH2  16.532250\n",
      "4         CH3  17.769664\n",
      "5     CH-ring  13.139330\n",
      "6    CH2-ring  13.221631\n",
      "7         C=C  24.599463\n",
      "8          Ar  60.442562\n",
      "9       C-O-C   5.524766\n",
      "10         CO   9.543142\n",
      "11       COOR  20.443835\n"
     ]
    }
   ],
   "source": [
    "X_mv = df_fe1.drop(['M', 'measured_st', 'molecule', 'density', 'mv']+feature_exclude, axis=1)\n",
    "\n",
    "lm_mv = LinearRegression()\n",
    "lm_mv.fit(X_mv, mv)\n",
    "\n",
    "mv_hat = lm_mv.predict(X_mv)\n",
    "regression_results(mv, mv_hat)\n",
    "coef_mv = (pd.DataFrame({'var': ['intercept']+X_mv.columns.tolist(), 'coef': [lm_mv.intercept_]+list(lm_mv.coef_)}))\n",
    "print(coef_mv)"
   ]
  },
  {
   "cell_type": "markdown",
   "metadata": {},
   "source": [
    "### LINEAR MODEL 3 - no furan, scaling of surface tension by molar volume"
   ]
  },
  {
   "cell_type": "code",
   "execution_count": 13,
   "metadata": {},
   "outputs": [],
   "source": [
    "# linear model 3 - no furan, parachor concept\n",
    "# parachor concept: scaling y down to the power of 1/n and multiplying by mv\n",
    "\n",
    "n=1.66\n",
    "X3 = df_fe1.drop(['M', 'measured_st', 'molecule', 'density', 'mv']+feature_exclude, axis=1)\n",
    "y3 = (st**(1/n)) * mv"
   ]
  },
  {
   "cell_type": "code",
   "execution_count": 14,
   "metadata": {},
   "outputs": [
    {
     "data": {
      "text/plain": [
       "LinearRegression()"
      ]
     },
     "execution_count": 14,
     "metadata": {},
     "output_type": "execute_result"
    }
   ],
   "source": [
    "lm3 = LinearRegression()\n",
    "lm3.fit(X3, y3)"
   ]
  },
  {
   "cell_type": "code",
   "execution_count": 15,
   "metadata": {},
   "outputs": [
    {
     "name": "stdout",
     "output_type": "stream",
     "text": [
      "explained_variance:  0.9237\n",
      "mean_squared_log_error:  0.0019\n",
      "r2:  0.9236\n",
      "MAE:  0.8496\n",
      "MSE:  1.3868\n",
      "RMSE:  1.1776\n"
     ]
    }
   ],
   "source": [
    "# evaluation of linear model 3\n",
    "y_hat3 = lm3.predict(X3)\n",
    "regression_results(st, (y_hat3/mv)**n)"
   ]
  },
  {
   "cell_type": "code",
   "execution_count": 16,
   "metadata": {},
   "outputs": [
    {
     "name": "stdout",
     "output_type": "stream",
     "text": [
      "          var        coef\n",
      "0   intercept   -0.454670\n",
      "1           C   94.486458\n",
      "2          CH  115.196042\n",
      "3         CH2  131.976561\n",
      "4         CH3  124.568476\n",
      "5     CH-ring  107.525784\n",
      "6    CH2-ring  125.049083\n",
      "7         C=C  240.578175\n",
      "8          Ar  675.133737\n",
      "9       C-O-C   89.271399\n",
      "10         CO  222.607545\n",
      "11       COOR  260.042527\n"
     ]
    }
   ],
   "source": [
    "# coefficients (y = a0 + a1*x1 + ...    with y = st^(1/n)*mv)\n",
    "coef3 = (pd.DataFrame({'var': ['intercept']+X3.columns.tolist(), 'coef': [lm3.intercept_]+list(lm3.coef_)}))\n",
    "print(coef3)"
   ]
  },
  {
   "cell_type": "markdown",
   "metadata": {},
   "source": [
    "### LINEAR MODEL 4 - linear model 3, ester only"
   ]
  },
  {
   "cell_type": "code",
   "execution_count": 17,
   "metadata": {},
   "outputs": [
    {
     "name": "stdout",
     "output_type": "stream",
     "text": [
      "features included = ['C', 'CH', 'CH2', 'CH3', 'C=C', 'Ar', 'CO', 'COOR']\n"
     ]
    }
   ],
   "source": [
    "df_fe1_ester = df_fe1[df_fe1['COOR'] > 0]\n",
    "\n",
    "# dropping underepresented features (nonzero data point < 2)\n",
    "\n",
    "features = df_fe1_ester.drop(['measured_st', 'molecule', 'density', 'mv', 'M'], axis=1).columns.tolist()\n",
    "features_ester = [f for f in features if np.sum(df_fe1_ester[f] > 0) > 1]\n",
    "features_not_in_ester = list(set(features) - set(features_ester))\n",
    "print(f\"features included = {features_ester}\")\n",
    "rows_ester = df_fe1_ester.index[df_fe1_ester[features_not_in_ester].sum(axis=1) == 0].tolist()\n",
    "st_ester = df_fe1_ester.loc[rows_ester, 'measured_st']\n",
    "mv_ester = df_fe1_ester.loc[rows_ester, 'mv']\n",
    "\n",
    "n=1.35\n",
    "X4 = df_fe1_ester.loc[rows_ester, features_ester]\n",
    "y4 = (st_ester**(1/n)) * mv_ester"
   ]
  },
  {
   "cell_type": "code",
   "execution_count": 18,
   "metadata": {},
   "outputs": [
    {
     "data": {
      "text/plain": [
       "LinearRegression()"
      ]
     },
     "execution_count": 18,
     "metadata": {},
     "output_type": "execute_result"
    }
   ],
   "source": [
    "lm4 = LinearRegression()\n",
    "lm4.fit(X4, y4)"
   ]
  },
  {
   "cell_type": "code",
   "execution_count": 19,
   "metadata": {},
   "outputs": [
    {
     "name": "stdout",
     "output_type": "stream",
     "text": [
      "explained_variance:  0.893\n",
      "mean_squared_log_error:  0.0016\n",
      "r2:  0.893\n",
      "MAE:  0.8503\n",
      "MSE:  1.3405\n",
      "RMSE:  1.1578\n"
     ]
    }
   ],
   "source": [
    "# evaluation of linear model 4\n",
    "y_hat4 = lm4.predict(X4)\n",
    "regression_results(st_ester, (y_hat4/mv_ester)**n)"
   ]
  },
  {
   "cell_type": "markdown",
   "metadata": {},
   "source": [
    "### Grid search for the best n"
   ]
  },
  {
   "cell_type": "code",
   "execution_count": null,
   "metadata": {},
   "outputs": [],
   "source": []
  }
 ],
 "metadata": {
  "kernelspec": {
   "display_name": "Python 3",
   "language": "python",
   "name": "python3"
  },
  "language_info": {
   "codemirror_mode": {
    "name": "ipython",
    "version": 3
   },
   "file_extension": ".py",
   "mimetype": "text/x-python",
   "name": "python",
   "nbconvert_exporter": "python",
   "pygments_lexer": "ipython3",
   "version": "3.7.7"
  }
 },
 "nbformat": 4,
 "nbformat_minor": 2
}
