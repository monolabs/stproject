{
 "cells": [
  {
   "cell_type": "code",
   "execution_count": 1,
   "metadata": {},
   "outputs": [],
   "source": [
    "from pathlib import Path\n",
    "import math\n",
    "import numpy as np\n",
    "import pandas as pd\n",
    "from rdkit import Chem\n",
    "from rdkit.Chem import PandasTools\n",
    "\n",
    "import sys\n",
    "sys.path.insert(1, '../src/stproject')\n",
    "from utils import *\n",
    "\n",
    "import os\n",
    "os.environ[\"PATH\"] += os.pathsep + 'C:/Program Files/Graphviz 2.44.1/bin/'\n",
    "\n",
    "pd.set_option('display.width', 500, 'display.max_rows', None, 'display.max_columns', None)\n",
    "data_dir_raw = Path('../data')"
   ]
  },
  {
   "cell_type": "markdown",
   "metadata": {},
   "source": [
    "## Feature engineering 0\n",
    "features:<br>\n",
    "'C' (# of C atoms)<br>\n",
    "'H' (# of H atoms)<br>\n",
    "'C=C' (# of C-C double bonds)<br>\n",
    "'C#C' (# of C-C triple bonds)<br>\n",
    "'Ar' (# of benzene rings)<br>\n",
    "'O-alc' (# of hydroxyl's O atoms)<br>\n",
    "'O-eth' (# of ether's O atoms)<br>\n",
    "'O-ald' (# of aldehyde's O atoms)<br>\n",
    "'O-ket' (# of ketone's O atoms)<br>\n",
    "'O-acid' (# of carboxylic acid's O atoms)<br>\n",
    "'O-ester' (# of ester's O atoms)<br>\n",
    "'R3' (# of 3-membered rings)<br>\n",
    "'R4' (# of 4-membered rings)<br>\n",
    "'R5' (# of 5-membered rings)<br>\n",
    "'R6' (# of 6-membered rings)<br>\n",
    "'R7' (# of 7-membered rings)<br>\n",
    "'R8' (# of 8-membered rings)"
   ]
  },
  {
   "cell_type": "markdown",
   "metadata": {},
   "source": [
    "### fe0 - liquid surface tension dataset"
   ]
  },
  {
   "cell_type": "code",
   "execution_count": 2,
   "metadata": {},
   "outputs": [],
   "source": [
    "df_stliq_clean = pd.read_csv(data_dir_raw / 'df_stliq_clean.csv', index_col=0)\n",
    "\n",
    "# adding column hosting RDKit molecule object from smiles\n",
    "PandasTools.AddMoleculeColumnToFrame(df_stliq_clean, 'smiles', 'rdkmol', includeFingerprints=True)\n",
    "\n",
    "# feature engineering + exporting data\n",
    "df_fe0 = construct_features(df_stliq_clean['rdkmol'], count_frags_0)\n",
    "df_fe0.set_index(df_stliq_clean.index, inplace=True) # recovering original index\n",
    "\n",
    "# appending measured_st and molecule name from df_stliq_clean\n",
    "df_fe0['measured_st'] = df_stliq_clean['measured_st']\n",
    "df_fe0['molecule'] = df_stliq_clean['molecule']\n",
    "df_fe0['density'] = df_stliq_clean['density']\n",
    "\n",
    "df_fe0 = df_fe0[~df_fe0['molecule'].str.contains('anhydride|carbonate|Formic acid|Furan')]\n",
    "df_fe0.to_csv(data_dir_raw / 'df_fe0.csv')"
   ]
  },
  {
   "cell_type": "markdown",
   "metadata": {},
   "source": [
    "### fe0 - diols and acids reference table"
   ]
  },
  {
   "cell_type": "code",
   "execution_count": 3,
   "metadata": {},
   "outputs": [],
   "source": [
    "# DIOLS\n",
    "df_diols = pd.read_csv(data_dir_raw / 'diols_ref.csv', index_col=0)\n",
    "\n",
    "# adding column hosting RDKit molecule object from smiles\n",
    "PandasTools.AddMoleculeColumnToFrame(df_diols, 'smiles', 'rdkmol', includeFingerprints=True)\n",
    "\n",
    "# adding features from feature engineering 0\n",
    "df_diols_fe0 = construct_features(df_diols['rdkmol'], count_frags_0)\n",
    "df_diols_fe0.set_index(df_diols.index, inplace=True) # recovering original index\n",
    "\n",
    "df_diols_fe0.to_csv(data_dir_raw / 'df_diols_fe0.csv')\n",
    "\n",
    "\n",
    "#ACIDS\n",
    "df_acids = pd.read_csv(data_dir_raw / 'acids_ref.csv', index_col=0)\n",
    "\n",
    "# adding column hosting RDKit molecule object from smiles\n",
    "PandasTools.AddMoleculeColumnToFrame(df_acids, 'smiles', 'rdkmol', includeFingerprints=True)\n",
    "\n",
    "# adding features from feature engineering 0\n",
    "df_acids_fe0 = construct_features(df_acids['rdkmol'], count_frags_0)\n",
    "df_acids_fe0.set_index(df_acids.index, inplace=True) # recovering original index\n",
    "\n",
    "df_acids_fe0.to_csv(data_dir_raw / 'df_acids_fe0.csv')"
   ]
  },
  {
   "cell_type": "markdown",
   "metadata": {},
   "source": [
    "### fe0 - polymer molar volumes dataset"
   ]
  },
  {
   "cell_type": "code",
   "execution_count": 6,
   "metadata": {},
   "outputs": [],
   "source": [
    "df_mvpolym = pd.read_csv(data_dir_raw / 'df_mvpolym.csv')\n",
    "\n",
    "# combining repeating units, smiles and molar ratios into 1 column each, containing list of repeating units, smiles\n",
    "# and molar ratios respectively\n",
    "df_mvpolym['ru'] = df_mvpolym.filter(regex='ru').values.tolist()\n",
    "df_mvpolym['smiles'] = df_mvpolym.filter(regex='smiles').values.tolist()\n",
    "df_mvpolym['molfrac'] = df_mvpolym.filter(regex='molfrac').values.tolist()\n",
    "\n",
    "# constructing list of mols from list of smiles\n",
    "def construct_rdkmol_list(df):\n",
    "    smiles_list = [smiles for smiles in df['smiles'] if type(smiles) == str] \n",
    "    return [Chem.MolFromSmiles(smiles) for smiles in smiles_list]\n",
    "\n",
    "df_mvpolym['rdkmol'] = df_mvpolym.apply(construct_rdkmol_list, axis=1)\n",
    "\n",
    "# constructing average features\n",
    "# this preserves the indices\n",
    "df_mvpolym_fe0 = construct_avg_features(df_mvpolym['rdkmol'], df_mvpolym['molfrac'], count_frags_0)\n",
    "\n",
    "# appending polymer type\n",
    "df_mvpolym_fe0['type'] = df_mvpolym['type']\n",
    "\n",
    "# correcting features based on the type of polymer\n",
    "# can be thought of as atoms/fragments lost from polymerization (e.g. H2O loss for condensation)\n"
   ]
  },
  {
   "cell_type": "code",
   "execution_count": null,
   "metadata": {},
   "outputs": [],
   "source": []
  }
 ],
 "metadata": {
  "kernelspec": {
   "display_name": "Python 3",
   "language": "python",
   "name": "python3"
  },
  "language_info": {
   "codemirror_mode": {
    "name": "ipython",
    "version": 3
   },
   "file_extension": ".py",
   "mimetype": "text/x-python",
   "name": "python",
   "nbconvert_exporter": "python",
   "pygments_lexer": "ipython3",
   "version": "3.7.7"
  }
 },
 "nbformat": 4,
 "nbformat_minor": 4
}
