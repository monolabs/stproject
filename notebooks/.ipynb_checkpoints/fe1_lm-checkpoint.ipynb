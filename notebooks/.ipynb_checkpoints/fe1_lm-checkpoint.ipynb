{
 "cells": [
  {
   "cell_type": "code",
   "execution_count": 1,
   "metadata": {},
   "outputs": [],
   "source": [
    "from pathlib import Path\n",
    "import numpy as np\n",
    "import pandas as pd\n",
    "from rdkit.Chem import PandasTools\n",
    "import matplotlib.pyplot as plt\n",
    "\n",
    "from sklearn.linear_model import LinearRegression\n",
    "from sklearn import metrics\n",
    "from sklearn.model_selection import train_test_split\n",
    "from sklearn.model_selection import GridSearchCV\n",
    "from xgboost.sklearn import XGBRegressor\n",
    "import xgboost as xgb\n",
    "from xgboost import plot_tree\n",
    "\n",
    "import os\n",
    "os.environ[\"PATH\"] += os.pathsep + 'C:/Program Files/Graphviz 2.44.1/bin/'\n",
    "\n",
    "import sys\n",
    "sys.path.insert(1, '../src/stproject')\n",
    "from utils import *\n",
    "\n",
    "\n",
    "pd.set_option('display.width', 500, 'display.max_rows', None, 'display.max_columns', None)\n",
    "data_dir_raw = Path('../data')"
   ]
  },
  {
   "cell_type": "code",
   "execution_count": 2,
   "metadata": {},
   "outputs": [],
   "source": [
    "# Generate dtrain\n",
    "df_fe1 = pd.read_csv(data_dir_raw / 'df_fe1.csv', index_col=0)\n",
    "\n",
    "features_unused = ['C#C', 'C-ring']\n",
    "df_fe1_filtered = df_fe1.loc[np.sum(df_fe1[features_unused], axis=1) == 0, df_fe1.columns.difference(features_unused)]\n",
    "X = df_fe1_filtered.drop(['measured_st', 'molecule'], axis=1)\n",
    "y = df_fe1_filtered['measured_st']"
   ]
  },
  {
   "cell_type": "code",
   "execution_count": 5,
   "metadata": {},
   "outputs": [
    {
     "data": {
      "text/plain": [
       "LinearRegression()"
      ]
     },
     "execution_count": 5,
     "metadata": {},
     "output_type": "execute_result"
    }
   ],
   "source": [
    "# Linear Regression model\n",
    "lm = LinearRegression(fit_intercept=True)\n",
    "lm.fit(X, y)"
   ]
  },
  {
   "cell_type": "code",
   "execution_count": 6,
   "metadata": {},
   "outputs": [
    {
     "name": "stdout",
     "output_type": "stream",
     "text": [
      "explained_variance:  0.7747\n",
      "mean_squared_log_error:  0.0071\n",
      "r2:  0.7747\n",
      "MAE:  1.7284\n",
      "MSE:  6.1118\n",
      "RMSE:  2.4722\n"
     ]
    }
   ],
   "source": [
    "# Linear Regression evaluation\n",
    "y_hat = lm.predict(X)\n",
    "regression_results(y, y_hat)"
   ]
  },
  {
   "cell_type": "code",
   "execution_count": 13,
   "metadata": {},
   "outputs": [],
   "source": [
    "# generating number of fragments normalized by molecular weight as features\n",
    "X_scaled = df_fe1_filtered.drop(['measured_st', 'molecule', 'M'], axis=1).divide(df_fe1_filtered['M'], axis=0)"
   ]
  },
  {
   "cell_type": "code",
   "execution_count": null,
   "metadata": {},
   "outputs": [],
   "source": []
  }
 ],
 "metadata": {
  "kernelspec": {
   "display_name": "Python 3",
   "language": "python",
   "name": "python3"
  },
  "language_info": {
   "codemirror_mode": {
    "name": "ipython",
    "version": 3
   },
   "file_extension": ".py",
   "mimetype": "text/x-python",
   "name": "python",
   "nbconvert_exporter": "python",
   "pygments_lexer": "ipython3",
   "version": "3.7.7"
  }
 },
 "nbformat": 4,
 "nbformat_minor": 4
}
