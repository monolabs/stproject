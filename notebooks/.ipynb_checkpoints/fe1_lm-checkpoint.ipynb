{
 "cells": [
  {
   "cell_type": "code",
   "execution_count": 1,
   "metadata": {},
   "outputs": [],
   "source": [
    "import numpy as np\n",
    "import pandas as pd\n",
    "import matplotlib.pyplot as plt\n",
    "import seaborn as sns\n",
    "%matplotlib inline\n",
    "\n",
    "from sklearn.linear_model import LinearRegression\n",
    "import sklearn.metrics as metrics\n",
    "\n",
    "import sys\n",
    "sys.path.insert(1, '../src/stproject')\n",
    "from utils import *\n",
    "\n",
    "import pickle"
   ]
  },
  {
   "cell_type": "code",
   "execution_count": 2,
   "metadata": {},
   "outputs": [
    {
     "name": "stdout",
     "output_type": "stream",
     "text": [
      "268\n"
     ]
    },
    {
     "data": {
      "text/html": [
       "<div>\n",
       "<style scoped>\n",
       "    .dataframe tbody tr th:only-of-type {\n",
       "        vertical-align: middle;\n",
       "    }\n",
       "\n",
       "    .dataframe tbody tr th {\n",
       "        vertical-align: top;\n",
       "    }\n",
       "\n",
       "    .dataframe thead th {\n",
       "        text-align: right;\n",
       "    }\n",
       "</style>\n",
       "<table border=\"1\" class=\"dataframe\">\n",
       "  <thead>\n",
       "    <tr style=\"text-align: right;\">\n",
       "      <th></th>\n",
       "      <th>C</th>\n",
       "      <th>CH</th>\n",
       "      <th>CH2</th>\n",
       "      <th>CH3</th>\n",
       "      <th>C-ring</th>\n",
       "      <th>CH-ring</th>\n",
       "      <th>CH2-ring</th>\n",
       "      <th>C=C</th>\n",
       "      <th>C#C</th>\n",
       "      <th>Ar</th>\n",
       "      <th>...</th>\n",
       "      <th>C-O-C</th>\n",
       "      <th>CHO</th>\n",
       "      <th>CO</th>\n",
       "      <th>COOR</th>\n",
       "      <th>M</th>\n",
       "      <th>COOH</th>\n",
       "      <th>measured_st</th>\n",
       "      <th>molecule</th>\n",
       "      <th>density</th>\n",
       "      <th>mv</th>\n",
       "    </tr>\n",
       "  </thead>\n",
       "  <tbody>\n",
       "    <tr>\n",
       "      <th>1</th>\n",
       "      <td>0.0</td>\n",
       "      <td>0.0</td>\n",
       "      <td>3.0</td>\n",
       "      <td>2.0</td>\n",
       "      <td>0.0</td>\n",
       "      <td>0.0</td>\n",
       "      <td>0.0</td>\n",
       "      <td>0.0</td>\n",
       "      <td>0.0</td>\n",
       "      <td>0.0</td>\n",
       "      <td>...</td>\n",
       "      <td>0.0</td>\n",
       "      <td>0.0</td>\n",
       "      <td>0.0</td>\n",
       "      <td>0.0</td>\n",
       "      <td>72.151</td>\n",
       "      <td>0.0</td>\n",
       "      <td>15.5</td>\n",
       "      <td>Pentane</td>\n",
       "      <td>0.62638</td>\n",
       "      <td>115.187267</td>\n",
       "    </tr>\n",
       "    <tr>\n",
       "      <th>2</th>\n",
       "      <td>0.0</td>\n",
       "      <td>0.0</td>\n",
       "      <td>4.0</td>\n",
       "      <td>2.0</td>\n",
       "      <td>0.0</td>\n",
       "      <td>0.0</td>\n",
       "      <td>0.0</td>\n",
       "      <td>0.0</td>\n",
       "      <td>0.0</td>\n",
       "      <td>0.0</td>\n",
       "      <td>...</td>\n",
       "      <td>0.0</td>\n",
       "      <td>0.0</td>\n",
       "      <td>0.0</td>\n",
       "      <td>0.0</td>\n",
       "      <td>86.178</td>\n",
       "      <td>0.0</td>\n",
       "      <td>18.0</td>\n",
       "      <td>Hexane</td>\n",
       "      <td>0.65940</td>\n",
       "      <td>130.691538</td>\n",
       "    </tr>\n",
       "    <tr>\n",
       "      <th>3</th>\n",
       "      <td>0.0</td>\n",
       "      <td>0.0</td>\n",
       "      <td>5.0</td>\n",
       "      <td>2.0</td>\n",
       "      <td>0.0</td>\n",
       "      <td>0.0</td>\n",
       "      <td>0.0</td>\n",
       "      <td>0.0</td>\n",
       "      <td>0.0</td>\n",
       "      <td>0.0</td>\n",
       "      <td>...</td>\n",
       "      <td>0.0</td>\n",
       "      <td>0.0</td>\n",
       "      <td>0.0</td>\n",
       "      <td>0.0</td>\n",
       "      <td>100.205</td>\n",
       "      <td>0.0</td>\n",
       "      <td>19.8</td>\n",
       "      <td>Heptane</td>\n",
       "      <td>0.68420</td>\n",
       "      <td>146.455715</td>\n",
       "    </tr>\n",
       "    <tr>\n",
       "      <th>4</th>\n",
       "      <td>0.0</td>\n",
       "      <td>0.0</td>\n",
       "      <td>6.0</td>\n",
       "      <td>2.0</td>\n",
       "      <td>0.0</td>\n",
       "      <td>0.0</td>\n",
       "      <td>0.0</td>\n",
       "      <td>0.0</td>\n",
       "      <td>0.0</td>\n",
       "      <td>0.0</td>\n",
       "      <td>...</td>\n",
       "      <td>0.0</td>\n",
       "      <td>0.0</td>\n",
       "      <td>0.0</td>\n",
       "      <td>0.0</td>\n",
       "      <td>114.232</td>\n",
       "      <td>0.0</td>\n",
       "      <td>21.1</td>\n",
       "      <td>Octane</td>\n",
       "      <td>0.70310</td>\n",
       "      <td>162.469066</td>\n",
       "    </tr>\n",
       "    <tr>\n",
       "      <th>5</th>\n",
       "      <td>0.0</td>\n",
       "      <td>0.0</td>\n",
       "      <td>7.0</td>\n",
       "      <td>2.0</td>\n",
       "      <td>0.0</td>\n",
       "      <td>0.0</td>\n",
       "      <td>0.0</td>\n",
       "      <td>0.0</td>\n",
       "      <td>0.0</td>\n",
       "      <td>0.0</td>\n",
       "      <td>...</td>\n",
       "      <td>0.0</td>\n",
       "      <td>0.0</td>\n",
       "      <td>0.0</td>\n",
       "      <td>0.0</td>\n",
       "      <td>128.259</td>\n",
       "      <td>0.0</td>\n",
       "      <td>22.4</td>\n",
       "      <td>Nonane</td>\n",
       "      <td>0.71760</td>\n",
       "      <td>178.733278</td>\n",
       "    </tr>\n",
       "  </tbody>\n",
       "</table>\n",
       "<p>5 rows × 21 columns</p>\n",
       "</div>"
      ],
      "text/plain": [
       "     C   CH  CH2  CH3  C-ring  CH-ring  CH2-ring  C=C  C#C   Ar  ...  C-O-C  \\\n",
       "1  0.0  0.0  3.0  2.0     0.0      0.0       0.0  0.0  0.0  0.0  ...    0.0   \n",
       "2  0.0  0.0  4.0  2.0     0.0      0.0       0.0  0.0  0.0  0.0  ...    0.0   \n",
       "3  0.0  0.0  5.0  2.0     0.0      0.0       0.0  0.0  0.0  0.0  ...    0.0   \n",
       "4  0.0  0.0  6.0  2.0     0.0      0.0       0.0  0.0  0.0  0.0  ...    0.0   \n",
       "5  0.0  0.0  7.0  2.0     0.0      0.0       0.0  0.0  0.0  0.0  ...    0.0   \n",
       "\n",
       "   CHO   CO  COOR        M  COOH  measured_st  molecule  density          mv  \n",
       "1  0.0  0.0   0.0   72.151   0.0         15.5   Pentane  0.62638  115.187267  \n",
       "2  0.0  0.0   0.0   86.178   0.0         18.0    Hexane  0.65940  130.691538  \n",
       "3  0.0  0.0   0.0  100.205   0.0         19.8   Heptane  0.68420  146.455715  \n",
       "4  0.0  0.0   0.0  114.232   0.0         21.1    Octane  0.70310  162.469066  \n",
       "5  0.0  0.0   0.0  128.259   0.0         22.4    Nonane  0.71760  178.733278  \n",
       "\n",
       "[5 rows x 21 columns]"
      ]
     },
     "execution_count": 2,
     "metadata": {},
     "output_type": "execute_result"
    }
   ],
   "source": [
    "# importing feature-engineered dataset v1 (df_fe1.csv)\n",
    "\n",
    "df_fe1 = pd.read_csv('../data/df_fe1.csv', index_col=0)\n",
    "\n",
    "# computing new feature: molar volume (mv = M/density)\n",
    "df_fe1['mv'] = df_fe1['M']/df_fe1['density']\n",
    "print(len(df_fe1))\n",
    "df_fe1.head()"
   ]
  },
  {
   "cell_type": "markdown",
   "metadata": {},
   "source": [
    "## Linear model for mv"
   ]
  },
  {
   "cell_type": "code",
   "execution_count": 5,
   "metadata": {},
   "outputs": [
    {
     "data": {
      "text/plain": [
       "188"
      ]
     },
     "execution_count": 5,
     "metadata": {},
     "output_type": "execute_result"
    }
   ],
   "source": [
    "# exclusion of samples with certain motifs due to lack of datapoints and/or irrelevance to polyester\n",
    "features_exclude = ['C#C', 'C-ring', 'OH', 'CHO', 'CO', 'COOH']\n",
    "df_fe1 = df_fe1[df_fe1[features_exclude].sum(axis=1) == 0]\n",
    "len(df_fe1)"
   ]
  },
  {
   "cell_type": "code",
   "execution_count": 6,
   "metadata": {},
   "outputs": [],
   "source": [
    "st = df_fe1['measured_st']\n",
    "mv = df_fe1['mv']"
   ]
  },
  {
   "cell_type": "code",
   "execution_count": 8,
   "metadata": {},
   "outputs": [
    {
     "name": "stdout",
     "output_type": "stream",
     "text": [
      "explained_variance:  0.999\n",
      "mean_squared_log_error:  0.0004\n",
      "r2:  0.999\n",
      "MAE:  1.9297\n",
      "MSE:  7.0394\n",
      "RMSE:  2.6532\n",
      "          var       coef\n",
      "0   intercept  26.928182\n",
      "1           C  13.301486\n",
      "2          CH  15.803600\n",
      "3         CH2  16.534288\n",
      "4         CH3  17.753248\n",
      "5     CH-ring  13.161606\n",
      "6    CH2-ring  13.210124\n",
      "7         C=C  24.575174\n",
      "8          Ar  60.431005\n",
      "9       C-O-C   5.519402\n",
      "10       COOR  20.437433\n"
     ]
    }
   ],
   "source": [
    "X_mv = df_fe1.drop(['M', 'measured_st', 'molecule', 'density', 'mv']+features_exclude, axis=1)\n",
    "\n",
    "lm_mv = LinearRegression()\n",
    "lm_mv.fit(X_mv, mv)\n",
    "\n",
    "mv_hat = pd.Series(lm_mv.predict(X_mv), index=X_mv.index)\n",
    "regression_results(mv, mv_hat)\n",
    "coef_mv = (pd.DataFrame({'var': ['intercept']+X_mv.columns.tolist(), 'coef': [lm_mv.intercept_]+list(lm_mv.coef_)}))\n",
    "print(coef_mv)"
   ]
  },
  {
   "cell_type": "code",
   "execution_count": 12,
   "metadata": {},
   "outputs": [
    {
     "name": "stdout",
     "output_type": "stream",
     "text": [
      "Empty DataFrame\n",
      "Columns: [name, y, y_hat]\n",
      "Index: []\n"
     ]
    },
    {
     "data": {
      "image/png": "[encoded data removed]",
      "text/plain": [
       "<Figure size 432x288 with 1 Axes>"
      ]
     },
     "metadata": {
      "needs_background": "light"
     },
     "output_type": "display_data"
    }
   ],
   "source": [
    "# plotting results with custom function\n",
    "plot_results(mv, mv_hat, df_fe1['molecule'], 0,\n",
    "             'fe1 linear model mv\\non liquids dataset', 'predicted molar volume', 'measured molar volume')"
   ]
  },
  {
   "cell_type": "markdown",
   "metadata": {},
   "source": [
    "### Linear model 0 - parachor model\n",
    "\n",
    "In this model, surface tension (gamma) is expressed as gamma = (P/mv)^n, with <br> \n",
    "mv = M/density <br>\n",
    "n = power (value of 4 is suggested by literatures)"
   ]
  },
  {
   "cell_type": "code",
   "execution_count": 17,
   "metadata": {},
   "outputs": [],
   "source": [
    "n = 4\n",
    "X0 = df_fe1.drop(['M', 'measured_st', 'molecule', 'density', 'mv']+features_exclude, axis=1)\n",
    "y0 = (st**(1/n)) * mv"
   ]
  },
  {
   "cell_type": "code",
   "execution_count": 21,
   "metadata": {},
   "outputs": [
    {
     "name": "stdout",
     "output_type": "stream",
     "text": [
      "explained_variance:  0.8367\n",
      "mean_squared_log_error:  0.0033\n",
      "r2:  0.8365\n",
      "MAE:  0.9857\n",
      "MSE:  2.9284\n",
      "RMSE:  1.7113\n",
      "          var        coef\n",
      "0   intercept   35.422202\n",
      "1           C   29.718480\n",
      "2          CH   36.155376\n",
      "3         CH2   39.225298\n",
      "4         CH3   39.801181\n",
      "5     CH-ring   31.776546\n",
      "6    CH2-ring   33.854806\n",
      "7         C=C   64.044574\n",
      "8          Ar  168.315868\n",
      "9       C-O-C   18.824672\n",
      "10       COOR   60.995764\n"
     ]
    }
   ],
   "source": [
    "lm0 = LinearRegression()\n",
    "lm0.fit(X0, y0)\n",
    "y_hat0 = lm0.predict(X0)\n",
    "st_hat0 = (y_hat0/mv)**n\n",
    "\n",
    "regression_results(st, st_hat0)\n",
    "coef0 = (pd.DataFrame({'var': ['intercept']+X0.columns.tolist(), 'coef': [lm0.intercept_]+list(lm0.coef_)}))\n",
    "print(coef0)\n",
    "\n",
    "with open('../models/fe1_lm0.pickle','wb') as modelFile:\n",
    "    pickle.dump(lm0,modelFile)"
   ]
  },
  {
   "cell_type": "code",
   "execution_count": 22,
   "metadata": {},
   "outputs": [
    {
     "name": "stdout",
     "output_type": "stream",
     "text": [
      "                              name     y      y_hat\n",
      "186                  Hexyl formate  26.4  40.797187\n",
      "69   1,2,3,4-Tetrahydronaphthalene  33.2  38.374707\n",
      "53          1,2,3-Trimethylbenzene  28.3  33.431289\n",
      "192                 Propyl acetate  23.8  18.824065\n",
      "42                    Cyclopentene  22.0  26.943248\n"
     ]
    },
    {
     "data": {
      "image/png": "[encoded data removed]",
      "text/plain": [
       "<Figure size 432x288 with 1 Axes>"
      ]
     },
     "metadata": {
      "needs_background": "light"
     },
     "output_type": "display_data"
    }
   ],
   "source": [
    "# plotting results with custom function\n",
    "plot_results(st, st_hat0, df_fe1['molecule'], 5,\n",
    "             'fe1 linear model 0\\non liquids dataset', 'predicted surface tension', 'measured surface tension')"
   ]
  },
  {
   "cell_type": "markdown",
   "metadata": {},
   "source": [
    "### Linear model 1 - with features (molecular fragments) normalized by M\n",
    "\n",
    "In this model, only molecular fragments normalized (divided) by M are used as regressors."
   ]
  },
  {
   "cell_type": "code",
   "execution_count": 23,
   "metadata": {},
   "outputs": [
    {
     "data": {
      "text/html": [
       "<div>\n",
       "<style scoped>\n",
       "    .dataframe tbody tr th:only-of-type {\n",
       "        vertical-align: middle;\n",
       "    }\n",
       "\n",
       "    .dataframe tbody tr th {\n",
       "        vertical-align: top;\n",
       "    }\n",
       "\n",
       "    .dataframe thead th {\n",
       "        text-align: right;\n",
       "    }\n",
       "</style>\n",
       "<table border=\"1\" class=\"dataframe\">\n",
       "  <thead>\n",
       "    <tr style=\"text-align: right;\">\n",
       "      <th></th>\n",
       "      <th>C</th>\n",
       "      <th>CH</th>\n",
       "      <th>CH2</th>\n",
       "      <th>CH3</th>\n",
       "      <th>CH-ring</th>\n",
       "      <th>CH2-ring</th>\n",
       "      <th>C=C</th>\n",
       "      <th>Ar</th>\n",
       "      <th>C-O-C</th>\n",
       "      <th>COOR</th>\n",
       "    </tr>\n",
       "  </thead>\n",
       "  <tbody>\n",
       "    <tr>\n",
       "      <th>1</th>\n",
       "      <td>0.0</td>\n",
       "      <td>0.0</td>\n",
       "      <td>0.041579</td>\n",
       "      <td>0.027720</td>\n",
       "      <td>0.0</td>\n",
       "      <td>0.0</td>\n",
       "      <td>0.0</td>\n",
       "      <td>0.0</td>\n",
       "      <td>0.0</td>\n",
       "      <td>0.0</td>\n",
       "    </tr>\n",
       "    <tr>\n",
       "      <th>2</th>\n",
       "      <td>0.0</td>\n",
       "      <td>0.0</td>\n",
       "      <td>0.046416</td>\n",
       "      <td>0.023208</td>\n",
       "      <td>0.0</td>\n",
       "      <td>0.0</td>\n",
       "      <td>0.0</td>\n",
       "      <td>0.0</td>\n",
       "      <td>0.0</td>\n",
       "      <td>0.0</td>\n",
       "    </tr>\n",
       "    <tr>\n",
       "      <th>3</th>\n",
       "      <td>0.0</td>\n",
       "      <td>0.0</td>\n",
       "      <td>0.049898</td>\n",
       "      <td>0.019959</td>\n",
       "      <td>0.0</td>\n",
       "      <td>0.0</td>\n",
       "      <td>0.0</td>\n",
       "      <td>0.0</td>\n",
       "      <td>0.0</td>\n",
       "      <td>0.0</td>\n",
       "    </tr>\n",
       "    <tr>\n",
       "      <th>4</th>\n",
       "      <td>0.0</td>\n",
       "      <td>0.0</td>\n",
       "      <td>0.052525</td>\n",
       "      <td>0.017508</td>\n",
       "      <td>0.0</td>\n",
       "      <td>0.0</td>\n",
       "      <td>0.0</td>\n",
       "      <td>0.0</td>\n",
       "      <td>0.0</td>\n",
       "      <td>0.0</td>\n",
       "    </tr>\n",
       "    <tr>\n",
       "      <th>5</th>\n",
       "      <td>0.0</td>\n",
       "      <td>0.0</td>\n",
       "      <td>0.054577</td>\n",
       "      <td>0.015593</td>\n",
       "      <td>0.0</td>\n",
       "      <td>0.0</td>\n",
       "      <td>0.0</td>\n",
       "      <td>0.0</td>\n",
       "      <td>0.0</td>\n",
       "      <td>0.0</td>\n",
       "    </tr>\n",
       "  </tbody>\n",
       "</table>\n",
       "</div>"
      ],
      "text/plain": [
       "     C   CH       CH2       CH3  CH-ring  CH2-ring  C=C   Ar  C-O-C  COOR\n",
       "1  0.0  0.0  0.041579  0.027720      0.0       0.0  0.0  0.0    0.0   0.0\n",
       "2  0.0  0.0  0.046416  0.023208      0.0       0.0  0.0  0.0    0.0   0.0\n",
       "3  0.0  0.0  0.049898  0.019959      0.0       0.0  0.0  0.0    0.0   0.0\n",
       "4  0.0  0.0  0.052525  0.017508      0.0       0.0  0.0  0.0    0.0   0.0\n",
       "5  0.0  0.0  0.054577  0.015593      0.0       0.0  0.0  0.0    0.0   0.0"
      ]
     },
     "execution_count": 23,
     "metadata": {},
     "output_type": "execute_result"
    }
   ],
   "source": [
    "X1 = (df_fe1.drop(['M', 'measured_st', 'molecule', 'density', 'mv']+features_exclude, axis=1)\n",
    "                   .divide(df_fe1['M'], axis=0))\n",
    "X1.head()"
   ]
  },
  {
   "cell_type": "code",
   "execution_count": 27,
   "metadata": {},
   "outputs": [
    {
     "name": "stdout",
     "output_type": "stream",
     "text": [
      "explained_variance:  0.8579\n",
      "mean_squared_log_error:  0.0034\n",
      "r2:  0.8579\n",
      "MAE:  1.2105\n",
      "MSE:  2.5455\n",
      "RMSE:  1.5955\n",
      "          var          coef\n",
      "0   intercept   -452.316610\n",
      "1           C   6832.075466\n",
      "2          CH   6715.342903\n",
      "3         CH2   6777.067641\n",
      "4         CH3   6688.926417\n",
      "5     CH-ring   6513.806194\n",
      "6    CH2-ring   6696.667585\n",
      "7         C=C  12529.061226\n",
      "8          Ar  37718.713551\n",
      "9       C-O-C   7908.558595\n",
      "10       COOR  21786.552462\n"
     ]
    }
   ],
   "source": [
    "lm1 = LinearRegression()\n",
    "lm1.fit(X1, st)\n",
    "y_hat1 = pd.Series(lm1.predict(X1), index=X1.index)\n",
    "\n",
    "regression_results(st, y1_hat)\n",
    "coef1 = (pd.DataFrame({'var': ['intercept']+X1.columns.tolist(), 'coef': [lm1.intercept_]+list(lm1.coef_)}))\n",
    "print(coef1)\n",
    "\n",
    "with open('../models/fe1_lm1.pickle','wb') as modelFile:\n",
    "    pickle.dump(lm1,modelFile)"
   ]
  },
  {
   "cell_type": "code",
   "execution_count": 29,
   "metadata": {},
   "outputs": [
    {
     "name": "stdout",
     "output_type": "stream",
     "text": [
      "                                    name     y      y_hat\n",
      "239                     Dimethyl maleate  37.7  29.761703\n",
      "42                          Cyclopentene  22.0  26.537513\n",
      "127                  1,2-Propylene oxide  22.2  26.470559\n",
      "27                           Cyclooctane  29.3  25.096064\n",
      "133  Tetraethylene glycol dimethyl ether  33.7  29.673245\n"
     ]
    },
    {
     "data": {
      "image/png": "[encoded data removed]",
      "text/plain": [
       "<Figure size 432x288 with 1 Axes>"
      ]
     },
     "metadata": {
      "needs_background": "light"
     },
     "output_type": "display_data"
    }
   ],
   "source": [
    "# plotting results with custom function\n",
    "plot_results(st, y_hat1, df_fe1['molecule'], 5,\n",
    "            'fe1 linear model 1\\non liquids dataset', 'predicted surface tension', 'surface tension')"
   ]
  },
  {
   "cell_type": "markdown",
   "metadata": {},
   "source": [
    "# Preparation of test set"
   ]
  },
  {
   "cell_type": "code",
   "execution_count": 64,
   "metadata": {},
   "outputs": [
    {
     "data": {
      "text/html": [
       "<div>\n",
       "<style scoped>\n",
       "    .dataframe tbody tr th:only-of-type {\n",
       "        vertical-align: middle;\n",
       "    }\n",
       "\n",
       "    .dataframe tbody tr th {\n",
       "        vertical-align: top;\n",
       "    }\n",
       "\n",
       "    .dataframe thead th {\n",
       "        text-align: right;\n",
       "    }\n",
       "</style>\n",
       "<table border=\"1\" class=\"dataframe\">\n",
       "  <thead>\n",
       "    <tr style=\"text-align: right;\">\n",
       "      <th></th>\n",
       "      <th>C</th>\n",
       "      <th>H</th>\n",
       "      <th>C=C</th>\n",
       "      <th>C#C</th>\n",
       "      <th>Ar</th>\n",
       "      <th>O-alc</th>\n",
       "      <th>O-eth</th>\n",
       "      <th>O-ald</th>\n",
       "      <th>O-ket</th>\n",
       "      <th>O-acid</th>\n",
       "      <th>O-ester</th>\n",
       "      <th>R3</th>\n",
       "      <th>R4</th>\n",
       "      <th>R5</th>\n",
       "      <th>R6</th>\n",
       "      <th>R7</th>\n",
       "      <th>R8</th>\n",
       "      <th>M</th>\n",
       "    </tr>\n",
       "  </thead>\n",
       "  <tbody>\n",
       "    <tr>\n",
       "      <th>diol_1</th>\n",
       "      <td>12.0</td>\n",
       "      <td>18.0</td>\n",
       "      <td>0.0</td>\n",
       "      <td>0.0</td>\n",
       "      <td>0.0</td>\n",
       "      <td>0.0</td>\n",
       "      <td>0.0</td>\n",
       "      <td>0.0</td>\n",
       "      <td>0.0</td>\n",
       "      <td>0.0</td>\n",
       "      <td>0.0</td>\n",
       "      <td>0.0</td>\n",
       "      <td>0.0</td>\n",
       "      <td>3.0</td>\n",
       "      <td>0.0</td>\n",
       "      <td>0.0</td>\n",
       "      <td>0.0</td>\n",
       "      <td>196.290</td>\n",
       "    </tr>\n",
       "    <tr>\n",
       "      <th>diol_2</th>\n",
       "      <td>8.0</td>\n",
       "      <td>14.0</td>\n",
       "      <td>0.0</td>\n",
       "      <td>0.0</td>\n",
       "      <td>0.0</td>\n",
       "      <td>0.0</td>\n",
       "      <td>0.0</td>\n",
       "      <td>0.0</td>\n",
       "      <td>0.0</td>\n",
       "      <td>0.0</td>\n",
       "      <td>0.0</td>\n",
       "      <td>0.0</td>\n",
       "      <td>0.0</td>\n",
       "      <td>0.0</td>\n",
       "      <td>1.0</td>\n",
       "      <td>0.0</td>\n",
       "      <td>0.0</td>\n",
       "      <td>144.214</td>\n",
       "    </tr>\n",
       "    <tr>\n",
       "      <th>diol_3</th>\n",
       "      <td>15.0</td>\n",
       "      <td>26.0</td>\n",
       "      <td>0.0</td>\n",
       "      <td>0.0</td>\n",
       "      <td>0.0</td>\n",
       "      <td>0.0</td>\n",
       "      <td>0.0</td>\n",
       "      <td>0.0</td>\n",
       "      <td>0.0</td>\n",
       "      <td>0.0</td>\n",
       "      <td>0.0</td>\n",
       "      <td>0.0</td>\n",
       "      <td>0.0</td>\n",
       "      <td>0.0</td>\n",
       "      <td>2.0</td>\n",
       "      <td>0.0</td>\n",
       "      <td>0.0</td>\n",
       "      <td>240.387</td>\n",
       "    </tr>\n",
       "    <tr>\n",
       "      <th>diol_4</th>\n",
       "      <td>9.0</td>\n",
       "      <td>18.0</td>\n",
       "      <td>0.0</td>\n",
       "      <td>0.0</td>\n",
       "      <td>0.0</td>\n",
       "      <td>0.0</td>\n",
       "      <td>0.0</td>\n",
       "      <td>0.0</td>\n",
       "      <td>0.0</td>\n",
       "      <td>0.0</td>\n",
       "      <td>0.0</td>\n",
       "      <td>0.0</td>\n",
       "      <td>0.0</td>\n",
       "      <td>0.0</td>\n",
       "      <td>0.0</td>\n",
       "      <td>0.0</td>\n",
       "      <td>0.0</td>\n",
       "      <td>160.257</td>\n",
       "    </tr>\n",
       "    <tr>\n",
       "      <th>diol_5</th>\n",
       "      <td>8.0</td>\n",
       "      <td>16.0</td>\n",
       "      <td>0.0</td>\n",
       "      <td>0.0</td>\n",
       "      <td>0.0</td>\n",
       "      <td>0.0</td>\n",
       "      <td>0.0</td>\n",
       "      <td>0.0</td>\n",
       "      <td>0.0</td>\n",
       "      <td>0.0</td>\n",
       "      <td>0.0</td>\n",
       "      <td>0.0</td>\n",
       "      <td>0.0</td>\n",
       "      <td>0.0</td>\n",
       "      <td>0.0</td>\n",
       "      <td>0.0</td>\n",
       "      <td>0.0</td>\n",
       "      <td>146.230</td>\n",
       "    </tr>\n",
       "    <tr>\n",
       "      <th>diol_7</th>\n",
       "      <td>5.0</td>\n",
       "      <td>10.0</td>\n",
       "      <td>0.0</td>\n",
       "      <td>0.0</td>\n",
       "      <td>0.0</td>\n",
       "      <td>0.0</td>\n",
       "      <td>0.0</td>\n",
       "      <td>0.0</td>\n",
       "      <td>0.0</td>\n",
       "      <td>0.0</td>\n",
       "      <td>0.0</td>\n",
       "      <td>0.0</td>\n",
       "      <td>0.0</td>\n",
       "      <td>0.0</td>\n",
       "      <td>0.0</td>\n",
       "      <td>0.0</td>\n",
       "      <td>0.0</td>\n",
       "      <td>104.149</td>\n",
       "    </tr>\n",
       "    <tr>\n",
       "      <th>diol_8</th>\n",
       "      <td>14.0</td>\n",
       "      <td>24.0</td>\n",
       "      <td>0.0</td>\n",
       "      <td>1.0</td>\n",
       "      <td>0.0</td>\n",
       "      <td>0.0</td>\n",
       "      <td>0.0</td>\n",
       "      <td>0.0</td>\n",
       "      <td>0.0</td>\n",
       "      <td>0.0</td>\n",
       "      <td>0.0</td>\n",
       "      <td>0.0</td>\n",
       "      <td>0.0</td>\n",
       "      <td>0.0</td>\n",
       "      <td>0.0</td>\n",
       "      <td>0.0</td>\n",
       "      <td>0.0</td>\n",
       "      <td>226.360</td>\n",
       "    </tr>\n",
       "    <tr>\n",
       "      <th>diol_9</th>\n",
       "      <td>14.0</td>\n",
       "      <td>24.0</td>\n",
       "      <td>0.0</td>\n",
       "      <td>1.0</td>\n",
       "      <td>0.0</td>\n",
       "      <td>0.0</td>\n",
       "      <td>0.0</td>\n",
       "      <td>0.0</td>\n",
       "      <td>0.0</td>\n",
       "      <td>0.0</td>\n",
       "      <td>0.0</td>\n",
       "      <td>0.0</td>\n",
       "      <td>0.0</td>\n",
       "      <td>0.0</td>\n",
       "      <td>0.0</td>\n",
       "      <td>0.0</td>\n",
       "      <td>0.0</td>\n",
       "      <td>226.360</td>\n",
       "    </tr>\n",
       "    <tr>\n",
       "      <th>diol_10</th>\n",
       "      <td>5.0</td>\n",
       "      <td>10.0</td>\n",
       "      <td>0.0</td>\n",
       "      <td>0.0</td>\n",
       "      <td>0.0</td>\n",
       "      <td>3.0</td>\n",
       "      <td>0.0</td>\n",
       "      <td>0.0</td>\n",
       "      <td>0.0</td>\n",
       "      <td>0.0</td>\n",
       "      <td>0.0</td>\n",
       "      <td>0.0</td>\n",
       "      <td>0.0</td>\n",
       "      <td>0.0</td>\n",
       "      <td>0.0</td>\n",
       "      <td>0.0</td>\n",
       "      <td>0.0</td>\n",
       "      <td>152.146</td>\n",
       "    </tr>\n",
       "    <tr>\n",
       "      <th>diol_11</th>\n",
       "      <td>6.0</td>\n",
       "      <td>10.0</td>\n",
       "      <td>0.0</td>\n",
       "      <td>0.0</td>\n",
       "      <td>0.0</td>\n",
       "      <td>0.0</td>\n",
       "      <td>0.0</td>\n",
       "      <td>0.0</td>\n",
       "      <td>0.0</td>\n",
       "      <td>0.0</td>\n",
       "      <td>0.0</td>\n",
       "      <td>0.0</td>\n",
       "      <td>0.0</td>\n",
       "      <td>0.0</td>\n",
       "      <td>1.0</td>\n",
       "      <td>0.0</td>\n",
       "      <td>0.0</td>\n",
       "      <td>116.160</td>\n",
       "    </tr>\n",
       "    <tr>\n",
       "      <th>diol_12</th>\n",
       "      <td>9.0</td>\n",
       "      <td>18.0</td>\n",
       "      <td>0.0</td>\n",
       "      <td>0.0</td>\n",
       "      <td>0.0</td>\n",
       "      <td>0.0</td>\n",
       "      <td>0.0</td>\n",
       "      <td>0.0</td>\n",
       "      <td>0.0</td>\n",
       "      <td>0.0</td>\n",
       "      <td>0.0</td>\n",
       "      <td>0.0</td>\n",
       "      <td>0.0</td>\n",
       "      <td>0.0</td>\n",
       "      <td>0.0</td>\n",
       "      <td>0.0</td>\n",
       "      <td>0.0</td>\n",
       "      <td>160.257</td>\n",
       "    </tr>\n",
       "    <tr>\n",
       "      <th>diol_14</th>\n",
       "      <td>3.0</td>\n",
       "      <td>6.0</td>\n",
       "      <td>0.0</td>\n",
       "      <td>0.0</td>\n",
       "      <td>0.0</td>\n",
       "      <td>0.0</td>\n",
       "      <td>0.0</td>\n",
       "      <td>0.0</td>\n",
       "      <td>0.0</td>\n",
       "      <td>0.0</td>\n",
       "      <td>0.0</td>\n",
       "      <td>0.0</td>\n",
       "      <td>0.0</td>\n",
       "      <td>0.0</td>\n",
       "      <td>0.0</td>\n",
       "      <td>0.0</td>\n",
       "      <td>0.0</td>\n",
       "      <td>76.095</td>\n",
       "    </tr>\n",
       "    <tr>\n",
       "      <th>acid_1</th>\n",
       "      <td>4.0</td>\n",
       "      <td>2.0</td>\n",
       "      <td>1.0</td>\n",
       "      <td>0.0</td>\n",
       "      <td>0.0</td>\n",
       "      <td>0.0</td>\n",
       "      <td>0.0</td>\n",
       "      <td>0.0</td>\n",
       "      <td>0.0</td>\n",
       "      <td>0.0</td>\n",
       "      <td>4.0</td>\n",
       "      <td>0.0</td>\n",
       "      <td>0.0</td>\n",
       "      <td>0.0</td>\n",
       "      <td>0.0</td>\n",
       "      <td>0.0</td>\n",
       "      <td>0.0</td>\n",
       "      <td>116.072</td>\n",
       "    </tr>\n",
       "    <tr>\n",
       "      <th>acid_2</th>\n",
       "      <td>6.0</td>\n",
       "      <td>8.0</td>\n",
       "      <td>0.0</td>\n",
       "      <td>0.0</td>\n",
       "      <td>0.0</td>\n",
       "      <td>0.0</td>\n",
       "      <td>0.0</td>\n",
       "      <td>0.0</td>\n",
       "      <td>0.0</td>\n",
       "      <td>0.0</td>\n",
       "      <td>4.0</td>\n",
       "      <td>0.0</td>\n",
       "      <td>0.0</td>\n",
       "      <td>0.0</td>\n",
       "      <td>0.0</td>\n",
       "      <td>0.0</td>\n",
       "      <td>0.0</td>\n",
       "      <td>146.142</td>\n",
       "    </tr>\n",
       "    <tr>\n",
       "      <th>acid_3</th>\n",
       "      <td>8.0</td>\n",
       "      <td>4.0</td>\n",
       "      <td>0.0</td>\n",
       "      <td>0.0</td>\n",
       "      <td>1.0</td>\n",
       "      <td>0.0</td>\n",
       "      <td>0.0</td>\n",
       "      <td>0.0</td>\n",
       "      <td>0.0</td>\n",
       "      <td>0.0</td>\n",
       "      <td>4.0</td>\n",
       "      <td>0.0</td>\n",
       "      <td>0.0</td>\n",
       "      <td>0.0</td>\n",
       "      <td>0.0</td>\n",
       "      <td>0.0</td>\n",
       "      <td>0.0</td>\n",
       "      <td>166.132</td>\n",
       "    </tr>\n",
       "    <tr>\n",
       "      <th>acid_4</th>\n",
       "      <td>9.0</td>\n",
       "      <td>12.0</td>\n",
       "      <td>0.0</td>\n",
       "      <td>0.0</td>\n",
       "      <td>0.0</td>\n",
       "      <td>0.0</td>\n",
       "      <td>0.0</td>\n",
       "      <td>0.0</td>\n",
       "      <td>0.0</td>\n",
       "      <td>0.0</td>\n",
       "      <td>4.0</td>\n",
       "      <td>0.0</td>\n",
       "      <td>0.0</td>\n",
       "      <td>0.0</td>\n",
       "      <td>1.0</td>\n",
       "      <td>0.0</td>\n",
       "      <td>0.0</td>\n",
       "      <td>186.207</td>\n",
       "    </tr>\n",
       "    <tr>\n",
       "      <th>acid_5</th>\n",
       "      <td>8.0</td>\n",
       "      <td>10.0</td>\n",
       "      <td>0.0</td>\n",
       "      <td>0.0</td>\n",
       "      <td>0.0</td>\n",
       "      <td>0.0</td>\n",
       "      <td>0.0</td>\n",
       "      <td>0.0</td>\n",
       "      <td>0.0</td>\n",
       "      <td>0.0</td>\n",
       "      <td>4.0</td>\n",
       "      <td>0.0</td>\n",
       "      <td>0.0</td>\n",
       "      <td>0.0</td>\n",
       "      <td>1.0</td>\n",
       "      <td>0.0</td>\n",
       "      <td>0.0</td>\n",
       "      <td>172.180</td>\n",
       "    </tr>\n",
       "    <tr>\n",
       "      <th>acid_6</th>\n",
       "      <td>5.0</td>\n",
       "      <td>4.0</td>\n",
       "      <td>1.0</td>\n",
       "      <td>0.0</td>\n",
       "      <td>0.0</td>\n",
       "      <td>0.0</td>\n",
       "      <td>0.0</td>\n",
       "      <td>0.0</td>\n",
       "      <td>0.0</td>\n",
       "      <td>0.0</td>\n",
       "      <td>4.0</td>\n",
       "      <td>0.0</td>\n",
       "      <td>0.0</td>\n",
       "      <td>0.0</td>\n",
       "      <td>0.0</td>\n",
       "      <td>0.0</td>\n",
       "      <td>0.0</td>\n",
       "      <td>130.099</td>\n",
       "    </tr>\n",
       "    <tr>\n",
       "      <th>acid_7</th>\n",
       "      <td>6.0</td>\n",
       "      <td>6.0</td>\n",
       "      <td>0.0</td>\n",
       "      <td>0.0</td>\n",
       "      <td>0.0</td>\n",
       "      <td>1.0</td>\n",
       "      <td>0.0</td>\n",
       "      <td>0.0</td>\n",
       "      <td>0.0</td>\n",
       "      <td>2.0</td>\n",
       "      <td>4.0</td>\n",
       "      <td>0.0</td>\n",
       "      <td>0.0</td>\n",
       "      <td>0.0</td>\n",
       "      <td>0.0</td>\n",
       "      <td>0.0</td>\n",
       "      <td>0.0</td>\n",
       "      <td>192.123</td>\n",
       "    </tr>\n",
       "    <tr>\n",
       "      <th>acid_8</th>\n",
       "      <td>9.0</td>\n",
       "      <td>4.0</td>\n",
       "      <td>0.0</td>\n",
       "      <td>0.0</td>\n",
       "      <td>1.0</td>\n",
       "      <td>0.0</td>\n",
       "      <td>0.0</td>\n",
       "      <td>0.0</td>\n",
       "      <td>0.0</td>\n",
       "      <td>2.0</td>\n",
       "      <td>4.0</td>\n",
       "      <td>0.0</td>\n",
       "      <td>0.0</td>\n",
       "      <td>0.0</td>\n",
       "      <td>0.0</td>\n",
       "      <td>0.0</td>\n",
       "      <td>0.0</td>\n",
       "      <td>210.141</td>\n",
       "    </tr>\n",
       "    <tr>\n",
       "      <th>acid_9</th>\n",
       "      <td>8.0</td>\n",
       "      <td>4.0</td>\n",
       "      <td>0.0</td>\n",
       "      <td>0.0</td>\n",
       "      <td>1.0</td>\n",
       "      <td>0.0</td>\n",
       "      <td>0.0</td>\n",
       "      <td>0.0</td>\n",
       "      <td>0.0</td>\n",
       "      <td>0.0</td>\n",
       "      <td>4.0</td>\n",
       "      <td>0.0</td>\n",
       "      <td>0.0</td>\n",
       "      <td>0.0</td>\n",
       "      <td>0.0</td>\n",
       "      <td>0.0</td>\n",
       "      <td>0.0</td>\n",
       "      <td>166.132</td>\n",
       "    </tr>\n",
       "  </tbody>\n",
       "</table>\n",
       "</div>"
      ],
      "text/plain": [
       "            C     H  C=C  C#C   Ar  O-alc  O-eth  O-ald  O-ket  O-acid  \\\n",
       "diol_1   12.0  18.0  0.0  0.0  0.0    0.0    0.0    0.0    0.0     0.0   \n",
       "diol_2    8.0  14.0  0.0  0.0  0.0    0.0    0.0    0.0    0.0     0.0   \n",
       "diol_3   15.0  26.0  0.0  0.0  0.0    0.0    0.0    0.0    0.0     0.0   \n",
       "diol_4    9.0  18.0  0.0  0.0  0.0    0.0    0.0    0.0    0.0     0.0   \n",
       "diol_5    8.0  16.0  0.0  0.0  0.0    0.0    0.0    0.0    0.0     0.0   \n",
       "diol_7    5.0  10.0  0.0  0.0  0.0    0.0    0.0    0.0    0.0     0.0   \n",
       "diol_8   14.0  24.0  0.0  1.0  0.0    0.0    0.0    0.0    0.0     0.0   \n",
       "diol_9   14.0  24.0  0.0  1.0  0.0    0.0    0.0    0.0    0.0     0.0   \n",
       "diol_10   5.0  10.0  0.0  0.0  0.0    3.0    0.0    0.0    0.0     0.0   \n",
       "diol_11   6.0  10.0  0.0  0.0  0.0    0.0    0.0    0.0    0.0     0.0   \n",
       "diol_12   9.0  18.0  0.0  0.0  0.0    0.0    0.0    0.0    0.0     0.0   \n",
       "diol_14   3.0   6.0  0.0  0.0  0.0    0.0    0.0    0.0    0.0     0.0   \n",
       "acid_1    4.0   2.0  1.0  0.0  0.0    0.0    0.0    0.0    0.0     0.0   \n",
       "acid_2    6.0   8.0  0.0  0.0  0.0    0.0    0.0    0.0    0.0     0.0   \n",
       "acid_3    8.0   4.0  0.0  0.0  1.0    0.0    0.0    0.0    0.0     0.0   \n",
       "acid_4    9.0  12.0  0.0  0.0  0.0    0.0    0.0    0.0    0.0     0.0   \n",
       "acid_5    8.0  10.0  0.0  0.0  0.0    0.0    0.0    0.0    0.0     0.0   \n",
       "acid_6    5.0   4.0  1.0  0.0  0.0    0.0    0.0    0.0    0.0     0.0   \n",
       "acid_7    6.0   6.0  0.0  0.0  0.0    1.0    0.0    0.0    0.0     2.0   \n",
       "acid_8    9.0   4.0  0.0  0.0  1.0    0.0    0.0    0.0    0.0     2.0   \n",
       "acid_9    8.0   4.0  0.0  0.0  1.0    0.0    0.0    0.0    0.0     0.0   \n",
       "\n",
       "         O-ester   R3   R4   R5   R6   R7   R8        M  \n",
       "diol_1       0.0  0.0  0.0  3.0  0.0  0.0  0.0  196.290  \n",
       "diol_2       0.0  0.0  0.0  0.0  1.0  0.0  0.0  144.214  \n",
       "diol_3       0.0  0.0  0.0  0.0  2.0  0.0  0.0  240.387  \n",
       "diol_4       0.0  0.0  0.0  0.0  0.0  0.0  0.0  160.257  \n",
       "diol_5       0.0  0.0  0.0  0.0  0.0  0.0  0.0  146.230  \n",
       "diol_7       0.0  0.0  0.0  0.0  0.0  0.0  0.0  104.149  \n",
       "diol_8       0.0  0.0  0.0  0.0  0.0  0.0  0.0  226.360  \n",
       "diol_9       0.0  0.0  0.0  0.0  0.0  0.0  0.0  226.360  \n",
       "diol_10      0.0  0.0  0.0  0.0  0.0  0.0  0.0  152.146  \n",
       "diol_11      0.0  0.0  0.0  0.0  1.0  0.0  0.0  116.160  \n",
       "diol_12      0.0  0.0  0.0  0.0  0.0  0.0  0.0  160.257  \n",
       "diol_14      0.0  0.0  0.0  0.0  0.0  0.0  0.0   76.095  \n",
       "acid_1       4.0  0.0  0.0  0.0  0.0  0.0  0.0  116.072  \n",
       "acid_2       4.0  0.0  0.0  0.0  0.0  0.0  0.0  146.142  \n",
       "acid_3       4.0  0.0  0.0  0.0  0.0  0.0  0.0  166.132  \n",
       "acid_4       4.0  0.0  0.0  0.0  1.0  0.0  0.0  186.207  \n",
       "acid_5       4.0  0.0  0.0  0.0  1.0  0.0  0.0  172.180  \n",
       "acid_6       4.0  0.0  0.0  0.0  0.0  0.0  0.0  130.099  \n",
       "acid_7       4.0  0.0  0.0  0.0  0.0  0.0  0.0  192.123  \n",
       "acid_8       4.0  0.0  0.0  0.0  0.0  0.0  0.0  210.141  \n",
       "acid_9       4.0  0.0  0.0  0.0  0.0  0.0  0.0  166.132  "
      ]
     },
     "execution_count": 64,
     "metadata": {},
     "output_type": "execute_result"
    }
   ],
   "source": [
    "df_test = pd.read_csv('../data/polyesters.csv')\n",
    "df_diols_fe1 = pd.read_csv('../data/df_diols_fe1.csv', index_col=0)\n",
    "df_acids_fe1 = pd.read_csv('../data/df_acids_fe1.csv', index_col=0)\n",
    "\n",
    "# correcting 'H', O-alc', 'O-acid' and 'O-ester' by subtracting atom/functional group loss from condensation\n",
    "# TODO: make a function for this procedure\n",
    "df_diols_fe0['H'] -= 2\n",
    "df_acids_fe0['H'] -= 2\n",
    "df_diols_fe0['O-alc'] -= 2\n",
    "df_acids_fe0['O-acid'] -= 4\n",
    "df_acids_fe0['O-ester'] += 4\n",
    "\n",
    "df_monomers_fe0 = pd.concat([df_diols_fe0, df_acids_fe0])\n",
    "df_monomers_fe0"
   ]
  },
  {
   "cell_type": "code",
   "execution_count": 65,
   "metadata": {},
   "outputs": [],
   "source": [
    "monomers = df_test.columns[df_test.columns.str.contains('diol|acid')]\n",
    "features = df_monomers_fe0.columns"
   ]
  },
  {
   "cell_type": "code",
   "execution_count": 66,
   "metadata": {},
   "outputs": [
    {
     "name": "stdout",
     "output_type": "stream",
     "text": [
      "         C       H    C=C  C#C     Ar  O-alc  O-eth  O-ald  O-ket  O-acid  \\\n",
      "0    7.206   9.128  0.149  0.0  0.249    0.0    0.0    0.0    0.0   0.000   \n",
      "1   10.749  15.212  0.149  0.0  0.248    0.0    0.0    0.0    0.0   0.000   \n",
      "2   10.238  16.178  0.149  0.0  0.000    0.0    0.0    0.0    0.0   0.000   \n",
      "3   10.131  15.776  0.243  0.0  0.000    0.0    0.0    0.0    0.0   0.000   \n",
      "4    7.037  11.620  0.245  0.0  0.000    0.0    0.0    0.0    0.0   0.000   \n",
      "5    6.528  10.602  0.245  0.0  0.000    0.0    0.0    0.0    0.0   0.000   \n",
      "6    5.001   7.538  0.246  0.0  0.000    0.0    0.0    0.0    0.0   0.000   \n",
      "7    6.540   9.630  0.242  0.0  0.000    0.0    0.0    0.0    0.0   0.000   \n",
      "8    6.520   9.560  0.247  0.0  0.000    0.0    0.0    0.0    0.0   0.000   \n",
      "9    6.118   8.364  0.444  0.0  0.000    0.0    0.0    0.0    0.0   0.000   \n",
      "10   4.603   6.334  0.446  0.0  0.000    0.0    0.0    0.0    0.0   0.000   \n",
      "11   8.544  11.586  0.246  0.0  0.000    0.0    0.0    0.0    0.0   0.000   \n",
      "12   8.544  11.586  0.246  0.0  0.000    0.0    0.0    0.0    0.0   0.000   \n",
      "13   9.396  10.842  0.163  0.0  0.325    0.0    0.0    0.0    0.0   0.000   \n",
      "14   8.864  12.176  0.224  0.0  0.000    0.0    0.0    0.0    0.0   0.000   \n",
      "15   6.375   9.500  0.200  0.0  0.000    0.0    0.0    0.0    0.0   0.000   \n",
      "16   4.440   4.560  0.240  0.0  0.240    0.0    0.0    0.0    0.0   0.000   \n",
      "17   8.504  10.962  0.226  0.0  0.083    0.0    0.0    0.0    0.0   0.000   \n",
      "18   9.011  11.936  0.200  0.0  0.061    0.0    0.0    0.0    0.0   0.122   \n",
      "\n",
      "    O-ester   R3   R4     R5     R6   R7   R8           M  \n",
      "0     1.988  0.0  0.0  0.000  0.503  0.0  0.0  145.669296  \n",
      "1     1.984  0.0  0.0  0.000  1.010  0.0  0.0  194.358957  \n",
      "2     1.984  0.0  0.0  0.000  1.008  0.0  0.0  189.161050  \n",
      "3     1.948  0.0  0.0  0.000  1.026  0.0  0.0  187.182675  \n",
      "4     1.964  0.0  0.0  0.000  0.000  0.0  0.0  145.959385  \n",
      "5     1.964  0.0  0.0  0.000  0.000  0.0  0.0  138.819642  \n",
      "6     1.972  0.0  0.0  0.000  0.000  0.0  0.0  117.454329  \n",
      "7     1.936  0.0  0.0  0.000  0.515  0.0  0.0  137.725998  \n",
      "8     1.972  0.0  0.0  0.000  0.507  0.0  0.0  137.737214  \n",
      "9     1.972  0.0  0.0  0.000  0.506  0.0  0.0  131.669210  \n",
      "10    1.980  0.0  0.0  0.000  0.000  0.0  0.0  111.524315  \n",
      "11    1.968  0.0  0.0  1.521  0.000  0.0  0.0  164.023674  \n",
      "12    1.968  0.0  0.0  1.521  0.000  0.0  0.0  164.023674  \n",
      "13    1.952  0.0  0.0  1.536  0.000  0.0  0.0  173.413116  \n",
      "14    1.792  0.0  0.0  1.656  0.000  0.0  0.0  167.088016  \n",
      "15    2.000  0.0  0.0  0.000  0.425  0.0  0.0  136.159125  \n",
      "16    1.920  0.0  0.0  0.000  0.000  0.0  0.0  107.298360  \n",
      "17    2.140  0.0  0.0  1.395  0.000  0.0  0.0  164.324170  \n",
      "18    1.848  0.0  0.0  1.614  0.000  0.0  0.0  171.011563  \n"
     ]
    }
   ],
   "source": [
    "df_test_fe0 = avg_monomer_features(df_test, df_monomers_fe0, monomers, features)\n",
    "print(df_test_fe0)\n",
    "st_test = df_test['measured_st']"
   ]
  },
  {
   "cell_type": "markdown",
   "metadata": {},
   "source": [
    "### TEST 0 - Prediction with parachor method"
   ]
  },
  {
   "cell_type": "code",
   "execution_count": 67,
   "metadata": {},
   "outputs": [
    {
     "data": {
      "text/plain": [
       "array([12.03455145, 11.81531693, 11.42981776, 11.40622805, 11.08753739,\n",
       "       11.13028412, 11.31829605, 11.44421772, 11.53186445, 11.65907188,\n",
       "       11.47059154, 11.37010718, 11.37010718, 11.89648433, 10.99468402,\n",
       "       11.54136187, 11.98715467, 11.88977426, 11.19826287])"
      ]
     },
     "execution_count": 67,
     "metadata": {},
     "output_type": "execute_result"
    }
   ],
   "source": [
    "X_test0 = df_test_fe0[df_test_fe0.columns.difference(['M']+features_exclude)]\n",
    "mv_hat_test0 = lm_mv.predict(X_test0)\n",
    "mv_hat_test0\n",
    "y_hat_test0 = lm0.predict(X_test0)\n",
    "(y_hat_test0/mv_hat_test0)**n"
   ]
  },
  {
   "cell_type": "code",
   "execution_count": 68,
   "metadata": {},
   "outputs": [
    {
     "data": {
      "text/plain": [
       "Text(0.5, 1.0, 'Linear Model 0\\nTest')"
      ]
     },
     "execution_count": 68,
     "metadata": {},
     "output_type": "execute_result"
    },
    {
     "data": {
      "image/png": "[encoded data removed]",
      "text/plain": [
       "<Figure size 432x288 with 1 Axes>"
      ]
     },
     "metadata": {
      "needs_background": "light"
     },
     "output_type": "display_data"
    }
   ],
   "source": [
    "sns.scatterplot((y_hat_test0/mv_hat_test0)**n, st_test)\n",
    "plt.xlabel('predicted surface tension')\n",
    "plt.ylabel('measured surface tension')\n",
    "plt.title('Linear Model 0\\nTest', {'fontsize': 12, 'weight': 'bold'})"
   ]
  },
  {
   "cell_type": "markdown",
   "metadata": {},
   "source": [
    "### TEST 1 - Prediction with M-normalization method"
   ]
  },
  {
   "cell_type": "code",
   "execution_count": 69,
   "metadata": {},
   "outputs": [
    {
     "data": {
      "text/plain": [
       "array([-9.67047684e+14, -1.06963688e+15, -1.08776185e+15, -1.08944664e+15,\n",
       "       -1.00807949e+15, -9.88551738e+14, -9.11567613e+14, -9.89658537e+14,\n",
       "       -9.83006581e+14, -9.63636374e+14, -8.82137070e+14, -1.04614490e+15,\n",
       "       -1.04614490e+15, -1.02825344e+15, -1.07840268e+15, -9.73190508e+14,\n",
       "       -8.27236174e+14, -1.01040809e+15, -1.07098374e+15])"
      ]
     },
     "execution_count": 69,
     "metadata": {},
     "output_type": "execute_result"
    }
   ],
   "source": [
    "X_test1 = (df_test_fe0[df_test_fe0.columns.difference(['M']+features_exclude)]\n",
    "           .divide(df_test_fe0['M']-18, axis=0))\n",
    "y_hat_test1 = lm1.predict(X_test1)\n",
    "y_hat_test1"
   ]
  },
  {
   "cell_type": "code",
   "execution_count": 70,
   "metadata": {},
   "outputs": [
    {
     "data": {
      "text/plain": [
       "Text(0.5, 1.0, 'Linear Model 1\\nTest')"
      ]
     },
     "execution_count": 70,
     "metadata": {},
     "output_type": "execute_result"
    },
    {
     "data": {
      "image/png": "[encoded data removed]",
      "text/plain": [
       "<Figure size 432x288 with 1 Axes>"
      ]
     },
     "metadata": {
      "needs_background": "light"
     },
     "output_type": "display_data"
    }
   ],
   "source": [
    "sns.scatterplot(y_hat_test1, st_test)\n",
    "plt.xlabel('predicted surface tension')\n",
    "plt.ylabel('measured surface tension')\n",
    "plt.title('Linear Model 1\\nTest', {'fontsize': 12, 'weight': 'bold'})"
   ]
  },
  {
   "cell_type": "markdown",
   "metadata": {},
   "source": [
    "### Linear model - mvpolym\n",
    "\n",
    "Approximation of molar volume with **polymer** data from literature"
   ]
  },
  {
   "cell_type": "code",
   "execution_count": 32,
   "metadata": {},
   "outputs": [
    {
     "data": {
      "text/plain": [
       "23"
      ]
     },
     "execution_count": 32,
     "metadata": {},
     "output_type": "execute_result"
    }
   ],
   "source": [
    "df_mvpolym_fe1 = pd.read_csv('../data/df_mvpolym_fe1_manual.csv', index_col=0)\n",
    "len(df_mvpolym_fe1)"
   ]
  },
  {
   "cell_type": "code",
   "execution_count": 33,
   "metadata": {},
   "outputs": [
    {
     "name": "stdout",
     "output_type": "stream",
     "text": [
      "explained_variance:  0.9821\n",
      "mean_squared_log_error:  0.0437\n",
      "r2:  0.9821\n",
      "MAE:  5.2113\n",
      "MSE:  42.1892\n",
      "RMSE:  6.4953\n"
     ]
    }
   ],
   "source": [
    "features_exclude_from_mv = features_exclude + ['C-ring', 'CH-ring', 'CH2-ring', 'C#C', 'OH', 'CHO', 'CO', 'COOH']\n",
    "df_mvpolym_fe1 = df_mvpolym_fe1[df_mvpolym_fe1[features_exclude_from_mv].sum(axis=1) == 0]\n",
    "\n",
    "X_mvpolym = df_mvpolym_fe1.drop(['M', 'type', 'polymer', 'measured_mv', 'measured_mv_scaled', 'ru']+features_exclude_from_mv, axis=1)\n",
    "y_mvpolym = df_mvpolym_fe1['measured_mv_scaled']\n",
    "lm_mvpolym = LinearRegression()\n",
    "lm_mvpolym.fit(X_mvpolym, y_mvpolym)\n",
    "\n",
    "y_hat_mvpolym = pd.Series(lm_mvpolym.predict(X_mvpolym), index=y_mvpolym.index)\n",
    "regression_results(y_mvpolym, y_hat_mvpolym)"
   ]
  },
  {
   "cell_type": "code",
   "execution_count": 34,
   "metadata": {},
   "outputs": [
    {
     "name": "stdout",
     "output_type": "stream",
     "text": [
      "                         name      y      y_hat\n",
      "6       poly(4-methylstyrene)  62.60  74.563514\n",
      "1             polyisobutylene  30.70  19.234374\n",
      "14  poly(methyl methacrylate)  42.05  53.515626\n",
      "13      poly(propylene oxide)  29.05  18.064434\n",
      "2               polypropylene  24.70  16.385978\n"
     ]
    },
    {
     "data": {
      "image/png": "[encoded data removed]",
      "text/plain": [
       "<Figure size 432x288 with 1 Axes>"
      ]
     },
     "metadata": {
      "needs_background": "light"
     },
     "output_type": "display_data"
    }
   ],
   "source": [
    "# plotting results with custom function\n",
    "plot_results(y_mvpolym, y_hat_mvpolym, df_mvpolym_fe1['polymer'], 5,\n",
    "             'fe1 linear model mvpolym\\non polymers dataset', 'predicted molar volume', 'measured molar volume')"
   ]
  },
  {
   "cell_type": "markdown",
   "metadata": {},
   "source": [
    "### Linear model mv trained on organic liquids to predict polymer molar volume"
   ]
  },
  {
   "cell_type": "code",
   "execution_count": 36,
   "metadata": {},
   "outputs": [
    {
     "name": "stdout",
     "output_type": "stream",
     "text": [
      "explained_variance:  0.6808\n",
      "mean_squared_log_error:  0.7046\n",
      "r2:  -0.7425\n",
      "MAE:  45.3819\n",
      "MSE:  2521.3353\n",
      "RMSE:  50.2129\n"
     ]
    }
   ],
   "source": [
    "X_mvpolym2 = df_mvpolym_fe1.drop(['M', 'type', 'polymer', 'measured_mv', 'measured_mv_scaled', 'ru']+features_exclude, axis=1)\n",
    "y_hat_mvpolym2 = pd.Series(lm_mv.predict(X_mvpolym2), index=X_mvpolym2.index)\n",
    "regression_results(y_hat_mvpolym2, df_mvpolym_fe1['measured_mv_scaled'])"
   ]
  },
  {
   "cell_type": "code",
   "execution_count": 37,
   "metadata": {},
   "outputs": [
    {
     "name": "stdout",
     "output_type": "stream",
     "text": [
      "                         name      y       y_hat\n",
      "10    poly(butyl vinyl ether)  54.40  132.141584\n",
      "6       poly(4-methylstyrene)  62.60  137.450323\n",
      "14  poly(methyl methacrylate)  42.05  112.707884\n",
      "5                 polystyrene  50.00  119.697075\n",
      "8             poly(1-pentene)  41.25  110.087894\n"
     ]
    },
    {
     "data": {
      "image/png": "[encoded data removed]",
      "text/plain": [
       "<Figure size 432x288 with 1 Axes>"
      ]
     },
     "metadata": {
      "needs_background": "light"
     },
     "output_type": "display_data"
    }
   ],
   "source": [
    "# plotting results with custom function\n",
    "plot_results(y_mvpolym, y_hat_mvpolym2, df_mvpolym_fe1['polymer'], 5,\n",
    "             'fe1 linear model mvpolym\\non polymers dataset', 'predicted molar volume', 'measured molar volume')"
   ]
  },
  {
   "cell_type": "markdown",
   "metadata": {},
   "source": [
    "### Linear model mv trained on organic liquids to predict polymer molar volume (polyester only)"
   ]
  },
  {
   "cell_type": "code",
   "execution_count": 39,
   "metadata": {},
   "outputs": [
    {
     "name": "stdout",
     "output_type": "stream",
     "text": [
      "explained_variance:  0.982\n",
      "mean_squared_log_error:  0.0297\n",
      "r2:  0.684\n",
      "MAE:  20.2055\n",
      "MSE:  432.9271\n",
      "RMSE:  20.8069\n"
     ]
    }
   ],
   "source": [
    "df_mvpolym_polyester_fe1 = df_mvpolym_fe1[df_mvpolym_fe1['type'] == 'polyester']\n",
    "X_mvpolym3 = (df_mvpolym_polyester_fe1\n",
    "              .drop(['M', 'type', 'polymer', 'measured_mv', 'measured_mv_scaled', 'ru']+features_exclude, axis=1))\n",
    "y_hat_mvpolym3 = pd.Series(lm_mv.predict(X_mvpolym3), index=X_mvpolym3.index)\n",
    "regression_results(y_hat_mvpolym3, df_mvpolym_polyester_fe1['measured_mv_scaled'])"
   ]
  },
  {
   "cell_type": "code",
   "execution_count": 40,
   "metadata": {},
   "outputs": [
    {
     "name": "stdout",
     "output_type": "stream",
     "text": [
      "Empty DataFrame\n",
      "Columns: [name, y, y_hat]\n",
      "Index: []\n"
     ]
    },
    {
     "data": {
      "image/png": "[encoded data removed]",
      "text/plain": [
       "<Figure size 432x288 with 1 Axes>"
      ]
     },
     "metadata": {
      "needs_background": "light"
     },
     "output_type": "display_data"
    }
   ],
   "source": [
    "# plotting results with custom function\n",
    "plot_results(df_mvpolym_polyester_fe1['measured_mv_scaled'], y_hat_mvpolym3, df_mvpolym_polyester_fe1['polymer'], 0,\n",
    "             'fe1 linear model mv\\non polymers dataset (polyesters only)', 'predicted molar volume', 'measured molar volume')"
   ]
  },
  {
   "cell_type": "code",
   "execution_count": null,
   "metadata": {},
   "outputs": [],
   "source": []
  }
 ],
 "metadata": {
  "kernelspec": {
   "display_name": "Python 3",
   "language": "python",
   "name": "python3"
  },
  "language_info": {
   "codemirror_mode": {
    "name": "ipython",
    "version": 3
   },
   "file_extension": ".py",
   "mimetype": "text/x-python",
   "name": "python",
   "nbconvert_exporter": "python",
   "pygments_lexer": "ipython3",
   "version": "3.7.7"
  }
 },
 "nbformat": 4,
 "nbformat_minor": 4
}
